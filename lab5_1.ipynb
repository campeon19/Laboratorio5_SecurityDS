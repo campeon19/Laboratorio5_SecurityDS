{
 "cells": [
  {
   "cell_type": "code",
   "execution_count": 12,
   "metadata": {},
   "outputs": [],
   "source": [
    "from scapy.all import * # Packet manipulation\n",
    "import pandas as pd # Pandas - Create and Manipulate DataFrames\n",
    "import numpy as np # Math Stuff (don't worry only used for one line :] )\n",
    "import binascii # Binary to Ascii \n",
    "import seaborn as sns\n",
    "sns.set(color_codes=True)\n",
    "%matplotlib inline"
   ]
  },
  {
   "cell_type": "code",
   "execution_count": 13,
   "metadata": {},
   "outputs": [
    {
     "ename": "FileNotFoundError",
     "evalue": "[Errno 2] No such file or directory: 'analisis_paquetes.csv'",
     "output_type": "error",
     "traceback": [
      "\u001b[1;31m---------------------------------------------------------------------------\u001b[0m",
      "\u001b[1;31mFileNotFoundError\u001b[0m                         Traceback (most recent call last)",
      "\u001b[1;32mc:\\Users\\andre\\Documents\\Gitkraken\\Laboratorio5_SecurityDS\\lab5_1.ipynb Cell 2\u001b[0m in \u001b[0;36m<cell line: 1>\u001b[1;34m()\u001b[0m\n\u001b[1;32m----> <a href='vscode-notebook-cell:/c%3A/Users/andre/Documents/Gitkraken/Laboratorio5_SecurityDS/lab5_1.ipynb#W1sZmlsZQ%3D%3D?line=0'>1</a>\u001b[0m df \u001b[39m=\u001b[39m pd\u001b[39m.\u001b[39;49mread_csv(\u001b[39m'\u001b[39;49m\u001b[39manalisis_paquetes.csv\u001b[39;49m\u001b[39m'\u001b[39;49m)\n\u001b[0;32m      <a href='vscode-notebook-cell:/c%3A/Users/andre/Documents/Gitkraken/Laboratorio5_SecurityDS/lab5_1.ipynb#W1sZmlsZQ%3D%3D?line=1'>2</a>\u001b[0m df\u001b[39m.\u001b[39mhead()\n",
      "File \u001b[1;32m~\\AppData\\Local\\Packages\\PythonSoftwareFoundation.Python.3.9_qbz5n2kfra8p0\\LocalCache\\local-packages\\Python39\\site-packages\\pandas\\util\\_decorators.py:311\u001b[0m, in \u001b[0;36mdeprecate_nonkeyword_arguments.<locals>.decorate.<locals>.wrapper\u001b[1;34m(*args, **kwargs)\u001b[0m\n\u001b[0;32m    305\u001b[0m \u001b[39mif\u001b[39;00m \u001b[39mlen\u001b[39m(args) \u001b[39m>\u001b[39m num_allow_args:\n\u001b[0;32m    306\u001b[0m     warnings\u001b[39m.\u001b[39mwarn(\n\u001b[0;32m    307\u001b[0m         msg\u001b[39m.\u001b[39mformat(arguments\u001b[39m=\u001b[39marguments),\n\u001b[0;32m    308\u001b[0m         \u001b[39mFutureWarning\u001b[39;00m,\n\u001b[0;32m    309\u001b[0m         stacklevel\u001b[39m=\u001b[39mstacklevel,\n\u001b[0;32m    310\u001b[0m     )\n\u001b[1;32m--> 311\u001b[0m \u001b[39mreturn\u001b[39;00m func(\u001b[39m*\u001b[39margs, \u001b[39m*\u001b[39m\u001b[39m*\u001b[39mkwargs)\n",
      "File \u001b[1;32m~\\AppData\\Local\\Packages\\PythonSoftwareFoundation.Python.3.9_qbz5n2kfra8p0\\LocalCache\\local-packages\\Python39\\site-packages\\pandas\\io\\parsers\\readers.py:678\u001b[0m, in \u001b[0;36mread_csv\u001b[1;34m(filepath_or_buffer, sep, delimiter, header, names, index_col, usecols, squeeze, prefix, mangle_dupe_cols, dtype, engine, converters, true_values, false_values, skipinitialspace, skiprows, skipfooter, nrows, na_values, keep_default_na, na_filter, verbose, skip_blank_lines, parse_dates, infer_datetime_format, keep_date_col, date_parser, dayfirst, cache_dates, iterator, chunksize, compression, thousands, decimal, lineterminator, quotechar, quoting, doublequote, escapechar, comment, encoding, encoding_errors, dialect, error_bad_lines, warn_bad_lines, on_bad_lines, delim_whitespace, low_memory, memory_map, float_precision, storage_options)\u001b[0m\n\u001b[0;32m    663\u001b[0m kwds_defaults \u001b[39m=\u001b[39m _refine_defaults_read(\n\u001b[0;32m    664\u001b[0m     dialect,\n\u001b[0;32m    665\u001b[0m     delimiter,\n\u001b[1;32m   (...)\u001b[0m\n\u001b[0;32m    674\u001b[0m     defaults\u001b[39m=\u001b[39m{\u001b[39m\"\u001b[39m\u001b[39mdelimiter\u001b[39m\u001b[39m\"\u001b[39m: \u001b[39m\"\u001b[39m\u001b[39m,\u001b[39m\u001b[39m\"\u001b[39m},\n\u001b[0;32m    675\u001b[0m )\n\u001b[0;32m    676\u001b[0m kwds\u001b[39m.\u001b[39mupdate(kwds_defaults)\n\u001b[1;32m--> 678\u001b[0m \u001b[39mreturn\u001b[39;00m _read(filepath_or_buffer, kwds)\n",
      "File \u001b[1;32m~\\AppData\\Local\\Packages\\PythonSoftwareFoundation.Python.3.9_qbz5n2kfra8p0\\LocalCache\\local-packages\\Python39\\site-packages\\pandas\\io\\parsers\\readers.py:575\u001b[0m, in \u001b[0;36m_read\u001b[1;34m(filepath_or_buffer, kwds)\u001b[0m\n\u001b[0;32m    572\u001b[0m _validate_names(kwds\u001b[39m.\u001b[39mget(\u001b[39m\"\u001b[39m\u001b[39mnames\u001b[39m\u001b[39m\"\u001b[39m, \u001b[39mNone\u001b[39;00m))\n\u001b[0;32m    574\u001b[0m \u001b[39m# Create the parser.\u001b[39;00m\n\u001b[1;32m--> 575\u001b[0m parser \u001b[39m=\u001b[39m TextFileReader(filepath_or_buffer, \u001b[39m*\u001b[39m\u001b[39m*\u001b[39mkwds)\n\u001b[0;32m    577\u001b[0m \u001b[39mif\u001b[39;00m chunksize \u001b[39mor\u001b[39;00m iterator:\n\u001b[0;32m    578\u001b[0m     \u001b[39mreturn\u001b[39;00m parser\n",
      "File \u001b[1;32m~\\AppData\\Local\\Packages\\PythonSoftwareFoundation.Python.3.9_qbz5n2kfra8p0\\LocalCache\\local-packages\\Python39\\site-packages\\pandas\\io\\parsers\\readers.py:932\u001b[0m, in \u001b[0;36mTextFileReader.__init__\u001b[1;34m(self, f, engine, **kwds)\u001b[0m\n\u001b[0;32m    929\u001b[0m     \u001b[39mself\u001b[39m\u001b[39m.\u001b[39moptions[\u001b[39m\"\u001b[39m\u001b[39mhas_index_names\u001b[39m\u001b[39m\"\u001b[39m] \u001b[39m=\u001b[39m kwds[\u001b[39m\"\u001b[39m\u001b[39mhas_index_names\u001b[39m\u001b[39m\"\u001b[39m]\n\u001b[0;32m    931\u001b[0m \u001b[39mself\u001b[39m\u001b[39m.\u001b[39mhandles: IOHandles \u001b[39m|\u001b[39m \u001b[39mNone\u001b[39;00m \u001b[39m=\u001b[39m \u001b[39mNone\u001b[39;00m\n\u001b[1;32m--> 932\u001b[0m \u001b[39mself\u001b[39m\u001b[39m.\u001b[39m_engine \u001b[39m=\u001b[39m \u001b[39mself\u001b[39;49m\u001b[39m.\u001b[39;49m_make_engine(f, \u001b[39mself\u001b[39;49m\u001b[39m.\u001b[39;49mengine)\n",
      "File \u001b[1;32m~\\AppData\\Local\\Packages\\PythonSoftwareFoundation.Python.3.9_qbz5n2kfra8p0\\LocalCache\\local-packages\\Python39\\site-packages\\pandas\\io\\parsers\\readers.py:1216\u001b[0m, in \u001b[0;36mTextFileReader._make_engine\u001b[1;34m(self, f, engine)\u001b[0m\n\u001b[0;32m   1212\u001b[0m     mode \u001b[39m=\u001b[39m \u001b[39m\"\u001b[39m\u001b[39mrb\u001b[39m\u001b[39m\"\u001b[39m\n\u001b[0;32m   1213\u001b[0m \u001b[39m# error: No overload variant of \"get_handle\" matches argument types\u001b[39;00m\n\u001b[0;32m   1214\u001b[0m \u001b[39m# \"Union[str, PathLike[str], ReadCsvBuffer[bytes], ReadCsvBuffer[str]]\"\u001b[39;00m\n\u001b[0;32m   1215\u001b[0m \u001b[39m# , \"str\", \"bool\", \"Any\", \"Any\", \"Any\", \"Any\", \"Any\"\u001b[39;00m\n\u001b[1;32m-> 1216\u001b[0m \u001b[39mself\u001b[39m\u001b[39m.\u001b[39mhandles \u001b[39m=\u001b[39m get_handle(  \u001b[39m# type: ignore[call-overload]\u001b[39;49;00m\n\u001b[0;32m   1217\u001b[0m     f,\n\u001b[0;32m   1218\u001b[0m     mode,\n\u001b[0;32m   1219\u001b[0m     encoding\u001b[39m=\u001b[39;49m\u001b[39mself\u001b[39;49m\u001b[39m.\u001b[39;49moptions\u001b[39m.\u001b[39;49mget(\u001b[39m\"\u001b[39;49m\u001b[39mencoding\u001b[39;49m\u001b[39m\"\u001b[39;49m, \u001b[39mNone\u001b[39;49;00m),\n\u001b[0;32m   1220\u001b[0m     compression\u001b[39m=\u001b[39;49m\u001b[39mself\u001b[39;49m\u001b[39m.\u001b[39;49moptions\u001b[39m.\u001b[39;49mget(\u001b[39m\"\u001b[39;49m\u001b[39mcompression\u001b[39;49m\u001b[39m\"\u001b[39;49m, \u001b[39mNone\u001b[39;49;00m),\n\u001b[0;32m   1221\u001b[0m     memory_map\u001b[39m=\u001b[39;49m\u001b[39mself\u001b[39;49m\u001b[39m.\u001b[39;49moptions\u001b[39m.\u001b[39;49mget(\u001b[39m\"\u001b[39;49m\u001b[39mmemory_map\u001b[39;49m\u001b[39m\"\u001b[39;49m, \u001b[39mFalse\u001b[39;49;00m),\n\u001b[0;32m   1222\u001b[0m     is_text\u001b[39m=\u001b[39;49mis_text,\n\u001b[0;32m   1223\u001b[0m     errors\u001b[39m=\u001b[39;49m\u001b[39mself\u001b[39;49m\u001b[39m.\u001b[39;49moptions\u001b[39m.\u001b[39;49mget(\u001b[39m\"\u001b[39;49m\u001b[39mencoding_errors\u001b[39;49m\u001b[39m\"\u001b[39;49m, \u001b[39m\"\u001b[39;49m\u001b[39mstrict\u001b[39;49m\u001b[39m\"\u001b[39;49m),\n\u001b[0;32m   1224\u001b[0m     storage_options\u001b[39m=\u001b[39;49m\u001b[39mself\u001b[39;49m\u001b[39m.\u001b[39;49moptions\u001b[39m.\u001b[39;49mget(\u001b[39m\"\u001b[39;49m\u001b[39mstorage_options\u001b[39;49m\u001b[39m\"\u001b[39;49m, \u001b[39mNone\u001b[39;49;00m),\n\u001b[0;32m   1225\u001b[0m )\n\u001b[0;32m   1226\u001b[0m \u001b[39massert\u001b[39;00m \u001b[39mself\u001b[39m\u001b[39m.\u001b[39mhandles \u001b[39mis\u001b[39;00m \u001b[39mnot\u001b[39;00m \u001b[39mNone\u001b[39;00m\n\u001b[0;32m   1227\u001b[0m f \u001b[39m=\u001b[39m \u001b[39mself\u001b[39m\u001b[39m.\u001b[39mhandles\u001b[39m.\u001b[39mhandle\n",
      "File \u001b[1;32m~\\AppData\\Local\\Packages\\PythonSoftwareFoundation.Python.3.9_qbz5n2kfra8p0\\LocalCache\\local-packages\\Python39\\site-packages\\pandas\\io\\common.py:786\u001b[0m, in \u001b[0;36mget_handle\u001b[1;34m(path_or_buf, mode, encoding, compression, memory_map, is_text, errors, storage_options)\u001b[0m\n\u001b[0;32m    781\u001b[0m \u001b[39melif\u001b[39;00m \u001b[39misinstance\u001b[39m(handle, \u001b[39mstr\u001b[39m):\n\u001b[0;32m    782\u001b[0m     \u001b[39m# Check whether the filename is to be opened in binary mode.\u001b[39;00m\n\u001b[0;32m    783\u001b[0m     \u001b[39m# Binary mode does not support 'encoding' and 'newline'.\u001b[39;00m\n\u001b[0;32m    784\u001b[0m     \u001b[39mif\u001b[39;00m ioargs\u001b[39m.\u001b[39mencoding \u001b[39mand\u001b[39;00m \u001b[39m\"\u001b[39m\u001b[39mb\u001b[39m\u001b[39m\"\u001b[39m \u001b[39mnot\u001b[39;00m \u001b[39min\u001b[39;00m ioargs\u001b[39m.\u001b[39mmode:\n\u001b[0;32m    785\u001b[0m         \u001b[39m# Encoding\u001b[39;00m\n\u001b[1;32m--> 786\u001b[0m         handle \u001b[39m=\u001b[39m \u001b[39mopen\u001b[39;49m(\n\u001b[0;32m    787\u001b[0m             handle,\n\u001b[0;32m    788\u001b[0m             ioargs\u001b[39m.\u001b[39;49mmode,\n\u001b[0;32m    789\u001b[0m             encoding\u001b[39m=\u001b[39;49mioargs\u001b[39m.\u001b[39;49mencoding,\n\u001b[0;32m    790\u001b[0m             errors\u001b[39m=\u001b[39;49merrors,\n\u001b[0;32m    791\u001b[0m             newline\u001b[39m=\u001b[39;49m\u001b[39m\"\u001b[39;49m\u001b[39m\"\u001b[39;49m,\n\u001b[0;32m    792\u001b[0m         )\n\u001b[0;32m    793\u001b[0m     \u001b[39melse\u001b[39;00m:\n\u001b[0;32m    794\u001b[0m         \u001b[39m# Binary mode\u001b[39;00m\n\u001b[0;32m    795\u001b[0m         handle \u001b[39m=\u001b[39m \u001b[39mopen\u001b[39m(handle, ioargs\u001b[39m.\u001b[39mmode)\n",
      "\u001b[1;31mFileNotFoundError\u001b[0m: [Errno 2] No such file or directory: 'analisis_paquetes.csv'"
     ]
    }
   ],
   "source": [
    "df = pd.read_csv('analisis_paquetes.csv')\n",
    "df.head()"
   ]
  },
  {
   "attachments": {},
   "cell_type": "markdown",
   "metadata": {},
   "source": [
    "Captura de 10 paquetes"
   ]
  },
  {
   "cell_type": "code",
   "execution_count": 14,
   "metadata": {},
   "outputs": [
    {
     "name": "stdout",
     "output_type": "stream",
     "text": [
      "<class 'scapy.plist.PacketList'>\n",
      "10\n",
      "<Sniffed: TCP:0 UDP:10 ICMP:0 Other:0>\n"
     ]
    },
    {
     "data": {
      "text/plain": [
       "<Ether  dst=74:3a:ef:49:1c:df src=d8:bb:c1:ac:c3:18 type=IPv4 |<IP  version=4 ihl=5 tos=0x0 len=76 id=5384 flags= frag=0 ttl=128 proto=udp chksum=0x0 src=192.168.1.27 dst=66.22.222.119 |<UDP  sport=56037 dport=50016 len=56 chksum=0xe29a |<Raw  load='\\\\xaf\\\\xcd\\x00\\x06\\x00\\x02\\\\x8d\\\\xf8\\\\xfdM\\\\xa3\\x00\\\\xef\\x18\\x04o\\\\x8aY\\\\x9b\\\\xfefs\\\\x81\\\\xad\\\\x95\\u05ee\\\\xb3\\\\xb1\\\\x83\\\\xff\\\\xcd`\\\\xe8\\\\xcdQ\\\\xd8T_\\\\xd3\\\\xec\\\\x82\\\\xc2\\\\xed\\\\x8eH\\x00\\\\x80' |>>>>"
      ]
     },
     "execution_count": 14,
     "metadata": {},
     "output_type": "execute_result"
    }
   ],
   "source": [
    "num_of_packets_to_sniff = 10\n",
    "pcap = sniff(count=num_of_packets_to_sniff)\n",
    "\n",
    "# rdpcap returns packet list\n",
    "## packetlist object can be enumerated \n",
    "print(type(pcap))\n",
    "print(len(pcap))\n",
    "print(pcap)\n",
    "pcap[0]"
   ]
  },
  {
   "cell_type": "code",
   "execution_count": 15,
   "metadata": {},
   "outputs": [
    {
     "name": "stdout",
     "output_type": "stream",
     "text": [
      "Informacion del frame:\n",
      "Ether / IP / UDP 192.168.1.27:56037 > 66.22.222.119:50016 / Raw\n",
      "Informacion del paquete:\n",
      "IP / UDP 192.168.1.27:56037 > 66.22.222.119:50016 / Raw\n",
      "Informacion del segmento:\n",
      "UDP 192.168.1.27:56037 > 66.22.222.119:50016 / Raw\n",
      "Data:\n",
      "Raw\n",
      "###[ Ethernet ]### \n",
      "  dst       = 74:3a:ef:49:1c:df\n",
      "  src       = d8:bb:c1:ac:c3:18\n",
      "  type      = IPv4\n",
      "###[ IP ]### \n",
      "     version   = 4\n",
      "     ihl       = 5\n",
      "     tos       = 0x0\n",
      "     len       = 76\n",
      "     id        = 5384\n",
      "     flags     = \n",
      "     frag      = 0\n",
      "     ttl       = 128\n",
      "     proto     = udp\n",
      "     chksum    = 0x0\n",
      "     src       = 192.168.1.27\n",
      "     dst       = 66.22.222.119\n",
      "     \\options   \\\n",
      "###[ UDP ]### \n",
      "        sport     = 56037\n",
      "        dport     = 50016\n",
      "        len       = 56\n",
      "        chksum    = 0xe29a\n",
      "###[ Raw ]### \n",
      "           load      = '\\\\xaf\\\\xcd\\x00\\x06\\x00\\x02\\\\x8d\\\\xf8\\\\xfdM\\\\xa3\\x00\\\\xef\\x18\\x04o\\\\x8aY\\\\x9b\\\\xfefs\\\\x81\\\\xad\\\\x95\\u05ee\\\\xb3\\\\xb1\\\\x83\\\\xff\\\\xcd`\\\\xe8\\\\xcdQ\\\\xd8T_\\\\xd3\\\\xec\\\\x82\\\\xc2\\\\xed\\\\x8eH\\x00\\\\x80'\n",
      "\n",
      "###[ Raw ]### \n",
      "  load      = '\\\\xaf\\\\xcd\\x00\\x06\\x00\\x02\\\\x8d\\\\xf8\\\\xfdM\\\\xa3\\x00\\\\xef\\x18\\x04o\\\\x8aY\\\\x9b\\\\xfefs\\\\x81\\\\xad\\\\x95\\u05ee\\\\xb3\\\\xb1\\\\x83\\\\xff\\\\xcd`\\\\xe8\\\\xcdQ\\\\xd8T_\\\\xd3\\\\xec\\\\x82\\\\xc2\\\\xed\\\\x8eH\\x00\\\\x80'\n",
      "\n"
     ]
    }
   ],
   "source": [
    "ethernet_frame = pcap[0]\n",
    "ip_packet = ethernet_frame.payload\n",
    "segment = ip_packet.payload\n",
    "data = segment.payload #recupera la informacion de la capa 4\n",
    "\n",
    "print(\"Informacion del frame:\")\n",
    "print(ethernet_frame.summary())\n",
    "\n",
    "print(\"Informacion del paquete:\")\n",
    "print(ip_packet.summary())\n",
    "\n",
    "print(\"Informacion del segmento:\")\n",
    "print(segment.summary())\n",
    "\n",
    "print(\"Data:\")\n",
    "print(data.summary())\n",
    "\n",
    "ethernet_frame.show()\n",
    "data.show()"
   ]
  },
  {
   "cell_type": "code",
   "execution_count": 16,
   "metadata": {},
   "outputs": [
    {
     "name": "stdout",
     "output_type": "stream",
     "text": [
      "<class 'scapy.layers.l2.Ether'>\n",
      "<class 'scapy.layers.inet.IP'>\n",
      "<class 'scapy.layers.inet.UDP'>\n",
      "Ethernet <Ether from Sniffed: TCP:0 UDP:10 ICMP:0 Other:0>\n",
      "IP <IP from Sniffed: TCP:0 UDP:10 ICMP:0 Other:0>\n",
      "TCP <UDP from Sniffed: TCP:0 UDP:10 ICMP:0 Other:0>\n",
      "UDP <UDP from Sniffed: TCP:0 UDP:10 ICMP:0 Other:0>\n"
     ]
    }
   ],
   "source": [
    "print(type(ethernet_frame))\n",
    "print(type(ip_packet))\n",
    "print(type(segment))\n",
    "\n",
    "# Packets can be filtered on layers ie) ethernet_frame[scapy.layers.l2.Ether]\n",
    "ethernet_type = type(ethernet_frame)\n",
    "ip_type = type(ip_packet)\n",
    "tcp_type = type(segment)\n",
    "print(\"Ethernet\",pcap[ethernet_type])\n",
    "print(\"IP\", pcap[ip_type])\n",
    "print(\"TCP\", pcap[tcp_type])\n",
    "\n",
    "# Scapy provides this via import statements\n",
    "from scapy.layers.l2 import Ether\n",
    "from scapy.layers.inet import IP\n",
    "from scapy.layers.inet import TCP, UDP\n",
    "\n",
    "print(\"UDP\", pcap[UDP])"
   ]
  },
  {
   "cell_type": "code",
   "execution_count": 17,
   "metadata": {},
   "outputs": [
    {
     "name": "stdout",
     "output_type": "stream",
     "text": [
      "  version ihl tos  len     id flags frag  ttl proto chksum  ... dataofs  \\\n",
      "0       4   5   0   76   5384          0  128    17      0  ...    None   \n",
      "1       4   5   0   42  47210          0  128    17  49304  ...    None   \n",
      "2       4   5   0  371   1499    DF    0   50    17  24398  ...    None   \n",
      "3       4   5   0  168   1500    DF    0   50    17  24600  ...    None   \n",
      "4       4   5   0  113   1501    DF    0   50    17  24654  ...    None   \n",
      "\n",
      "  reserved flags  window chksum urgptr options payload  \\\n",
      "0     None  None    None  58010   None    None      48   \n",
      "1     None  None    None  25649   None    None      18   \n",
      "2     None  None    None  42181   None    None     343   \n",
      "3     None  None    None  53432   None    None     140   \n",
      "4     None  None    None  46112   None    None      85   \n",
      "\n",
      "                                         payload_raw  \\\n",
      "0  b'\\xaf\\xcd\\x00\\x06\\x00\\x02\\x8d\\xf8\\xfdM\\xa3\\x0...   \n",
      "1          b'EPSONP\\x00\\xff\\x00\\x00\\x00\\x00\\x00\\x00'   \n",
      "2  b'\\x90\\xe7\\xe4\\xc2SU\\x1e\\xc8\\x00\\x02\\x8d\\xf6\\x...   \n",
      "3  b'\\x90\\xe7\\xe4\\xc3SU*\\xbc\\x00\\x02\\x8d\\xf6\\xbe\\...   \n",
      "4  b'\\x90\\xe7\\xe4\\xc4SU5\\xfc\\x00\\x02\\x8d\\xf6\\xbe\\...   \n",
      "\n",
      "                                         payload_hex  \n",
      "0  b'afcd000600028df8fd4da300ef18046f8a599bfe6673...  \n",
      "1                    b'4550534f4e5000ff000000000000'  \n",
      "2  b'90e7e4c253551ec800028df6bede0003994cc19659d0...  \n",
      "3  b'90e7e4c353552abc00028df6bede00038ffec215fbcf...  \n",
      "4  b'90e7e4c4535535fc00028df6bede0003e8962a2d3bcd...  \n",
      "\n",
      "[5 rows x 28 columns]\n"
     ]
    }
   ],
   "source": [
    "# Obtenemos los campos de IP/TCP/UDP que seran las columnas de nuestro DF\n",
    "ip_fields = [field.name for field in IP().fields_desc]\n",
    "tcp_fields = [field.name for field in TCP().fields_desc]\n",
    "udp_fields = [field.name for field in UDP().fields_desc]\n",
    "\n",
    "#Concatenamos todos los campos\n",
    "dataframe_fields = ip_fields + ['time'] + tcp_fields + ['payload','payload_raw','payload_hex']\n",
    "\n",
    "# Creamos un DF en blanco con los campos como columnas\n",
    "df = pd.DataFrame(columns=dataframe_fields)\n",
    "for packet in pcap[IP]:\n",
    "    # Obtenemos los valores de los campos de cada fila\n",
    "    field_values = []\n",
    "    # A;adimos todos los valores de los campos de IP al df\n",
    "    for field in ip_fields:\n",
    "        if field == 'options':\n",
    "            # Obtenemos el numero de opciones del IP Header\n",
    "            field_values.append(len(packet[IP].fields[field]))\n",
    "        else:\n",
    "            field_values.append(packet[IP].fields[field])\n",
    "    \n",
    "    field_values.append(packet.time)\n",
    "    \n",
    "    layer_type = type(packet[IP].payload)\n",
    "    for field in tcp_fields:\n",
    "        try:\n",
    "            if field == 'options':\n",
    "                field_values.append(len(packet[layer_type].fields[field]))\n",
    "            else:\n",
    "                field_values.append(packet[layer_type].fields[field])\n",
    "        except:\n",
    "            field_values.append(None)\n",
    "    \n",
    "    # Agregamos el payload\n",
    "    field_values.append(len(packet[layer_type].payload))\n",
    "    field_values.append(packet[layer_type].payload.original)\n",
    "    field_values.append(binascii.hexlify(packet[layer_type].payload.original))\n",
    "    # Agregamos la fila al df\n",
    "    df_append = pd.DataFrame([field_values], columns=dataframe_fields)\n",
    "    df = pd.concat([df, df_append], axis=0)\n",
    "\n",
    "# Reset Index\n",
    "df = df.reset_index()\n",
    "# Drop old index column\n",
    "df = df.drop(columns=\"index\")\n",
    "\n",
    "print(df.head(5))"
   ]
  },
  {
   "cell_type": "code",
   "execution_count": 18,
   "metadata": {},
   "outputs": [
    {
     "data": {
      "text/html": [
       "<div>\n",
       "<style scoped>\n",
       "    .dataframe tbody tr th:only-of-type {\n",
       "        vertical-align: middle;\n",
       "    }\n",
       "\n",
       "    .dataframe tbody tr th {\n",
       "        vertical-align: top;\n",
       "    }\n",
       "\n",
       "    .dataframe thead th {\n",
       "        text-align: right;\n",
       "    }\n",
       "</style>\n",
       "<table border=\"1\" class=\"dataframe\">\n",
       "  <thead>\n",
       "    <tr style=\"text-align: right;\">\n",
       "      <th></th>\n",
       "      <th>src</th>\n",
       "      <th>dst</th>\n",
       "      <th>sport</th>\n",
       "      <th>dport</th>\n",
       "    </tr>\n",
       "  </thead>\n",
       "  <tbody>\n",
       "    <tr>\n",
       "      <th>0</th>\n",
       "      <td>192.168.1.27</td>\n",
       "      <td>66.22.222.119</td>\n",
       "      <td>56037</td>\n",
       "      <td>50016</td>\n",
       "    </tr>\n",
       "    <tr>\n",
       "      <th>1</th>\n",
       "      <td>192.168.1.24</td>\n",
       "      <td>255.255.255.255</td>\n",
       "      <td>58632</td>\n",
       "      <td>3289</td>\n",
       "    </tr>\n",
       "    <tr>\n",
       "      <th>2</th>\n",
       "      <td>66.22.222.119</td>\n",
       "      <td>192.168.1.27</td>\n",
       "      <td>50016</td>\n",
       "      <td>56037</td>\n",
       "    </tr>\n",
       "    <tr>\n",
       "      <th>3</th>\n",
       "      <td>66.22.222.119</td>\n",
       "      <td>192.168.1.27</td>\n",
       "      <td>50016</td>\n",
       "      <td>56037</td>\n",
       "    </tr>\n",
       "    <tr>\n",
       "      <th>4</th>\n",
       "      <td>66.22.222.119</td>\n",
       "      <td>192.168.1.27</td>\n",
       "      <td>50016</td>\n",
       "      <td>56037</td>\n",
       "    </tr>\n",
       "    <tr>\n",
       "      <th>5</th>\n",
       "      <td>66.22.222.119</td>\n",
       "      <td>192.168.1.27</td>\n",
       "      <td>50016</td>\n",
       "      <td>56037</td>\n",
       "    </tr>\n",
       "    <tr>\n",
       "      <th>6</th>\n",
       "      <td>66.22.222.119</td>\n",
       "      <td>192.168.1.27</td>\n",
       "      <td>50016</td>\n",
       "      <td>56037</td>\n",
       "    </tr>\n",
       "    <tr>\n",
       "      <th>7</th>\n",
       "      <td>192.168.1.27</td>\n",
       "      <td>66.22.222.119</td>\n",
       "      <td>56037</td>\n",
       "      <td>50016</td>\n",
       "    </tr>\n",
       "    <tr>\n",
       "      <th>8</th>\n",
       "      <td>66.22.231.10</td>\n",
       "      <td>192.168.1.27</td>\n",
       "      <td>50001</td>\n",
       "      <td>56038</td>\n",
       "    </tr>\n",
       "    <tr>\n",
       "      <th>9</th>\n",
       "      <td>192.168.1.27</td>\n",
       "      <td>66.22.222.119</td>\n",
       "      <td>56037</td>\n",
       "      <td>50016</td>\n",
       "    </tr>\n",
       "  </tbody>\n",
       "</table>\n",
       "</div>"
      ],
      "text/plain": [
       "             src              dst  sport  dport\n",
       "0   192.168.1.27    66.22.222.119  56037  50016\n",
       "1   192.168.1.24  255.255.255.255  58632   3289\n",
       "2  66.22.222.119     192.168.1.27  50016  56037\n",
       "3  66.22.222.119     192.168.1.27  50016  56037\n",
       "4  66.22.222.119     192.168.1.27  50016  56037\n",
       "5  66.22.222.119     192.168.1.27  50016  56037\n",
       "6  66.22.222.119     192.168.1.27  50016  56037\n",
       "7   192.168.1.27    66.22.222.119  56037  50016\n",
       "8   66.22.231.10     192.168.1.27  50001  56038\n",
       "9   192.168.1.27    66.22.222.119  56037  50016"
      ]
     },
     "execution_count": 18,
     "metadata": {},
     "output_type": "execute_result"
    }
   ],
   "source": [
    "df[['src','dst','sport','dport']]"
   ]
  },
  {
   "cell_type": "code",
   "execution_count": 19,
   "metadata": {},
   "outputs": [
    {
     "data": {
      "text/plain": [
       "(10, 28)"
      ]
     },
     "execution_count": 19,
     "metadata": {},
     "output_type": "execute_result"
    }
   ],
   "source": [
    "df.shape"
   ]
  },
  {
   "cell_type": "code",
   "execution_count": 20,
   "metadata": {},
   "outputs": [
    {
     "name": "stdout",
     "output_type": "stream",
     "text": [
      "  version ihl tos  len     id flags frag  ttl proto chksum  ... dataofs  \\\n",
      "0       4   5   0   76   5384          0  128    17      0  ...    None   \n",
      "1       4   5   0   42  47210          0  128    17  49304  ...    None   \n",
      "2       4   5   0  371   1499    DF    0   50    17  24398  ...    None   \n",
      "3       4   5   0  168   1500    DF    0   50    17  24600  ...    None   \n",
      "4       4   5   0  113   1501    DF    0   50    17  24654  ...    None   \n",
      "\n",
      "  reserved flags window chksum urgptr options payload  \\\n",
      "0     None  None   None  58010   None    None      48   \n",
      "1     None  None   None  25649   None    None      18   \n",
      "2     None  None   None  42181   None    None     343   \n",
      "3     None  None   None  53432   None    None     140   \n",
      "4     None  None   None  46112   None    None      85   \n",
      "\n",
      "                                         payload_raw  \\\n",
      "0  b'\\xaf\\xcd\\x00\\x06\\x00\\x02\\x8d\\xf8\\xfdM\\xa3\\x0...   \n",
      "1          b'EPSONP\\x00\\xff\\x00\\x00\\x00\\x00\\x00\\x00'   \n",
      "2  b'\\x90\\xe7\\xe4\\xc2SU\\x1e\\xc8\\x00\\x02\\x8d\\xf6\\x...   \n",
      "3  b'\\x90\\xe7\\xe4\\xc3SU*\\xbc\\x00\\x02\\x8d\\xf6\\xbe\\...   \n",
      "4  b'\\x90\\xe7\\xe4\\xc4SU5\\xfc\\x00\\x02\\x8d\\xf6\\xbe\\...   \n",
      "\n",
      "                                         payload_hex  \n",
      "0  b'afcd000600028df8fd4da300ef18046f8a599bfe6673...  \n",
      "1                    b'4550534f4e5000ff000000000000'  \n",
      "2  b'90e7e4c253551ec800028df6bede0003994cc19659d0...  \n",
      "3  b'90e7e4c353552abc00028df6bede00038ffec215fbcf...  \n",
      "4  b'90e7e4c4535535fc00028df6bede0003e8962a2d3bcd...  \n",
      "\n",
      "[5 rows x 28 columns]\n"
     ]
    }
   ],
   "source": [
    "#save the file analisis_paquetes.pcap in pcap2 and add it to the dataframe\n",
    "pcap2 = rdpcap('analisis_paquetes.pcap')\n",
    "\n",
    "for packet in pcap2[IP]:\n",
    "    # Obtenemos los valores de los campos de cada fila\n",
    "    field_values = []\n",
    "    # A;adimos todos los valores de los campos de IP al df\n",
    "    for field in ip_fields:\n",
    "        if field == 'options':\n",
    "            # Obtenemos el numero de opciones del IP Header\n",
    "            field_values.append(len(packet[IP].fields[field]))\n",
    "        else:\n",
    "            field_values.append(packet[IP].fields[field])\n",
    "    \n",
    "    field_values.append(packet.time)\n",
    "    \n",
    "    layer_type = type(packet[IP].payload)\n",
    "    for field in tcp_fields:\n",
    "        try:\n",
    "            if field == 'options':\n",
    "                field_values.append(len(packet[layer_type].fields[field]))\n",
    "            else:\n",
    "                field_values.append(packet[layer_type].fields[field])\n",
    "        except:\n",
    "            field_values.append(None)\n",
    "    \n",
    "    # Agregamos el payload\n",
    "    field_values.append(len(packet[layer_type].payload))\n",
    "    field_values.append(packet[layer_type].payload.original)\n",
    "    field_values.append(binascii.hexlify(packet[layer_type].payload.original))\n",
    "    # Agregamos la fila al df\n",
    "    df_append = pd.DataFrame([field_values], columns=dataframe_fields)\n",
    "    df = pd.concat([df, df_append], axis=0)\n",
    "\n",
    "# Reset Index\n",
    "df = df.reset_index()\n",
    "# Drop old index column\n",
    "df = df.drop(columns=\"index\")\n",
    "\n",
    "print(df.head(5))\n"
   ]
  },
  {
   "cell_type": "code",
   "execution_count": 21,
   "metadata": {},
   "outputs": [
    {
     "data": {
      "text/html": [
       "<div>\n",
       "<style scoped>\n",
       "    .dataframe tbody tr th:only-of-type {\n",
       "        vertical-align: middle;\n",
       "    }\n",
       "\n",
       "    .dataframe tbody tr th {\n",
       "        vertical-align: top;\n",
       "    }\n",
       "\n",
       "    .dataframe thead th {\n",
       "        text-align: right;\n",
       "    }\n",
       "</style>\n",
       "<table border=\"1\" class=\"dataframe\">\n",
       "  <thead>\n",
       "    <tr style=\"text-align: right;\">\n",
       "      <th></th>\n",
       "      <th>src</th>\n",
       "      <th>dst</th>\n",
       "      <th>sport</th>\n",
       "      <th>dport</th>\n",
       "    </tr>\n",
       "  </thead>\n",
       "  <tbody>\n",
       "    <tr>\n",
       "      <th>0</th>\n",
       "      <td>192.168.1.27</td>\n",
       "      <td>66.22.222.119</td>\n",
       "      <td>56037</td>\n",
       "      <td>50016</td>\n",
       "    </tr>\n",
       "    <tr>\n",
       "      <th>1</th>\n",
       "      <td>192.168.1.24</td>\n",
       "      <td>255.255.255.255</td>\n",
       "      <td>58632</td>\n",
       "      <td>3289</td>\n",
       "    </tr>\n",
       "    <tr>\n",
       "      <th>2</th>\n",
       "      <td>66.22.222.119</td>\n",
       "      <td>192.168.1.27</td>\n",
       "      <td>50016</td>\n",
       "      <td>56037</td>\n",
       "    </tr>\n",
       "    <tr>\n",
       "      <th>3</th>\n",
       "      <td>66.22.222.119</td>\n",
       "      <td>192.168.1.27</td>\n",
       "      <td>50016</td>\n",
       "      <td>56037</td>\n",
       "    </tr>\n",
       "    <tr>\n",
       "      <th>4</th>\n",
       "      <td>66.22.222.119</td>\n",
       "      <td>192.168.1.27</td>\n",
       "      <td>50016</td>\n",
       "      <td>56037</td>\n",
       "    </tr>\n",
       "    <tr>\n",
       "      <th>...</th>\n",
       "      <td>...</td>\n",
       "      <td>...</td>\n",
       "      <td>...</td>\n",
       "      <td>...</td>\n",
       "    </tr>\n",
       "    <tr>\n",
       "      <th>67</th>\n",
       "      <td>84.54.22.33</td>\n",
       "      <td>10.1.10.53</td>\n",
       "      <td>53</td>\n",
       "      <td>53</td>\n",
       "    </tr>\n",
       "    <tr>\n",
       "      <th>68</th>\n",
       "      <td>10.1.10.53</td>\n",
       "      <td>84.54.22.33</td>\n",
       "      <td>53</td>\n",
       "      <td>53</td>\n",
       "    </tr>\n",
       "    <tr>\n",
       "      <th>69</th>\n",
       "      <td>84.54.22.33</td>\n",
       "      <td>10.1.10.53</td>\n",
       "      <td>53</td>\n",
       "      <td>53</td>\n",
       "    </tr>\n",
       "    <tr>\n",
       "      <th>70</th>\n",
       "      <td>10.1.10.53</td>\n",
       "      <td>84.54.22.33</td>\n",
       "      <td>53</td>\n",
       "      <td>53</td>\n",
       "    </tr>\n",
       "    <tr>\n",
       "      <th>71</th>\n",
       "      <td>84.54.22.33</td>\n",
       "      <td>10.1.10.53</td>\n",
       "      <td>53</td>\n",
       "      <td>53</td>\n",
       "    </tr>\n",
       "  </tbody>\n",
       "</table>\n",
       "<p>72 rows × 4 columns</p>\n",
       "</div>"
      ],
      "text/plain": [
       "              src              dst  sport  dport\n",
       "0    192.168.1.27    66.22.222.119  56037  50016\n",
       "1    192.168.1.24  255.255.255.255  58632   3289\n",
       "2   66.22.222.119     192.168.1.27  50016  56037\n",
       "3   66.22.222.119     192.168.1.27  50016  56037\n",
       "4   66.22.222.119     192.168.1.27  50016  56037\n",
       "..            ...              ...    ...    ...\n",
       "67    84.54.22.33       10.1.10.53     53     53\n",
       "68     10.1.10.53      84.54.22.33     53     53\n",
       "69    84.54.22.33       10.1.10.53     53     53\n",
       "70     10.1.10.53      84.54.22.33     53     53\n",
       "71    84.54.22.33       10.1.10.53     53     53\n",
       "\n",
       "[72 rows x 4 columns]"
      ]
     },
     "execution_count": 21,
     "metadata": {},
     "output_type": "execute_result"
    }
   ],
   "source": [
    "df[['src','dst','sport','dport']]"
   ]
  },
  {
   "cell_type": "code",
   "execution_count": 22,
   "metadata": {},
   "outputs": [
    {
     "data": {
      "text/plain": [
       "(72, 28)"
      ]
     },
     "execution_count": 22,
     "metadata": {},
     "output_type": "execute_result"
    }
   ],
   "source": [
    "df.shape"
   ]
  },
  {
   "attachments": {},
   "cell_type": "markdown",
   "metadata": {},
   "source": [
    "#### Estadistica"
   ]
  },
  {
   "attachments": {},
   "cell_type": "markdown",
   "metadata": {},
   "source": [
    "Muestre cual es la IP origen más frecuente"
   ]
  },
  {
   "cell_type": "code",
   "execution_count": 23,
   "metadata": {},
   "outputs": [
    {
     "data": {
      "text/plain": [
       "10.1.10.53       31\n",
       "84.54.22.33      29\n",
       "66.22.222.119     5\n",
       "192.168.1.27      3\n",
       "75.75.75.75       2\n",
       "192.168.1.24      1\n",
       "66.22.231.10      1\n",
       "Name: src, dtype: int64"
      ]
     },
     "execution_count": 23,
     "metadata": {},
     "output_type": "execute_result"
    }
   ],
   "source": [
    "df['src'].value_counts()\n"
   ]
  },
  {
   "attachments": {},
   "cell_type": "markdown",
   "metadata": {},
   "source": [
    "Muestre cual es la IP destino más frecuente"
   ]
  },
  {
   "cell_type": "code",
   "execution_count": 24,
   "metadata": {},
   "outputs": [
    {
     "data": {
      "text/plain": [
       "10.1.10.53         31\n",
       "84.54.22.33        29\n",
       "192.168.1.27        6\n",
       "66.22.222.119       3\n",
       "75.75.75.75         2\n",
       "255.255.255.255     1\n",
       "Name: dst, dtype: int64"
      ]
     },
     "execution_count": 24,
     "metadata": {},
     "output_type": "execute_result"
    }
   ],
   "source": [
    "df['dst'].value_counts()"
   ]
  },
  {
   "attachments": {},
   "cell_type": "markdown",
   "metadata": {},
   "source": [
    "¿A qué IPs se comunica la IP del inciso a?"
   ]
  },
  {
   "cell_type": "code",
   "execution_count": 25,
   "metadata": {},
   "outputs": [
    {
     "data": {
      "text/plain": [
       "84.54.22.33    29\n",
       "75.75.75.75     2\n",
       "Name: dst, dtype: int64"
      ]
     },
     "execution_count": 25,
     "metadata": {},
     "output_type": "execute_result"
    }
   ],
   "source": [
    "df[df['src'] == '10.1.10.53']['dst'].value_counts()\n"
   ]
  },
  {
   "attachments": {},
   "cell_type": "markdown",
   "metadata": {},
   "source": [
    "¿A qué puertos destino se comunica la IP del inciso a?"
   ]
  },
  {
   "cell_type": "code",
   "execution_count": 26,
   "metadata": {},
   "outputs": [
    {
     "data": {
      "text/plain": [
       "53    31\n",
       "Name: dport, dtype: int64"
      ]
     },
     "execution_count": 26,
     "metadata": {},
     "output_type": "execute_result"
    }
   ],
   "source": [
    "df[df['src'] == '10.1.10.53']['dport'].value_counts()"
   ]
  },
  {
   "attachments": {},
   "cell_type": "markdown",
   "metadata": {},
   "source": [
    "¿A qué puertos origen se comunica la IP del inciso b?"
   ]
  },
  {
   "cell_type": "code",
   "execution_count": 27,
   "metadata": {},
   "outputs": [
    {
     "data": {
      "text/plain": [
       "53       29\n",
       "15812     1\n",
       "23903     1\n",
       "Name: sport, dtype: int64"
      ]
     },
     "execution_count": 27,
     "metadata": {},
     "output_type": "execute_result"
    }
   ],
   "source": [
    "df[df['src'] == '10.1.10.53']['sport'].value_counts()"
   ]
  },
  {
   "attachments": {},
   "cell_type": "markdown",
   "metadata": {},
   "source": [
    "Indique el propósito de los puertos que más aparece en los incisos d y e"
   ]
  },
  {
   "attachments": {},
   "cell_type": "markdown",
   "metadata": {},
   "source": [
    "#### Graficas"
   ]
  },
  {
   "cell_type": "code",
   "execution_count": 62,
   "metadata": {},
   "outputs": [],
   "source": [
    "payloads_raw = []"
   ]
  },
  {
   "attachments": {},
   "cell_type": "markdown",
   "metadata": {},
   "source": [
    "Muestre una gráfica 2D, en el eje Y las IPs origen, y en el eje X la suma de los payloads enviados de dichas direcciones."
   ]
  },
  {
   "cell_type": "code",
   "execution_count": 189,
   "metadata": {},
   "outputs": [
    {
     "data": {
      "text/plain": [
       "<AxesSubplot:xlabel='src'>"
      ]
     },
     "execution_count": 189,
     "metadata": {},
     "output_type": "execute_result"
    },
    {
     "data": {
      "image/png": "[encoded data removed]",
      "text/plain": [
       "<Figure size 640x480 with 1 Axes>"
      ]
     },
     "metadata": {},
     "output_type": "display_data"
    }
   ],
   "source": [
    "# graph a 2D graph where y axis are IPs org and x axis is the sum of payloads sent to each IP\n",
    "df.groupby('src')['payload'].sum().plot(kind='bar')"
   ]
  },
  {
   "attachments": {},
   "cell_type": "markdown",
   "metadata": {},
   "source": [
    "Muestre una gráfica 2D, en el eje Y las IPs destino, y en el eje X la suma de los payloads recibidos en dichas direcciones."
   ]
  },
  {
   "cell_type": "code",
   "execution_count": 159,
   "metadata": {},
   "outputs": [
    {
     "data": {
      "text/plain": [
       "<AxesSubplot:xlabel='dst'>"
      ]
     },
     "execution_count": 159,
     "metadata": {},
     "output_type": "execute_result"
    },
    {
     "data": {
      "image/png": "[encoded data removed]",
      "text/plain": [
       "<Figure size 640x480 with 1 Axes>"
      ]
     },
     "metadata": {},
     "output_type": "display_data"
    }
   ],
   "source": [
    "df.groupby('dst')['payload'].sum().plot(kind='bar')"
   ]
  },
  {
   "attachments": {},
   "cell_type": "markdown",
   "metadata": {},
   "source": [
    "Muestre una gráfica 2D, en el eje Y los puertos origen, y en el eje X la suma de los payloads enviados de dichos puertos."
   ]
  },
  {
   "cell_type": "code",
   "execution_count": 160,
   "metadata": {},
   "outputs": [
    {
     "data": {
      "text/plain": [
       "<AxesSubplot:xlabel='sport'>"
      ]
     },
     "execution_count": 160,
     "metadata": {},
     "output_type": "execute_result"
    },
    {
     "data": {
      "image/png": "[encoded data removed]",
      "text/plain": [
       "<Figure size 640x480 with 1 Axes>"
      ]
     },
     "metadata": {},
     "output_type": "display_data"
    }
   ],
   "source": [
    "df.groupby('sport')['payload'].sum().plot(kind='bar')"
   ]
  },
  {
   "attachments": {},
   "cell_type": "markdown",
   "metadata": {},
   "source": [
    "Muestre una gráfica 2D, en el eje Y los puertos destino, y en el eje X la suma de los payloads recibidos en dichos puertos"
   ]
  },
  {
   "cell_type": "code",
   "execution_count": 161,
   "metadata": {},
   "outputs": [
    {
     "data": {
      "text/plain": [
       "<AxesSubplot:xlabel='dport'>"
      ]
     },
     "execution_count": 161,
     "metadata": {},
     "output_type": "execute_result"
    },
    {
     "data": {
      "image/png": "[encoded data removed]",
      "text/plain": [
       "<Figure size 640x480 with 1 Axes>"
      ]
     },
     "metadata": {},
     "output_type": "display_data"
    }
   ],
   "source": [
    "df.groupby('dport')['payload'].sum().plot(kind='bar')"
   ]
  },
  {
   "attachments": {},
   "cell_type": "markdown",
   "metadata": {},
   "source": [
    "#### Investigación del payload"
   ]
  },
  {
   "cell_type": "code",
   "execution_count": 162,
   "metadata": {},
   "outputs": [],
   "source": [
    "df2 = df['src'] == '10.1.10.53'\n",
    "df2 = df[df2]\n",
    "\n",
    "# reset index\n",
    "df2 = df2.reset_index()"
   ]
  },
  {
   "cell_type": "code",
   "execution_count": 163,
   "metadata": {},
   "outputs": [],
   "source": [
    "df2 = df2.drop(columns=\"index\")"
   ]
  },
  {
   "cell_type": "code",
   "execution_count": 164,
   "metadata": {},
   "outputs": [
    {
     "data": {
      "text/plain": [
       "src\n",
       "10.1.10.53    28053\n",
       "Name: payload, dtype: object"
      ]
     },
     "execution_count": 164,
     "metadata": {},
     "output_type": "execute_result"
    }
   ],
   "source": [
    "# group by payload \n",
    "df2.groupby('src')['payload'].sum()"
   ]
  },
  {
   "cell_type": "code",
   "execution_count": 165,
   "metadata": {},
   "outputs": [
    {
     "data": {
      "text/plain": [
       "dst\n",
       "84.54.22.33        27979\n",
       "10.1.10.53          1790\n",
       "192.168.1.27         744\n",
       "66.22.222.119        104\n",
       "75.75.75.75           74\n",
       "255.255.255.255       18\n",
       "Name: payload, dtype: object"
      ]
     },
     "execution_count": 165,
     "metadata": {},
     "output_type": "execute_result"
    }
   ],
   "source": [
    "# Obtenga la IP que más ha intercambiado bytes con la IP más frecuente.\n",
    "\n",
    "# show 3 dest ips with bigger payload\n",
    "df.groupby('dst')['payload'].sum().sort_values(ascending=False)"
   ]
  },
  {
   "cell_type": "code",
   "execution_count": 166,
   "metadata": {},
   "outputs": [
    {
     "data": {
      "text/html": [
       "<div>\n",
       "<style scoped>\n",
       "    .dataframe tbody tr th:only-of-type {\n",
       "        vertical-align: middle;\n",
       "    }\n",
       "\n",
       "    .dataframe tbody tr th {\n",
       "        vertical-align: top;\n",
       "    }\n",
       "\n",
       "    .dataframe thead th {\n",
       "        text-align: right;\n",
       "    }\n",
       "</style>\n",
       "<table border=\"1\" class=\"dataframe\">\n",
       "  <thead>\n",
       "    <tr style=\"text-align: right;\">\n",
       "      <th></th>\n",
       "      <th>version</th>\n",
       "      <th>ihl</th>\n",
       "      <th>tos</th>\n",
       "      <th>len</th>\n",
       "      <th>id</th>\n",
       "      <th>flags</th>\n",
       "      <th>frag</th>\n",
       "      <th>ttl</th>\n",
       "      <th>proto</th>\n",
       "      <th>chksum</th>\n",
       "      <th>...</th>\n",
       "      <th>dataofs</th>\n",
       "      <th>reserved</th>\n",
       "      <th>flags</th>\n",
       "      <th>window</th>\n",
       "      <th>chksum</th>\n",
       "      <th>urgptr</th>\n",
       "      <th>options</th>\n",
       "      <th>payload</th>\n",
       "      <th>payload_raw</th>\n",
       "      <th>payload_hex</th>\n",
       "    </tr>\n",
       "  </thead>\n",
       "  <tbody>\n",
       "    <tr>\n",
       "      <th>0</th>\n",
       "      <td>4</td>\n",
       "      <td>5</td>\n",
       "      <td>0</td>\n",
       "      <td>961</td>\n",
       "      <td>1</td>\n",
       "      <td></td>\n",
       "      <td>0</td>\n",
       "      <td>64</td>\n",
       "      <td>17</td>\n",
       "      <td>21222</td>\n",
       "      <td>...</td>\n",
       "      <td>None</td>\n",
       "      <td>None</td>\n",
       "      <td>None</td>\n",
       "      <td>None</td>\n",
       "      <td>62990</td>\n",
       "      <td>None</td>\n",
       "      <td>None</td>\n",
       "      <td>933</td>\n",
       "      <td>b'\\x00\\x0c\\x01\\x00\\x00\\x01\\x00\\x00\\x00\\x00\\x00...</td>\n",
       "      <td>b'000c0100000100000000000006676f6f676c6503636f...</td>\n",
       "    </tr>\n",
       "    <tr>\n",
       "      <th>1</th>\n",
       "      <td>4</td>\n",
       "      <td>5</td>\n",
       "      <td>0</td>\n",
       "      <td>975</td>\n",
       "      <td>1</td>\n",
       "      <td></td>\n",
       "      <td>0</td>\n",
       "      <td>64</td>\n",
       "      <td>17</td>\n",
       "      <td>21208</td>\n",
       "      <td>...</td>\n",
       "      <td>None</td>\n",
       "      <td>None</td>\n",
       "      <td>None</td>\n",
       "      <td>None</td>\n",
       "      <td>36378</td>\n",
       "      <td>None</td>\n",
       "      <td>None</td>\n",
       "      <td>947</td>\n",
       "      <td>b'\\x00\\x0c\\x01\\x00\\x00\\x01\\x00\\x00\\x00\\x00\\x00...</td>\n",
       "      <td>b'000c0100000100000000000006676f6f676c6503636f...</td>\n",
       "    </tr>\n",
       "    <tr>\n",
       "      <th>2</th>\n",
       "      <td>4</td>\n",
       "      <td>5</td>\n",
       "      <td>0</td>\n",
       "      <td>1012</td>\n",
       "      <td>1</td>\n",
       "      <td></td>\n",
       "      <td>0</td>\n",
       "      <td>64</td>\n",
       "      <td>17</td>\n",
       "      <td>21171</td>\n",
       "      <td>...</td>\n",
       "      <td>None</td>\n",
       "      <td>None</td>\n",
       "      <td>None</td>\n",
       "      <td>None</td>\n",
       "      <td>63846</td>\n",
       "      <td>None</td>\n",
       "      <td>None</td>\n",
       "      <td>984</td>\n",
       "      <td>b'\\x00\\x0c\\x01\\x00\\x00\\x01\\x00\\x00\\x00\\x00\\x00...</td>\n",
       "      <td>b'000c0100000100000000000006676f6f676c6503636f...</td>\n",
       "    </tr>\n",
       "    <tr>\n",
       "      <th>3</th>\n",
       "      <td>4</td>\n",
       "      <td>5</td>\n",
       "      <td>0</td>\n",
       "      <td>998</td>\n",
       "      <td>1</td>\n",
       "      <td></td>\n",
       "      <td>0</td>\n",
       "      <td>64</td>\n",
       "      <td>17</td>\n",
       "      <td>21185</td>\n",
       "      <td>...</td>\n",
       "      <td>None</td>\n",
       "      <td>None</td>\n",
       "      <td>None</td>\n",
       "      <td>None</td>\n",
       "      <td>65315</td>\n",
       "      <td>None</td>\n",
       "      <td>None</td>\n",
       "      <td>970</td>\n",
       "      <td>b'\\x00\\x0c\\x01\\x00\\x00\\x01\\x00\\x00\\x00\\x00\\x00...</td>\n",
       "      <td>b'000c0100000100000000000006676f6f676c6503636f...</td>\n",
       "    </tr>\n",
       "    <tr>\n",
       "      <th>4</th>\n",
       "      <td>4</td>\n",
       "      <td>5</td>\n",
       "      <td>0</td>\n",
       "      <td>1003</td>\n",
       "      <td>1</td>\n",
       "      <td></td>\n",
       "      <td>0</td>\n",
       "      <td>64</td>\n",
       "      <td>17</td>\n",
       "      <td>21180</td>\n",
       "      <td>...</td>\n",
       "      <td>None</td>\n",
       "      <td>None</td>\n",
       "      <td>None</td>\n",
       "      <td>None</td>\n",
       "      <td>38088</td>\n",
       "      <td>None</td>\n",
       "      <td>None</td>\n",
       "      <td>975</td>\n",
       "      <td>b'\\x00\\x0c\\x01\\x00\\x00\\x01\\x00\\x00\\x00\\x00\\x00...</td>\n",
       "      <td>b'000c0100000100000000000006676f6f676c6503636f...</td>\n",
       "    </tr>\n",
       "  </tbody>\n",
       "</table>\n",
       "<p>5 rows × 28 columns</p>\n",
       "</div>"
      ],
      "text/plain": [
       "  version ihl tos   len id flags frag ttl proto chksum  ... dataofs reserved  \\\n",
       "0       4   5   0   961  1          0  64    17  21222  ...    None     None   \n",
       "1       4   5   0   975  1          0  64    17  21208  ...    None     None   \n",
       "2       4   5   0  1012  1          0  64    17  21171  ...    None     None   \n",
       "3       4   5   0   998  1          0  64    17  21185  ...    None     None   \n",
       "4       4   5   0  1003  1          0  64    17  21180  ...    None     None   \n",
       "\n",
       "  flags window chksum urgptr options payload  \\\n",
       "0  None   None  62990   None    None     933   \n",
       "1  None   None  36378   None    None     947   \n",
       "2  None   None  63846   None    None     984   \n",
       "3  None   None  65315   None    None     970   \n",
       "4  None   None  38088   None    None     975   \n",
       "\n",
       "                                         payload_raw  \\\n",
       "0  b'\\x00\\x0c\\x01\\x00\\x00\\x01\\x00\\x00\\x00\\x00\\x00...   \n",
       "1  b'\\x00\\x0c\\x01\\x00\\x00\\x01\\x00\\x00\\x00\\x00\\x00...   \n",
       "2  b'\\x00\\x0c\\x01\\x00\\x00\\x01\\x00\\x00\\x00\\x00\\x00...   \n",
       "3  b'\\x00\\x0c\\x01\\x00\\x00\\x01\\x00\\x00\\x00\\x00\\x00...   \n",
       "4  b'\\x00\\x0c\\x01\\x00\\x00\\x01\\x00\\x00\\x00\\x00\\x00...   \n",
       "\n",
       "                                         payload_hex  \n",
       "0  b'000c0100000100000000000006676f6f676c6503636f...  \n",
       "1  b'000c0100000100000000000006676f6f676c6503636f...  \n",
       "2  b'000c0100000100000000000006676f6f676c6503636f...  \n",
       "3  b'000c0100000100000000000006676f6f676c6503636f...  \n",
       "4  b'000c0100000100000000000006676f6f676c6503636f...  \n",
       "\n",
       "[5 rows x 28 columns]"
      ]
     },
     "execution_count": 166,
     "metadata": {},
     "output_type": "execute_result"
    }
   ],
   "source": [
    "# Cree un nuevo DF con la conversación entre la IP más frecuente y la IP sospechosa\n",
    "df3 = df2[df2['dst'] == '84.54.22.33']\n",
    "df3.head(5)"
   ]
  },
  {
   "cell_type": "code",
   "execution_count": 167,
   "metadata": {},
   "outputs": [
    {
     "data": {
      "text/plain": [
       "Index(['version', 'ihl', 'tos', 'len', 'id', 'flags', 'frag', 'ttl', 'proto',\n",
       "       'chksum', 'src', 'dst', 'options', 'time', 'sport', 'dport', 'seq',\n",
       "       'ack', 'dataofs', 'reserved', 'flags', 'window', 'chksum', 'urgptr',\n",
       "       'options', 'payload', 'payload_raw', 'payload_hex'],\n",
       "      dtype='object')"
      ]
     },
     "execution_count": 167,
     "metadata": {},
     "output_type": "execute_result"
    }
   ],
   "source": [
    "df.columns"
   ]
  },
  {
   "cell_type": "code",
   "execution_count": 212,
   "metadata": {},
   "outputs": [],
   "source": [
    "# Obtenga los payloads del DF del inciso 6, y añada cada uno en un array. \n",
    "# Muestre el contenido del array.\n",
    "\n",
    "payloads_raw = df[['dport', 'sport', 'payload_raw']]\n",
    "payloads_raw = payloads_raw['payload_raw'].tolist()\n",
    "\n",
    "\n",
    "payloads_string = []\n",
    "\n",
    "for payload in payloads_raw:\n",
    "    payloads_string.append(payload.decode('latin-1'))\n",
    "\n",
    "# ['dport']\n",
    "\n",
    "# payloads_raw[:2]"
   ]
  },
  {
   "cell_type": "code",
   "execution_count": 213,
   "metadata": {},
   "outputs": [
    {
     "data": {
      "text/plain": [
       "['¯Í\\x00\\x06\\x00\\x02\\x8døýM£\\x00ï\\x18\\x04o\\x8aY\\x9bþfs\\x81\\xad\\x95×®³±\\x83ÿÍ`èÍQØT_Óì\\x82Âí\\x8eH\\x00\\x80',\n",
       " 'EPSONP\\x00ÿ\\x00\\x00\\x00\\x00\\x00\\x00',\n",
       " '\\x90çäÂSU\\x1eÈ\\x00\\x02\\x8dö¾Þ\\x00\\x03\\x99LÁ\\x96YÐH\\x8eK¾\\x01ïâ\\x81^\\x1fÀ\\x10\\x0bÜ},dÐ\\x8bpµ\\x03\\x02»já¤±¹ìm\\x9ay{ôd|>\\'ôùý6\\x1c£¿gM\\x80u}\\x80/r¼²Ëú\\x82Õ¸\\x8b-¡7:\\x83\\x8bc@\\t\\x04c\\x1e\\x12ý\\x019)¿Ò\\x14Êv\\x03\\x82âÔ<\\x94Ã\\x9c1æã\\x04hb\\x1f\\x16}³Êóç;¨ðÌ\\x0b\\x0b¿\\x0f\\x15Æ\"\\x1f£¢¼l\\x97ô_§°\\x91M+\\x96ÊÃÞ\\t\\x0c\\x1a\\x1fª]{Ä4½\\x13¶\\x08XºÐ\\x8d´Ã,Û\\x02\\x99\\x97yòyQ²bÿ\\x00\\x1a;Ç3Wpáâw\\x173Ïv&\\x9cÞ(o]\\x985\\x02Í\\x7fùÆãüMÞ3Ë£ÀÖå½ZF\\x1eÚ3b0åÌ,É$\\\\é\\x87n\\x17î¡È3\\x14\\x13®i¾\\x84\\x88i/C=5\\x9bÌ\\x11\\x01JÔ\\x1a[\\x9cQg¶\\x9eú\\x15U\\x8aÙòn_Ð\\x91\\x9e\\x95j\\x7fëÛ]@wy«Úß\\r°¦x|\\x0cÔþÉ\\xadà®g\\x11Ë½tÏ!)/`b¸\\x80N\\x85\\x04\\x8dÀ/tb¬©ÔÚ\\x18T4\\x8a¼¡\\x98pä¥¡\\x00\\x00',\n",
       " '\\x90çäÃSU*¼\\x00\\x02\\x8dö¾Þ\\x00\\x03\\x8fþÂ\\x15ûÏ¬\\x98Þvú9á\\x82°\\x9a9¹.\\x8arô ^w6¦ÿÄ>¶\\x06xVPàñæ\\x1a*)°@D\\x8db_\\'ktá\\x84\\x8eÒ¬}A°\\x97d\\x94d»\\x1d\\x8aÃV\\x1a\\x9eã\"i1¢twîÕh¨{\\x02ùëGKX\\x00\\x1eÞVd\\'þ¦ô¦\\x04ÿ\\x01û\\x17\\x1c}\\x88öx\\x91§ÆÞd]]¹Fq3+à¦¡\\x00\\x00',\n",
       " '\\x90çäÄSU5ü\\x00\\x02\\x8dö¾Þ\\x00\\x03è\\x96*-;Í\\nW6»XN,N\\x0cåu±Ì\\x03Ä\\x99N\\x99\\x8fº\\x8b\\x8dt¶\\x83ûÏn]L{«\\x85ó¥7vý7|¯é\\xadlÂ[\\x0bÃ½GGÆhä\\x9b\\x05ëz±§¡\\x00\\x00',\n",
       " '\\x80È\\x00\\x06\\x00\\x02\\x8dö\\x1eáq+\\np×\\x81)6\\x0eêyi\\x19ûi#\\x02\\x04ª÷=]\\x7f®\\x01.:¥2\\x1bv\\tH6½\\x9d§i=Ì\\xadÒ\\x95\\x8c\\x15\\x15¯\\x03édY3P³µ©lø¨¡\\x00\\x00',\n",
       " '\\x81É\\x00\\x07\\x00\\x02\\x8dø\\x18@)Mér\\x0c\"î\\x11\\x0bØ\\x92WúMçó?u¿!Lö´Ûþ\\x90¬sÌivL\\x91\\x8d\\x979~ø©¡\\x00\\x00',\n",
       " '¯Í\\x00\\x06\\x00\\x02\\x8døõ\\x07¡éÁ¥\\x9eëÉUÈzYd¿\\x18¹å±\\x05ÇyÝã\\x1a½èïûvÃý\\x87Èö-\\x8fH\\x00\\x80',\n",
       " '\\x81É\\x00\\x07\\x00\\x02\\x06æ\\x0fÀä©\\x13\\x11\\x0b\\x8b*×ÁÄ\\x1bt2\\x80O\\x98Ëµr\\x13Lä\\x01©~¡Ý¸\\x8fX\\x05©Auyº#ø\\x0b8\\x00\\x00',\n",
       " '\\x137Êþ¤\\x00\\x00\\x00',\n",
       " '\\x00\\x0c\\x01\\x00\\x00\\x01\\x00\\x00\\x00\\x00\\x00\\x00\\x06google\\x03com\\x00\\x00\\x1c\\x00\\x01ï¿½PNG\\r\\n\\x1a\\n\\x00\\x00\\x00\\rIHDR\\x00\\x00\\x01b\\x00\\x00\\x00ï¿½\\x08\\x06\\x00\\x00\\x00(ï¿½TR\\x00\\x00:ï¿½IDATxï¿½ï¿½\\t|Tï¿½ï¿½ï¿½ï¿½ï¿½;K\\x12\\x08;\\x08ï¿½\\nEï¿½ï¿½$\\x19ï¿½ï¿½Zißª-ï¿½;N2ï¿½ï¿½Vï¿½Vï¿½aï¿½Z\\x11!ï¿½ï¿½\\x01Ü»ik[ï¿½.okï¿½eï¿½\\x01\\\\ï¿½ï¿½]ï¿½-ï¿½ï¿½ï¿½dï¿½\\x08ï¿½\\x08ï¿½ï¿½gï¿½ï¿½ï¿½<ï¿½ï¿½L\\x12ï¿½$3wfï¿½ï¿½\\x02<_\\rï¿½Yï¿½rï¿½ï¿½yï¿½ï¿½ï¿½\\x1c\\r\\x18ï¿½8cï¿½ew\\r\\x1eï¿½ï¿½ï¿½ï¿½\\x13ï¿½iaKï¿½ï¿½ï¿½ï¿½u}Å²wï¿½dï¿½ï¿½\\x15ï¿½\"`\\x06:\\x13ï¿½\\x0bï¿½\\x0c\\x16ï¿½\\x12ï¿½&ï¿½9Æ\\x90ï¿½\\x00ï¿½ï¿½ï¿½\\x08\\x111Ò\\x8cQHP*ï¿½@\\x04O4ï¿½ï¿½ï¿½7<yï¿½\\x0e.9ï¿½ï¿½ï¿½a2@aï¿½ï¿½&\"ï¿½\\x13\\x11ï¿½cï¿½kOï¿½s@ï¿½9ï¿½iï¿½4Xï¿½xï¿½Kï¿½a!fï¿½ï¿½0wï¿½ï¿½3dx\\x1d\"ï¿½ï¿½ï¿½C(ï¿½}ï¿½0|qï¿½*ï¿½ï¿½\\x0bï¿½a!fï¿½4ï¿½ï¿½.ï¿½sKg\\x10\\x11]=9NÔ\\x82\\x06ï¿½ï¿½uï¿½ï¿½ï¿½K_ï¿½e\\x06*ï¿½ï¿½ï¿½\\x19Pxï¿½ï¿½%ï¿½ï¿½\\x03ï¿½3ï¿½ï¿½\\x1e\"E?\\x0fï¿½ï¿½ï¿½+Hï¿½]Qï¿½kï¿½ï¿½ï¿½ï¿½8ï¿½\"ï¿½\\x1d\\x114vï¿½2\\x10ï¿½ï¿½ï¿½å\\x92¯Ì¸|ï¿½x.\\\\ï¿½-bï¿½Iï¿½Bï¿½ï¿½ï¿½@ï¿½Lï¿½ï¿½CJ]XWQï¿½ï¿½ï¿½ï¿½uQï¿½kQ\\x13\\x7fï¿½Nï¿½1\\x00ï¿½ï¿½ï¿½2\\x17ï¿½03\\x10ï¿½\\\\\\x04ï¿½@!ï¿½Hï¿½BJqG\\'+ï¿½Rï¿½U\\\\[ï¿½ï¿½ï¿½ï¿½GXC;ï¿½ï¿½Ô\\x8eï¿½qï¿½!\\x04ï¿½rï¿½s=ï¿½\\x02rÔ´\\x0bï¿½ï¿½ï¿½_Sï¿½%ï¿½phï¿½a\\x12Y\\x05\\x02ï¿½ï¿½ï¿½ï¿½cï¿½ï¿½ï¿½Pï¿½9ï¿½',\n",
       " '\\x00\\x0c\\x81\\x80\\x00\\x01\\x00\\x01\\x00\\x00\\x00\\x00\\x06google\\x03com\\x00\\x00\\x1c\\x00\\x01À\\x0c\\x00\\x1c\\x00\\x01\\x00\\x00\\x01+\\x00\\x10&\\x07ø°@\\x05\\x08\\x07\\x00\\x00\\x00\\x00\\x00\\x00 \\x0e',\n",
       " '\\x00\\x0c\\x01\\x00\\x00\\x01\\x00\\x00\\x00\\x00\\x00\\x00\\x06google\\x03com\\x00\\x00\\x1c\\x00\\x01:ï¿½le:Ç©ï¿½ï¿½ï¿½\\x0cï¿½ï¿½ï¿½:|\\x11ï¿½Xï¿½ï¿½q.eï¿½ï¿½ï¿½a\\x120ï¿½J}4\\n9$vzï¿½Rï¿½uO/ï¿½ï¿½;Ç«]ï¿½ï¿½M\"ï¿½rTÓ£H1iï¿½ï¿½Ë¥Í°\\x103L<kï¿½\\x01_\\x07R\\x1d,ï¿½ï¿½Fï¿½ï¿½ä\\x98¡0]\\x1eï¿½ï¿½ï¿½\\x1eSYï¿½ï¿½\\x0b\\x0fqi3,ï¿½\\x0c\\x13\\x07Dï¿½ï¿½ï¿½\\x0bï¿½ï¿½\\x19c{Oï¿½ï¿½nï¿½QKï¿½\\nï¿½Zï¿½\\x00p)ï¿½63ï¿½ï¿½\\\\\\x13\\'-ï¿½ï¿½U\\x0cy\\x12ï¿½c\\x115ï¿½Vï¿½\\x00ï¿½ê¯«!ï¿½)\\x1dï¿½ï¿½\\x10}ï¿½ï¿½ï¿½*\\x05\\x15Rï¿½ï¿½Gï¿½Xï¿½ï¿½ï¿½Yï¿½S.ï¿½kpvï¿½ï¿½\\x08H\\x1e8ï¿½\\x10zï¿½ï¿½\\x7fï¿½mï¿½a!>\\tï¿½/ï¿½/ï¿½\\x02ï¿½F\\x14\\x02ï¿½@\\x00Bï¿½ï¿½^ï¿½ï¿½ï¿½yï¿½ï¿½\\x10\\x1d.ï¿½ï¿½ï¿½1\\x1d\\x06Ø\\x95\\x11K\\x1bï¿½ï¿½ï¿½ï¿½bï¿½ï¿½ï¿½;ï¿½ï¿½\\x08ï¿½ï¿½=Nï¿½ï¿½ 7\\'\\'k\\x1f\\x02ï¿½ï¿½u\\x0c\\x19ï¿½\\x02ï¿½Oï¿½ï¿½ï¿½aï¿½\\\\\\x16d\\x16bï¿½$aï¿½\\x15ï¿½Fdï¿½ï¿½ï¿½\\x16ï¿½3Zï¿½ï¿½\\x1e\\x13(!Ä¹ï¿½ï¿½ï¿½Wj\\x03ï¿½_S=^ï¿½W?ï¿½%ï¿½ï¿½\\x00ï¿½Rï¿½ï¿½K \\x10ï¿½ï¿½{mV8\\x14B<ï¿½ï¿½ï¿½,x=#\\x16ï¿½iï¿½%dLï¿½ï¿½ï¿½ï¿½\\x08ï¿½ï¿½=kï¿½ï¿½]ï¿½ï¿½ï¿½Æ\\x96ï¿½ï¿½\\rOï¿½ï¿½Iï¿½ï¿½ï¿½\\x1d2ï¿½5h\\x1dï¿½Ú®%ê\\x80\\x8cï¿½\\x1dï¿½ï¿½ï¿½)ï¿½_\\x0fV\\x18ï¿½r+=9ï¿½\\x18ï¿½IDï¿½ï¿½ï¿½:\\x02Lï¿½cï¿½ï¿½\\x0eï¿½ï¿½Rï¿½7\\x1dcï¿½-ï¿½]Dï¿½]\\x08qwï¿½ï¿½ï¿½pï¿½d}ï¿½M(##ï¿½Ú¿{Ë¢Lï¿½sï¿½\\'ï¿½2\\x01\\x1c\\x15^Kï¿½;{rï¿½Q2wï¿½\\x10p;\\nï¿½^ï¿½ï¿½ï¿½~zï¿½ï¿½Pv.ï¿½ï¿½ï¿½\\x00\\x05~ï¿½ï¿½',\n",
       " '\\x00\\x0c\\x81\\x80\\x00\\x01\\x00\\x01\\x00\\x00\\x00\\x00\\x06google\\x03com\\x00\\x00\\x1c\\x00\\x01À\\x0c\\x00\\x1c\\x00\\x01\\x00\\x00\\x01)\\x00\\x10&\\x07ø°@\\x05\\x08\\x07\\x00\\x00\\x00\\x00\\x00\\x00 \\x0e',\n",
       " '\\x00\\x0c\\x01\\x00\\x00\\x01\\x00\\x00\\x00\\x00\\x00\\x00\\x06google\\x03com\\x00\\x00\\x1c\\x00\\x01ï¿½ï¿½^nï¿½\\'\\'ï¿½ï¿½ï¿½$ï¿½ï¿½ï¿½ï¿½ï¿½Rï¿½ï¿½ï¿½\\x17ï¿½>Epouï¿½ï¿½$ï¿½ï¿½Mï¿½ï¿½\\x1cï¿½ï¿½\\x0eï¿½tB\\rï¿½Ôºgï¿½mï¿½ï¿½>8wè\\x84ªï¿½ï¿½5ï¿½ï¿½ï¿½<ï¿½>ï¿½\\x19ï¿½ï¿½l\\x0e<pï¿½ï¿½Ç\\x98ï¿½ï¿½ï¿½w8ï¿½ï¿½@Ô®ï¿½`Yï¿½ï¿½\\x15ï¿½oRï¿½Hï¿½ï¿½hDï¿½(ï¿½;ï¿½8*~o\\x14`Yï¿½mï¿½\\x15ï¿½?ï¿½\\x16Ë¡\\tï¿½\\x04DJï¿½1PDï¿½\\x143Oï¿½\\x16UU\\x18ï¿½wï¿½x.\\x05Cï¿½ï¿½Hï¿½tï¿½ï¿½\\x1a7=ï¿½è¡\\x88\\x11ï¿½\\x1bï¿½_\\x1f06eï¿½0\\x1dï¿½_P4\\x13rï¿½9,6ï¿½\\x18\\rcï¿½\\x06ï¿½Eï¿½<ï¿½SÂ¡ï¿½ï¿½\\x08Ã\\x8f\\x1eNY$\\x04ï¿½\\x08\\x00Xï¿½94ï¿½ï¿½pÖ°ï¿½ï¿½ï¿½ï¿½\\x15\\x17+Â¦ï¿½ï¿½ï¿½0ï¿½S\\x0cUï¿½jï¿½{A\\x7fï¿½\\x08\"zï¿½Cï¿½\\x02Pï¿½{\\x17ï¿½ï¿½eï¿½\\x161sï¿½ï¿½\\x02ï¿½ï¿½ï¿½ï¿½ï¿½ï¿½`ï¿½ï¿½ï¿½\\x07ÂµMï¿½pï¿½ï¿½aï¿½Sï¿½ï¿½;ï¿½ \\x04\\x10Ú°iï¿½\\x07\\x03!i|SÈ¼(ï¿½ï¿½ï¿½ï¿½\\x1eï¿½ï¿½h\\x02\\x18y>\\x00Tpï¿½e!fN(%ï¿½ï¿½\\x1d\\x7fï¿½twï¿½ï¿½ï¿½rÎ\\x98ï¿½ï¿½Gï¿½ï¿½ï¿½Iï¿½ï¿½5ï¿½ï¿½%ï¿½ï¿½ï¿½ï¿½N\\x008gï¿½\\x19`MÖ·ï¿½&|+ï¿½ï¿½\"ï¿½ï¿½ï¿½ï¿½ï¿½ï¿½9ï¿½r\\x03Ñ±\\t\\'(ï¿½ï¿½qï¿½\\x103\\'ï¿½\\x0e\\x13ï¿½@y,ï¿½ï¿½{Rï¿½\\x06ï¿½\\x00ï¿½\\x01Dï¿½ï¿½ï¿½1J\\tï¿½ï¿½\\x1fï¿½;4|ï¿½ï¿½ï¿½\\x0f~ï¿½\\x03NÙºï¿½hï¿½ï¿½ë\\x90®\\\\ï¿½\\x16ï¿½pï¿½ï¿½ï¿½;ï¿½Iï¿½]ï¿½\\x00è\\x80¸Sï¿½ï¿½xï¿½j;?\"\\x0e\\x19~\\nï¿½Å³ï¿½\\x18\\x16bæ\\x84§PLï¿½ï¿½@ï¿½\\x1aï¿½\\x1dAï¿½ï¿½Bï¿½ï¿½6ï¿½\\x12ï¿½\\x1fphï¿½ï¿½\\x16ï¿½ï¿½ï¿½ï¿½sï¿½PAvï¿½ï¿½Oï¿½',\n",
       " '\\x00\\x0c\\x81\\x80\\x00\\x01\\x00\\x01\\x00\\x00\\x00\\x00\\x06google\\x03com\\x00\\x00\\x1c\\x00\\x01À\\x0c\\x00\\x1c\\x00\\x01\\x00\\x00\\x01(\\x00\\x10&\\x07ø°@\\x05\\x08\\x07\\x00\\x00\\x00\\x00\\x00\\x00 \\x0e',\n",
       " '\\x00\\x0c\\x01\\x00\\x00\\x01\\x00\\x00\\x00\\x00\\x00\\x00\\x06google\\x03com\\x00\\x00\\x1c\\x00\\x01ä\\x8e\\x91Bj_ï¿½a\\rï¿½ï¿½ï¿½\\x04ï¿½ï¿½\\x10DJï¿½ï¿½\\x14ï¿½\\x12ï¿½ï¿½Bï¿½\\x05\\x1dB\\r&ï¿½@ï¿½Ö\\x9e\\tï¿½Dï¿½o\\x01ï¿½gcï¿½rï¿½ï¿½1ï¿½\\x12 ï¿½\\nA\\x04\\x1aï¿½aï¿½4Fï¿½Gï¿½ï¿½ï¿½ï¿½ï¿½\\x103ï¿½ï¿½ï¿½Kï¿½ï¿½ï¿½&\\x1c]ï¿½\\x10ï¿½ï¿½\\x0c7\\x03D]ï¿½.ï¿½ï¿½\\x0cï¿½\\x01tx(ï¿½`ï¿½ï¿½ï¿½ï¿½Y]ï¿½ï¿½ï¿½-kï¿½q-\\x02u\\x10ï¿½`@Owï¿½ï¿½\\x1f\\x0bï¿½->W:\\x1dï¿½ï¿½èª\\x98yï¿½ï¿½ï¿½ï¿½Vï¿½ï¿½qï¿½f\\tï¿½ï¿½ï¿½>ï¿½ï¿½\\x0e|ï¿½[\\x03Ã¡\\tï¿½_h>ï¿½ï¿½@ï¿½*\\nï¿½Wï¿½uZï¿½ï¿½ï¿½ï¿½É¼ï¿½ï¿½Õ¸ï¿½?ï¿½zï¿½ï¿½ï¿½\\x08ï¿½!ï¿½5)hzï¿½ï¿½N-ï¿½gï¿½@ï¿½ï¿½6ï¿½-;jï¿½50l\\x113ï¿½Â¦ï¿½\\x1fmï¿½ï¿½ï¿½ï¿½\\x10ï¿½.ï¿½Rï¿½tï¿½|ï¿½_ï¿½ï¿½\\x08vï¿½Xï¿½\\x04D\\x13:ï¿½\\x18ï¿½jï¿½Ï´ï¿½ï¿½ï¿½\\x14x\\x10\\x10rï¿½Z&Bï¿½^ï¿½+ï¿½ï¿½)$1\\x1eï¿½\\x18\\x15ï¿½ï¿½ï¿½Pï¿½eï¿½\\x7f9\\x10ï¿½\"3,ï¿½ï¿½Iï¿½ï¿½\\x10ï¿½8ï¿½Eï¿½#\\x1cÛ¤\\x13(:Sn\\x1c\"ï¿½ï¿½Qï¿½ï¿½f>Bï¿½#ï¿½ï¿½ï¿½ï¿½ï¿½Wï¿½\\x08\\x13ï¿½jQï¿½ï¿½[\\x01Ã¡\\tï¿½_yoï¿½ï¿½9ï¿½ï¿½ï¿½m\"lDï¿½)ï¿½.ï¿½\\x0f\\x18ï¿½ï¿½\\x150,ï¿½Lï¿½Sï¿½ï¿½ï¿½Í¦Isï¿½ï¿½<9Dï¿½ï¿½!\\x08\\x15Vï¿½,\\x7fï¿½kï¿½ï¿½\\x14\\x1cï¿½`zLï¿½\\x12aï¿½,ï\\x92¯H!oAï¿½S\\x01hP\\'ï¿½~Lï¿½Bï¿½\\x01ï¿½ï¿½ï¿½ï¿½ï¿½ï¿½ï¿½kï¿½#ï¿½\\x19Vï¿½X]ï¿½ï¿½\\x12ï¿½8ï¿½Bï¿½\\x0c`A^\\x16\\x11ï¿½y\\x1b<ï¿½ï¿½w\\x10aï¿½@ï¿½\\x07\\x05ï¿½Tï¿½\\nï¿½Zï¿½Mï¿½/ï¿½ï¿½\\x04ï¿½0\\x0c\\x0b1ï¿½0\\x0c\\x0b1ï¿½0\\x0cÓ\\x8fp',\n",
       " \"\\x00\\x0c\\x81\\x80\\x00\\x01\\x00\\x01\\x00\\x00\\x00\\x00\\x06google\\x03com\\x00\\x00\\x1c\\x00\\x01À\\x0c\\x00\\x1c\\x00\\x01\\x00\\x00\\x01'\\x00\\x10&\\x07ø°@\\x05\\x08\\x07\\x00\\x00\\x00\\x00\\x00\\x00 \\x0e\",\n",
       " '\\x00\\x0c\\x01\\x00\\x00\\x01\\x00\\x00\\x00\\x00\\x00\\x00\\x06google\\x03com\\x00\\x00\\x1c\\x00\\x01ï¿½ï¿½ï¿½Ë´ï¿½\\x16ï¿½ï¿½rjï¿½GBWOï¿½ï¿½\\x18Ý¢iï¿½ï¿½0ï¿½\\x18\\x01ï¿½ï¿½ï¿½ï¿½ï¿½\\x13e\"3\\x1cY\\r\\rPï¿½ï¿½ï¿½^nQ\\x0c\\x0b1ï¿½\\x16\\x13/\\\\8$\\'Ë½ï¿½ï¿½ï¿½!ï¿½<~ï¿½K\"ï¿½d\\x00ï¿½ï¿½\\x19ï¿½ï¿½ï¿½ï¿½bï¿½ï¿½ï¿½ï¿½\\t\\x1bï¿½6ï¿½pï¿½b\\x12ï¿½ï¿½\\tï¿½\\x0bCï¿½ï¿½\\x17EEï¿½É\\x80Qï¿½ ï¿½\\rOrA0,ï¿½LZ(\\x12[ï¿½\\x142ï¿½v.\\x02ï¿½ï¿½ï¿½Iï¿½ï¿½ï¿½+\"zï¿½K\"\\x03ï¿½ï¿½ï¿½ï¿½ï¿½\\x15ï¿½ï¿½qI0vpï¿½ï¿½ï¿½ï¿½P\\x07ï¿½Æ¤\\x19ï¿½ï¿½3ï¿½ï¿½ï¿½\\x06\\x01ï¿½ï¿½ï¿½;ï¿½è\\x96°\\x11\\x11ï¿½ï¿½ï¿½$ï¿½_ï¿½\\x12nSï¿½ï¿½ï¿½(ï¿½\\x0b4ï¿½ï¿½\\\\\\x13Xï¿½17\\'ï¿½ï¿½ï¿½ï¿½6ï¿½ï¿½rï¿½.\\x00Ø\\x95ï¿½Cï¿½gï¿½~\\\\ï¿½\\x06\"ï¿½ï¿½u\\x7f.ï¿½Ìµï¿½ï¿½%\\x1cï¿½`\\x18ï¿½a!f\\x18ï¿½9ï¿½ï¿½ï¿½\\x04ï¿½Yï¿½^ï¿½\\x07y2ï¿½ï¿½ï¿½ï¿½ï¿½Ï\\x80ï¿½\\x00\"Ï«;c_ï¿½Ú¼ï¿½Ö®}ï¿½\\x04\\x00ï¿½\\nfXï¿½ï¿½\\x01Kaï¿½~\\x13Jï¿½\\x0e\\x00\\x14\\x08á\\x90±k8ï¿½ï¿½\\x03ï¿½u|ï¿½+Fï¿½ï¿½lMï¿½Å¾FSN\\x03ï¿½Yeï¿½Dï¿½,ï¿½ï¿½ï¿½ï¿½\\'ï¿½ï¿½ï¿½5ï¿½d\\x12\\x0eM0ï¿½\\x10ï¿½ï¿½\\x0bï¿½ï¿½\\x05\\x02\\x0f\\x02JRfTxc\\x7fï¿½Yï¿½\\x03ï¿½\\x04ï¿½\\x00Qï¿½k\\'\\x05ï¿½ï¿½ï¿½\\x08^ï¿½vï¿½ï¿½ï¿½|ï¿½kï¿½a!f\\x06ï¿½\\x08ï¿½ï¿½Wï¿½Ä¯Cï¿½ï¿½u)ï¿½\\x1fï¿½\\x00ï¿½ï¿½o\\x7f\\x04ï¿½)_3\"\\x12)r9\\x1cï¿½\\x15ï¿½ï¿½ï¿½ÇµÏ°\\x103ï¿½ï¿½ï¿½ï¿½ï¿½~ï¿½xnï¿½\\x0cQMï¿½<oï¿½ï¿½ï¿½\\x10)\\'ï¿½ï¿½#ï¿½Zï¿½xï¿½ï¿½+ï¿½\\x19Ë\\xadï¿½ï¿½\\x04\\x1c#fï¿½E^ï¿½×\\x89R,ï¿½ï¿½ï¿½\"Z\\x07ï¿½ï¿½ï¿½ï¿½\\x1d\\x162\\x10ï¿½Wï¿½\\x10G',\n",
       " '\\x00\\x0c\\x81\\x80\\x00\\x01\\x00\\x01\\x00\\x00\\x00\\x00\\x06google\\x03com\\x00\\x00\\x1c\\x00\\x01À\\x0c\\x00\\x1c\\x00\\x01\\x00\\x00\\x01&\\x00\\x10&\\x07ø°@\\x05\\x08\\x07\\x00\\x00\\x00\\x00\\x00\\x00 \\x0e',\n",
       " '\\x00\\x0c\\x01\\x00\\x00\\x01\\x00\\x00\\x00\\x00\\x00\\x00\\x06google\\x03com\\x00\\x00\\x1c\\x00\\x01wï¿½ ï¿½\\x02Rï¿½\\x19\\x00ï¿½^\\x7fï¿½Ã´ï¿½\\x16ï¿½\\x01 \\x1cï¿½ï¿½ï¿½\\x14ï¿½7PAï¿½ï¿½uï¿½\\x00\\x01ï¿½Aï¿½\\x1b\\x100\\'&ï¿½Aï¿½Nï¿½_\\x00ï¿½ln\\r\\x0c\\x0b1ï¿½/8ï¿½ï¿½\\x1dGï¿½ï¿½ï¿½ï¿½\\x1b_ï¿½ï¿½ï¿½)ï¿½ï¿½ï¿½ï¿½A9ï¿½ï¿½ï¿½ï¿½\\x04ï¿½4ï¿½c\\x00ï¿½ï¿½ï¿½ï¿½ï¿½ï¿½Ð¾\\x15+ï¿½\\x04ï¿½\\\\ï¿½7~\\x17ï¿½\\x7f\\x04ï¿½ï¿½Vï¿½ï¿½k@lM\\x0b\\x1aï¿½ï¿½ï¿½ï¿½Í\\x9e4wÑ¨Mï¿½ß·ï¿½[\\x04Ã¡\\tï¿½ï¿½]zI_\"ï¿½\\x0eÓ¹ï¿½Mï¿½-ï¿½>ï¿½ï¿½\\x07ï¿½\\x13Ñ\\x81ï¿½Ç\\x90ï¿½Lï¿½ï¿½ï¿½ï¿½s\\x07ï¿½@\\x01wuï¿½Ú\\x89ï¿½\\x12~<\\x10ï¿½\\x08ï¿½O\\x1d\\x06\\x1eï¿½ +ï¿½ï¿½\\x161ï¿½Bï¿½ï¿½ï¿½\\x12ï¿½ï¿½;?ï¿½[ï¿½ï¿½ï¿½ï¿½b\\x11\\\\ï¿½ï¿½\\x05Rï¿½ï¿½ï¿½ï¿½/ï¿½ï¿½\\x17ï¿½ï¿½5ï¿½cï¿½/Phï¿½ï¿½\\x04Evï¿½Q&TBï¿½-\\x13ï¿½ï¿½ï¿½ï¿½ï¿½ï¿½ï¿½\\x103ï¿½\\r5\\x15ï¿½sï¿½)ï¿½\\x10â\\x9c\\x99Wï¿½\\x13ï¿½ï¿½:\"ï¿½\\x13(>ï¿½aï¿½0C5É\\x92ï¿½\\x13Bï¿½yxB8ï¿½f\\x19\\x16bï¿½xï¿½,ï¿½zï¿½ï¿½Qï¿½ï¿½ï¿½ï¿½ï¿½fï¿½ï¿½ï¿½dï¿½ï¿½Yï¿½.ï¿½\\x109_ï¿½\\n4ï¿½Wï¿½z\\x18\\x16bæ¤\\xa0ï¿½Â¸ï¿½ï¿½ï¿½nï¿½ï¿½:\\x1dï¿½ï¿½ï¿½ï¿½W,\\x1aÑ\\x9bï¿½\\x1cß\\x91ï¿½mï¿½ï¿½/6ï¿½ï¿½ï¿½Þ¬zï¿½ï¿½ï¿½ï¿½\\x0c\\x0b1sï¿½Xï¿½&ï¿½ï¿½bcï¿½ï¿½*ï¿½ï¿½lï¿½sï¿½ï¿½Wï¿½ï¿½ï¿½8i~Qï¿½uï¿½ï¿½\\x03v\\\\xï¿½ï¿½ï¿½Wï¿½ï¿½ï¿½rï¿½0ï¿½\\tO_cï¿½ï¿½Zï¿½ï¿½7ï¿½}Kï¿½ï¿½Pï¿½\\x1fbï¿½\\x18ï¿½ï¿½ï¿½ï¿½ï¿½g~ï¿½yï¿½\\n}ï¿½Vï¿½W\\x03ï¿½@ï¿½7ï¿½ï¿½zï¿½ï¿½ï¿½3ï¿½nï¿½\\x10r:)ï¿½!\\x1cï¿½ï¿½ï¿½ï¿½\\x07ï¿½\\\\ï¿½\\x11ï¿½ï¿½ï¿½9)ï¿½ï¿½/{`',\n",
       " '\\x00\\x0c\\x81\\x80\\x00\\x01\\x00\\x01\\x00\\x00\\x00\\x00\\x06google\\x03com\\x00\\x00\\x1c\\x00\\x01À\\x0c\\x00\\x1c\\x00\\x01\\x00\\x00\\x01%\\x00\\x10&\\x07ø°@\\x05\\x08\\x07\\x00\\x00\\x00\\x00\\x00\\x00 \\x0e',\n",
       " '\\x00\\x0c\\x01\\x00\\x00\\x01\\x00\\x00\\x00\\x00\\x00\\x00\\x06google\\x03com\\x00\\x00\\x1c\\x00\\x01VQï¿½ï¿½ï¿½ï¿½ï¿½ï¿½ï¿½G-Uï¿½|ï¿½pï¿½ï¿½`^\\x0bï¿½ï¿½ï¿½)ï¿½\\x1aAï¿½\":ï¿½ï¿½ï¿½\\x01ï¿½ï¿½ï¿½I\"ï¿½ï¿½/\\x06\\x01C\\x05ï¿½p\\x12pï¿½\\x00ï¿½\\x05\\x00ï¿½Ð\\x81Nï¿½\\x080QgKx×\\x81ï¿½pï¿½\\x07ï¿½ï¿½{ï¿½kï¿½a!fN^Ë¸ï¿½ï¿½G3ï¿½%;\\x1cï¿½|\"6\\tPï¿½`ï¿½-ï¿½ï¿½-\\x11f\\x03ï¿½M2ï¿½\\x11lï¿½6Ö¥!;ï¿½ï¿½Zï¿½ï¿½ï¿½{ï¿½ï¿½vï¿½fG@ï¿½ï¿½ï¿½ï¿½ï¿½ï¿½/ï¿½P\\x06\"-ï¿½\\x1aï¿½ï¿½1\\x1c#fï¿½)?jCï¿½ï¿½;.ï¿½Hï¿½ï¿½ï¿½ï¿½?ï¿½ï¿½ï¿½ï¿½)ï¿½ï¿½Iá¬\\x89u/ï¿½:%ï¿½ï¿½ï¿½,uMpï¿½1\\x1c\\x02é\\x8b°\\x19\\nï¿½Dï¿½\\x10ï¿½\\x06Ó¢ï¿½ï¿½50,ï¿½Lï¿½ph_ï¿½oÚ§ï¿½Eï¿½ï¿½,ï¿½ï¿½\\x1ekï¿½_ï¿½ï¿½Uï¿½_zï¿½iZï¿½\\x10ï¿½ï¿½]ï¿½ï¿½ï¿½tï¿½\\x00ï¿½ï¿½ï¿½Cï¿½ï¿½ï¿½VWï¿½ï¿½ï¿½ï¿½qê\\x9f¾ï¿½ï¿½RfMï¿½=+ï¿½ï¿½Vï¿½ï¿½ï¿½En\\r\\x0c\\x0b1ï¿½/l~á\\x81\\x83ï¿½\\x1dï¿½\\x0cï¿½ï¿½Ù\\x8dÍ¡Q5ï¿½ï¿½Oï¿½ï¿½ï¿½5ï¿½ï¿½ï¿½\\x07ï¿½ï¿½ï¿½ï¿½!8ï¿½Ttï¿½\"zï¿½\\x08\\x1aï¿½\\x17^PDï¿½ï¿½\\x08ï¿½ï¿½REï¿½ï¿½ï¿½\\x0eï¿½ï¿½3jï¿½4vï¿½ï¿½\\x1aï¿½ï¿½ï¿½\\x05ï¿½ï¿½ï¿½\\x0bï¿½ï¿½ Xaï¿½ï¿½ï¿½d\\x02ï¿½\\x113ï¿½gï¿½aï¿½\\x01ï¿½ï¿½ï¿½aï¿½V\\x1bï¿½\\x00ï¿½ï¿½\\x1f\\x18sÑ\\x9d9cï¿½ï¿½G\\x0b-y{ï¿½\\x0eï¿½ï¿½ï¿½\\x7fp[oï¿½ï¿½ï¿½\\nÞ¡ï¿½a!fN2vï¿½ï¿½ï¿½]\\x00\\x1fpI0\\x1cï¿½`\\x18ï¿½aXï¿½\\x19ï¿½aXï¿½\\x19ï¿½a\\x18\\x16bï¿½a\\x18\\x16bï¿½a\\x18ï¿½ï¿½ï¿½a\\x18ï¿½ï¿½ï¿½a\\x18ï¿½a!f\\x18ï¿½a!f\\x18ï¿½aXï¿½\\x19ï¿½aXï¿½\\x19ï¿½a\\x18\\x16bï¿½a\\x18\\x16bï¿½a',\n",
       " '\\x00\\x0c\\x81\\x80\\x00\\x01\\x00\\x01\\x00\\x00\\x00\\x00\\x06google\\x03com\\x00\\x00\\x1c\\x00\\x01À\\x0c\\x00\\x1c\\x00\\x01\\x00\\x00\\x01$\\x00\\x10&\\x07ø°@\\x05\\x08\\x07\\x00\\x00\\x00\\x00\\x00\\x00 \\x0e',\n",
       " '\\x00\\x0c\\x01\\x00\\x00\\x01\\x00\\x00\\x00\\x00\\x00\\x00\\x06google\\x03com\\x00\\x00\\x1c\\x00\\x01\\x18ï¿½Gpï¿½ï¿½\\x13ï¿½\\x19Wï¿½ï¿½q8ï¿½r@ï¿½Jï¿½ï¿½S=ï¿½$ï¿½Qï¿½ï¿½3ï¿½ï¿½3ï¿½~\\x1b D\\x02zï¿½Å\\x82\\x0bï¿½\\x03Æ\\x91L\\x1duï¿½Uï¿½Dï¿½Jï¿½8ï¿½?ï¿½\\tï¿½>ihlï¿½ï¿½ï¿½g\\x1eLiï¿½~\\x02\\\\^ï¿½+ï¿½#ï¿½Û\\x87,ï¿½\\x1eï¿½ï¿½Aï¿½{ï¿½ï¿½ï¿½ï¿½0ï¿½ï¿½ï¿½\\n!Ð\\x97ï¿½ï¿½yï¿½2Wsï¿½nï¿½\\x1cï¿½\\x13\\x08ï¿½ï¿½~ï¿½ï¿½ï¿½Y\\x1a\\x1eï¿½<ï¿½\\x05ï¿½Fï¿½ï¿½ï¿½ï¿½4wï¿½ï¿½ï¿½ï\\x93²ï¿½ï¿½ï¿½\\x08ï¿½\\r\\x1a<ï¿½cHï¿½ï¿½p&\\x02ï¿½ï¿½Ð\\x8dï¿½ï¿½\\x0bï¿½Å¥\\x13k*Ê\\x97s\\x0fï¿½ï¿½\\x043\\x00@ï¿½9ï¿½:ï¿½lï¿½8Hï¿½\\x10ï¿½iï¿½ï¿½>6 \\x11Qï¿½ï¿½\\x0253#\\r\\\\\\x0e\\x1f\\x1cï¿½1ï¿½ñ\\x9e¢·ï¿½jï¿½cï¿½:.^Í\\xadï¿½-bfï¿½(1ï¿½ï¿½\\x15+\\x1c>\\x10oï¿½Íµï¿½\\x07\\x0ez|ï¿½AD\\x1cÒ\\x9fï¿½Dï¿½@*ï¿½ï¿½Ó¼ï¿½\\x7f\\x17>ï¿½ï¿½ï¿½ï¿½\\x03d\\x03y\\x07ï¿½Fï¿½JYï¿½xeï¿½uï¿½ï¿½<bï¿½Þ\\x8cï¿½ï¿½4\\x03\\x1eÈ\\x8dï¿½ï¿½ï¿½\\x19ï¿½ï¿½ï¿½ï¿½Ep}ï¿½ï¿½\\x1a)|~\\x168_Dï¿½Qï¿½`8\\x1eï¿½E\\nï¿½qï¿½\\x18r#Lï¿½ï¿½ï¿½ï¿½\\x05B-ï¿½ï¿½ï¿½\\tEï¿½R\\x0bï¿½ï¿½?Kvmï¿½ï¿½0ï¿½ï¿½ï¿½2ï¿½3\\x1e_ï¿½ADï¿½=fyï¿½+U;ï¿½pdG×º]ï¿½_\\x01\\x04ï¿½ï¿½y\\x1fï¿½jDï¿½ï¿½ï¿½ï¿½\\x13\\x0eï¿½ï¿½jW.[= +sï¿½ï¿½Å¯ï¿½ï¿½ï¿½g>nEï¿½ï¿½b\\x06ï¿½ï¿½ï¿½ï¿½(ï¿½\\x1eï¿½\\x1613 #\\x15Hï¿½ï¿½ï¿½<Þ®;ï¿½\\x03ï¿½<cï¿½\\x08\"ï¿½z-<@ï¿½ï¿½ï¿½\\x15ahÝ\\x8c5ï¿½eÜ¸O`ï¿½a\\x1d3`Dï¿½ï¿½\\nyï¿½hS/ï¿½ï¿½*ï¿½ï¿½\\x19.hï¿½-bï¿½\\x17ï¿½ï¿½\\x13%ï¿½T\\x1f',\n",
       " '\\x00\\x0c\\x81\\x80\\x00\\x01\\x00\\x01\\x00\\x00\\x00\\x00\\x06google\\x03com\\x00\\x00\\x1c\\x00\\x01À\\x0c\\x00\\x1c\\x00\\x01\\x00\\x00\\x01#\\x00\\x10&\\x07ø°@\\x05\\x08\\x07\\x00\\x00\\x00\\x00\\x00\\x00 \\x0e',\n",
       " '\\x00\\x0c\\x01\\x00\\x00\\x01\\x00\\x00\\x00\\x00\\x00\\x00\\x06google\\x03com\\x00\\x00\\x1c\\x00\\x01ï¿½ï¿½\\x1e\\x00Î\\x9arï¿½>Î\\x99mï¿½ï¿½ï¿½ï¿½\\r\\x00ï¿½nï¿½\\x0cï¿½!Eï¿½ï¿½$ï¿½[&ï¿½%3\\x0c\\x0b1ï¿½\\tlï¿½dï¿½ï¿½\\x1eï¿½wï¿½ï¿½\\x19c;\\x00ï¿½lï¿½aï¿½ï¿½\\nï¿½ ï¿½Y\\x1d\\x014sï¿½ï¿½8phï¿½ï¿½ï¿½NVï¿½d.ï¿½\\x13rï¿½\\x1dï¿½ï¿½7ï¿½ï¿½ï¿½LXï¿½ï¿½\\x01ï¿½\\x02x%ï¿½w)ï¿½ï¿½Isï¿½\\\\.ï¿½\\x13ï¿½ï¿½+\\x16MFï¿½\\x0eÞ«ï¿½ï¿½K\\\\2,ï¿½ï¿½\\x00ï¿½ï¿½{ï¿½ï¿½ï¿½*\\x0b\\x06\\x0fï¿½\\x7fqÉ\\x9c8Hï¿½ï¿½ï¿½\\x14ï¿½\\x18ï¿½\\x00Tï¿½ï¿½ï¿½ï¿½ï¿½a!f\\x06\\x08{ï¿½<vï¿½\\x14ï¿½Ð¡R\\x11=ï¿½Eï¿½\\x12.ï¿½ï¿½Â¢ï¿½ß\\xa0ï¿½3\\x10(fï¿½ï¿½ï¿½aï¿½ï¿½a.ï¿½\\x13\\x07^ï¿½q\\x020ï¿½ï¿½\\x1dpï¿½ï¿½Pç¥¼Dï¿½ï¿½GÖ\\x9eï¿½ï¿½\\x13xï¿½g\\x0c\\x1cgLï¿½D\\x1f9h\\x10ï¿½Bï¿½\\x0b:wÙ½ï¿½Õ°ï¿½kï¿½\\x03\\\\J,ï¿½ï¿½\\x00#ß§?$\\x01î\\x88·\\x0cï¿½\"ï¿½ï¿½\\x16z.\\x1cï¿½{ï¿½ï¿½\\x066ï¿½,kï¿½ï¿½ï¿½F!d\\tDï¿½<Sï¿½ï¿½4ï¿½uKMï¿½ï¿½Ç¹ï¿½Xï¿½ï¿½\\x01ï¿½ï¿½ï¿½t5JqeÂªï¿½ï¿½\\x1eï¿½\\x10ï¿½ï¿½\\r\\x14E)zï¿½ï¿½Â¸ï¿½\\x0bï¿½ï¿½Cr\\x11ï¿½8ï¿½Xï¿½ï¿½ï¿½ï¿½s&D\\x0cdN\\x10s\\x02i3\\x11)ï¿½ï¿½ï¿½\\x15ï¿½]\\\\\\x1al\\x113ï¿½\\tï¿½ï¿½J\\nï¿½\\x03\\x1fE\\x14ï¿½q\\x05\\x1fï¿½XDÏ\\x86ï¿½ï¿½ï¿½ï¿½?ï¿½ï¿½}.\\r\\x16bï¿½8dï¿½U%ï¿½9\\x1dï¿½!\\x14pvï¿½\\x0c\\x19ï¿½ï¿½ï¿½\\x07ï¿½7ï¿½\\x1aCï¿½+ï¿½jï¿½~]ï¿½ï¿½:.\\x13ï¿½a\\x18ï¿½ï¿½ex\\x1e1ï¿½0\\x0c\\x0b1ï¿½0\\x0c\\x0b1ï¿½0\\x0cï¿½Bï¿½0\\x0cï¿½Bï¿½0\\x0cÃ°\\x103\\x0cÃ°\\x103\\x0cï¿½0,ï¿½\\x0cï¿½0,ï¿½\\x0cï¿½0\\x0c\\x0b1ï¿½0\\x0c\\x0b1ï¿½0\\x0cï¿½',\n",
       " '\\x00\\x0c\\x81\\x80\\x00\\x01\\x00\\x01\\x00\\x00\\x00\\x00\\x06google\\x03com\\x00\\x00\\x1c\\x00\\x01À\\x0c\\x00\\x1c\\x00\\x01\\x00\\x00\\x01\"\\x00\\x10&\\x07ø°@\\x05\\x08\\x07\\x00\\x00\\x00\\x00\\x00\\x00 \\x0e',\n",
       " '\\x00\\x0c\\x01\\x00\\x00\\x01\\x00\\x00\\x00\\x00\\x00\\x00\\x06google\\x03com\\x00\\x00\\x1c\\x00\\x01Bï¿½0\\x0cï¿½Bï¿½0\\x0cÃ°\\x103\\x0cÃ°\\x103\\x0cï¿½0,ï¿½\\x0cï¿½0,ï¿½\\x0cï¿½0\\x0c\\x0b1ï¿½0\\x0c\\x0b1ï¿½0\\x0cï¿½Bï¿½0\\x0cï¿½Bï¿½0\\x0cÃ°\\x103\\x0cÃ°\\x103\\x0cï¿½0ï¿½ï¿½ï¿½ï¿½Gu1Ë§ï¿½\\x11$ï¿½,ï¿½ï¿½\\x06\\x14#\\x00h\\x10\\x10\\x1c\\x06ï¿½\\x16 h\\x04\\x01ï¿½X&Ô\\x83&ï¿½ï¿½Æ¬ï¿½\\x00ï¿½ï¿½uï¿½\\x17pï¿½ï¿½ï¿½\"\\x14x\\x1b\"ï¿½dï¿½%\\x00ï¿½\\x00\\x07ï¿½@ ï¿½\\x16\"ï¿½fYj}Kï¿½ï¿½ï¿½ï¿½ï¿½<ï¿½ï¿½ï¿½kï¿½ï¿½3ï¿½ï¿½3Sï¿½\\x1c^Dï¿½ï¿½ï¿½ï¿½\\x08ï¿½ï¿½ï¿½\\x08H! ï¿½ï¿½\\x14ï¿½mï¿½\\nï¿½\\x05ï¿½ï¿½qq\\r,\\nï¿½ï¿½\\x1f!ï¿½ï¿½\\x04}ï¿½yï¿½ï¿½>ï¿½ï¿½\\x1f=Ô³ï¿½xï¿½ï¿½7ï¿½o\\x00ï¿½Ô\\x9do\\x13\\x00666ï¿½ï¿½d\\x1fï¿½ï¿½-ï¿½ï¿½ï¿½\\x16Dï¿½]D\\x04\"\\x05DD\\x18ï¿½%ï¿½ï¿½ï¿½ï¿½Eï¿½\\x17\\x00(@ï¿½ï¿½ï¿½\\nï¿½\\x19Pï¿½\\n(ï¿½\\x7fÕ°iï¿½ï¿½&Î\\x85ï¿½ï¿½7ï¿½ï¿½ï¿½Dï¿½<ï¿½ï¿½9Zï¿½ï¿½ï¿½\\x11P\\x08Pï¿½ï¿½ï¿½ï¿½]ï¿½ï¿½\\x11Kï¿½ï¿½X 6ï¿½\\x07ï¿½\\x10wï¿½Ì\\x93ï¿½]|ï¿½\\x10ï¿½B!Å\\x82H[&eÙ¶y\\x142R?-\\x00ï¿½p\\x08ï¿½[mlï¿½Rï¿½ï¿½Aï¿½ï¿½ï¿½Cï¿½ï¿½ï¿½Ø´ï¿½ï¿½WW,-ï¿½ï¿½Yfï¿½ï¿½8\\'ï\\x8c\\x902ï¿½ï¿½>\\x04ï¿½ï¿½ï¿½\\tï¿½8ï¿½Xï¿½ï¿½Dx\\x10Qï¿½JGD\\x12ï¿½Jï¿½$Tï¿½ï¿½U~ï¿½ï¿½,ï¿½=ï¿½ï¿½,\"ï¿½D\\n~P]iï¿½/ï¿½ï¿½\\x0c\\x08ï¿½ï¿½ï¿½!ï¿½ï¿½\\x02ï¿½\\x01uï¿½ï¿½\"Æ\\x8aRï¿½Ã\\x96ï¿½\\n[ï¿½ï¿½Ç\\x8cï¿½\\x7f0Þ\\x953ï¿½ï¿½Dï¿½\\x18ï¿½%\\x00ï¿½\\x17ï¿½\\x1b#ï¿½[ï¿½-ï¿½ï¿½nï¿½\\x181\\x16ï¿½/ï¿½Cï¿½ï¿½ï¿½\\x000ï¿½ï¿½\\x02rÔ\\x8aï¿½ï¿½7ï¿½ï¿½&ï¿½ï¿½ï¿½\\x1eP\"ï¿½d',\n",
       " '\\x00\\x0c\\x81\\x80\\x00\\x01\\x00\\x01\\x00\\x00\\x00\\x00\\x06google\\x03com\\x00\\x00\\x1c\\x00\\x01À\\x0c\\x00\\x1c\\x00\\x01\\x00\\x00\\x01!\\x00\\x10&\\x07ø°@\\x05\\x08\\x07\\x00\\x00\\x00\\x00\\x00\\x00 \\x0e',\n",
       " '\\x00\\x0c\\x01\\x00\\x00\\x01\\x00\\x00\\x00\\x00\\x00\\x00\\x06google\\x03com\\x00\\x00\\x1c\\x00\\x01ï¿½ï¿½ï¿½<>}ï¿½ï¿½ï¿½%ï¿½ï¿½Rï¿½A\\x08ï¿½ï¿½tï¿½ï¿½ï¿½\\\\\\x07@cï¿½-ï¿½Gï¿½9ï¿½u9ï¿½ï¿½ï¿½E%wqï¿½ï¿½\\x0f\\x0eï¿½ï¿½oï¿½ï¿½cï¿½.ï¿½8ï¿½ï¿½ï¿½gï¿½ï¿½ï¿½\\n!ï¿½ï¿½.ï¿½|ï¿½ï¿½ï¿½\\x04ï¿½pï¿½&:ï¿½b=\\x16\\x0f\\x14cï¿½ï¿½dï¿½<ï¿½ï¿½Wï¿½\\x08\\x1bå\\x96\\x8eM\\x1eï¿½ï¿½RÞ\\x97ï¿½ï¿½\\\\2é\\xa0\\x8bBï¿½ï¿½ï¿½ï¿½ï¿½^\"+#m>r\\x0cR\\x16\\x08)\\x1f(,ï¿½ï¿½\\x1d9\\x07ï¿½s\\x1fï¿½\\rï¿½ï¿½Rï¿½\\'\\x18~ï¿½ï¿½\\x07ï¿½ï¿½^(:ï¿½Ñ¥ï¿½Qï¿½\\x19ï¿½v:\"ï¿½ï¿½gï¿½ï¿½ï¿½tX\"ï¿½YZGï¿½ï¿½ï¿½ï¿½pÇ¤ï¿½\\x0brï¿½+ï¿½Fï¿½ï¿½j\\x05â¹½gï¿½ï¿½\\x1cO1ï¿½ï¿½%Ý\\x87Þ\\x8dï¿½ï¿½\"LIï¿½ï¿½$ï¿½\\x07ï¿½%ï¿½.b]3!ï¿½Eï¿½k*\\x1d\\x06ï¿½=\\x04ï¿½@@ï¿½\\x14ï¿½ï¿½}ï¿½5ï¿½`ï¿½ï¿½ï¿½ï¿½ï¿½)ï¿½ï¿½É\\x9cd\\x11ï¿½ï¿½\\x14=Õ«\\x162ï¿½cÈ°ï¿½\\x07g\\x15ï¿½ï¿½ï¿½K&\\x11ï¿½bï¿½ï¿½\\x02ï¿½ï¿½ï¿½ï¿½<@3\\x11ï¿½TD;ï¿½ï¿½%uï¿½Lï¿½.,.}ï¿½Kï¿½ï¿½\\\\}ï¿½ï¿½m1ï¿½ï¿½Ejï¿½ï¿½\\x15ï¿½]ï¿½ï¿½ï¿½ï¿½ï¿½ï¿½ï¿½\\rÍ¡ï¿½Lï¿½:ß´ï¿½bï¿½ï¿½;ï¿½ï¿½1ï¿½vï¿½\\x10ï¿½VRï¿½ï¿½\"kqï¿½ï¿½ï¿½\\x03ï¿½Ç§7\\x03ï¿½ï¿½ï¿½5ï¿½0)ï¿½ï¿½ï¿½ï¿½\\x1a~ï¿½ï¿½\\x1f\\x0f7Ä¾3vï¿½ï¿½ï¿½Cï¿½\\x1c}jï¿½&ï¿½Bï¿½yï¿½/\\x00BA\\x7fï¿½ï¿½$ï¿½ï¿½ï¿½\\x10XjSIï¿½ï¿½ï¿½ï¿½Sï¿½\\\\tï¿½{ï¿½Pï¿½i\\x02ï¿½ç\\x84\\x80ï¿½Bï¿½ï¿½ï¿½ï¿½Ï±ï¿½\\x1eQï¿½~ï¿½qï¿½ï¿½ï¿½\\x03\\x07ï¿½kÆ±ï¿½ï¿½K/ï¿½4ï¿½)R*\\x15ï¿½cï¿½ï¿½ï¿½ï¿½ï¿½ï¿½ï¿½Uï¿½ï¿½Ò\\x87\\x08ï¿½\"ï¿½ï¿½\\x14ï¿½\\x18ï¿½ï¿½ï¿½~\\x16ï¿½ï¿½C3ï¿½',\n",
       " '\\x00\\x0c\\x81\\x80\\x00\\x01\\x00\\x01\\x00\\x00\\x00\\x00\\x06google\\x03com\\x00\\x00\\x1c\\x00\\x01À\\x0c\\x00\\x1c\\x00\\x01\\x00\\x00\\x01 \\x00\\x10&\\x07ø°@\\x05\\x08\\x07\\x00\\x00\\x00\\x00\\x00\\x00 \\x0e',\n",
       " 'ÚÑ\\x01\\x00\\x00\\x01\\x00\\x00\\x00\\x00\\x00\\x00\\x08clients4\\x06google\\x03com\\x00\\x00\\x01\\x00\\x01',\n",
       " 'Q\\x19\\x01\\x00\\x00\\x01\\x00\\x00\\x00\\x00\\x00\\x00\\x08clients4\\x06google\\x03com\\x00\\x00\\x1c\\x00\\x01',\n",
       " 'ÚÑ\\x81\\x80\\x00\\x01\\x00\\x02\\x00\\x00\\x00\\x00\\x08clients4\\x06google\\x03com\\x00\\x00\\x01\\x00\\x01À\\x0c\\x00\\x05\\x00\\x01\\x00\\x00\\x00\\x83\\x00\\x0c\\x07clients\\x01lÀ\\x15À1\\x00\\x01\\x00\\x01\\x00\\x00\\x00\\x83\\x00\\x04Ø:Â®',\n",
       " 'Q\\x19\\x81\\x80\\x00\\x01\\x00\\x02\\x00\\x00\\x00\\x00\\x08clients4\\x06google\\x03com\\x00\\x00\\x1c\\x00\\x01À\\x0c\\x00\\x05\\x00\\x01\\x00\\x00\\x00\\x83\\x00\\x0c\\x07clients\\x01lÀ\\x15À1\\x00\\x1c\\x00\\x01\\x00\\x00\\x00\\x83\\x00\\x10&\\x07ø°@\\x05\\x08\\x04\\x00\\x00\\x00\\x00\\x00\\x00 \\x0e',\n",
       " '\\x00\\x0c\\x01\\x00\\x00\\x01\\x00\\x00\\x00\\x00\\x00\\x00\\x06google\\x03com\\x00\\x00\\x1c\\x00\\x01~ï¿½ï¿½ï¿½ ï¿½3ï¿½ï¿½+ï¿½\\x1eï¿½ï¿½(ï¿½5sï¿½ï¿½ï¿½\"ï¿½Dï¿½Msbm`ï¿½\\x07ï¿½ï¿½Eï¿½vÌ\\x98ï¿½ï¿½\\\\Dï¿½\\x15HEï¿½ï¿½ï¿½oLMï¿½ï¿½ï¿½ï¿½ï¿½7ï¿½X\\x0bï¿½Mï¿½ï¿½ï¿½sCï¿½ï¿½:Hï¿½ï¿½Yï¿½\\x1aï¿½W\\x02ï¿½ï¿½bï¿½(Cï¿½|vï¿½\\x03\\x1av\\x01lï¿½Ö\\x9fï¿½ï¿½ï¿½:ï¿½\\x12}dN\\x0e\\x19ï¿½xï¿½ï¿½ï¿½sï¿½ï¿½1JR4Dï¿½ï¿½Nï¿½pï¿½ï¿½ï¿½/ï¿½\\x18Ç\\x92ï¿½Õ\\x9dBï¿½jeYd7ï¿½\\x11ï¿½IJï¿½ï¿½:\\tp;U\\x15ï¿½\\x1f\\x00ï¿½ï¿½ï¿½ï¿½\\x1b\\x01ï¿½vÇ\\x8aï¿½ï¿½3ï¿½ï¿½ï¿½Aï¿½q\\\\\\x03ï¿½Gï¿½\\x15ï¿½&ï¿½@g:\\x0f\\\\Qï¿½o\\x02ï¿½ï¿½}uï¿½\\x04]\\x07ï¿½hhBsh_KfaYï¿½57ï¿½ï¿½lzï¿½ï¿½Cï¿½ï¿½ï¿½%ï¿½\\x181iï¿½)\\x1a7ï¿½ï¿½ï¿½ï¿½ï¿½Þª\\nï¿½-ï¿½\\x0fï¿½!ï¿½ï¿½dnï¿½@Ô\\x86ï¿½tï¿½ï¿½Kï¿½#\\x1aï¿½[#mï¿½Ö»@\\x04ï¿½%Tï¿½Hï¿½;ï¿½ï¿½ï¿½\\x7fO\\x04ï¿½MV\\x1f\\x088ï¿½ï¿½[ï¿½mï¿½ï¿½^\\x0cKï¿½ï¿½7ï¿½\\x13a\":b#pï¿½ï¿½ï¿½Ü\\x9cÝ¯ï¿½\\x1dï¿½ï¿½ï¿½ï¿½Iï¿½ï¿½ï¿½Î¦t\\x12ï¿½)Ñ\\x81ï¿½ï¿½Ã\\x87psï¿½\\x19ï¿½\\x7fï¿½É¾ï¿½\\nc\\x10)ï¿½iï¿½\\nFyNï¿½ï¿½ï¿½\\x02.ï¿½Vf_rsï¿½Cï¿½\\x1eJbï¿½ï¿½2ï¿½ï¿½kï¿½ï¿½w]ï¿½Ç\\xadï¿½0ï¿½ï¿½ï¿½ï¿½/i}H|ï¿½kï¿½\\x17\\x1dJ!ï¿½Wï¿½\\x16ï¿½ï¿½ï¿½ï¿½Í¸ï¿½ï¿½ï¿½Sï¿½ï¿½ï¿½B\\x0c\\x08ï¿½%ï¿½\\\\Zï¿½muEï¿½ï¿½\\x11ï¿½.^\\x13\\x17Bc!ï¿½\\x10ï¿½\\nï¿½vEï¿½L2GHJÇ³\\\\Zmï¿½1ï¿½?%u[ï¿½ï¿½ï¿½*ï¿½\\x1fHï¿½ï¿½U\\x15ï¿½ï¿½\\x10Qï¿½ï¿½e,ï¿½ï¿½^ï¿½h2ï¿½Dï¿½ï¿½-ï¿½6Æ\\x99ï¿½ï¿½',\n",
       " '\\x00\\x0c\\x81\\x80\\x00\\x01\\x00\\x01\\x00\\x00\\x00\\x00\\x06google\\x03com\\x00\\x00\\x1c\\x00\\x01À\\x0c\\x00\\x1c\\x00\\x01\\x00\\x00\\x01\\x1f\\x00\\x10&\\x07ø°@\\x05\\x08\\x07\\x00\\x00\\x00\\x00\\x00\\x00 \\x0e',\n",
       " '\\x00\\x0c\\x01\\x00\\x00\\x01\\x00\\x00\\x00\\x00\\x00\\x00\\x06google\\x03com\\x00\\x00\\x1c\\x00\\x01ï¿½ï¿½ï¿½ï¿½pï¿½Q!eï¿½\\x1e\\x12ï¿½%\\\\Ø¯^ZÛ\\x95 ï¿½=\\x02\"L{ï¿½\\t\\x11ï¿½\\x12\\x11\\x17tiï¿½\\x0eï¿½GB|ï¿½ï¿½ï¿½,7ï¿½\\x07ï¿½p6Kï¿½ï¿½ï¿½[ï¿½ê\\x8e¸\\x0eï¿½\\x1aï¿½ï¿½\\x02\\x1asÑ\\x9d9ï¿½rï¿½@6ï¿½ï¿½LTï¿½Vcï¿½sï¿½ï¿½\\x1f(ï¿½ï¿½ï¿½\\x0fW\\x16ï¿½`ï¿½@ï¿½Mlï¿½iï¿½ï¿½,Zï¿½Ùºï¿½ï¿½oï¿½ï¿½\\\\ï¿½ï¿½ï¿½CE\\x16dGï¿½\\x01Aï¿½Ô\\x81pcmï¿½ï¿½ï¿½ï¿½aï¿½ï¿½\\x05.5(ï¿½ï¿½4eï¿½ï¿½}ï¿½==ï¿½Kï¿½rï¿½]ï¿½ï¿½\\\\Ò½\\x7fï¿½ï¿½ï¿½ï¿½5FsÇ¦ï¿½ï¿½Aï¿½ï¿½ï¿½1&\\x15ï¿½ï¿½ï¿½Mï¿½=ï¿½Rï¿½ï¿½ï¿½Xï¿½ï¿½_(rï¿½ï¿½K\\x01ï¿½8-ï¿½ï¿½ï¿½ï¿½\\x1c\\x18ï¿½ï¿½Sï¿½ï¿½ï¿½ï¿½ï¿½\\x1bstmï¿½8\\x18ï¿½eï¿½.!52#ï¿½ï¿½ï¿½\\x0f@/Í\\x99ï¿½ï¿½aï¿½ï¿½ï¿½Y.\\x07ï¿½ï¿½05i\\x07\\x0eï¿½\\x07\\x1e;2 BNR|+ï¿½Rtï¿½\\x02ï¿½>ï¿½ï¿½ï¿½mKï¿½ï¿½]ï¿½t\\x04ï¿½Ú¨ï¿½\\'4ï¿½\\x7fBï¿½ï¿½\\x03\\x00FÛ\\x84&ï¿½3ï¿½ï¿½\\x0bï¿½*ï¿½ï¿½ï¿½pï¿½nï¿½ï¿½ï¿½K:$\\x16\"DÓ¢!ï¿½tK&hï¿½V\\t\\x003\\x00ï¿½\\tmKï¿½\\x07E\\x0e9ï¿½Eï¿½\\\\P0_o&\\x05\\x7fiï¿½\\tß¬_cï¿½ï¿½aï¿½\\x17ï¿½~Q\\nï¿½o\\x00\\x1c\\x0f\\x08\\x1aï¿½ï¿½p4\\x07ï¿½`ï¿½<ï¿½2\\x0bZï¿½ï¿½ï¿½\\'ï¿½ï¿½ï¿½ï¿½k\\x1f\\x0fï¿½_ï¿½3Tcï¿½ï¿½ï¿½A9ï¿½\\x1f$\\\\Î©,Ð\\x84ï¿½ï¿½ï¿½ï¿½Kï¿½,ï¿½Û¤@\\x1dï¿½rï¿½@ï¿½Æ\\x9e#ï¿½@Dbï¿½ï¿½<ï¿½u\\x0b\\x00ï¿½\\x0fï¿½ï¿½xï¿½*ï¿½6ï¿½ï¿½9Jï¿½>ï¿½ï¿½C\\x08i\\x14bï¿½ï¿½ï¿½ï¿½zd\\x04\\x020ï¿½7!jï¿½\\x05ï¿½ï¿½Oï¿½\\x01nOv]ï¿½Eï¿½ï¿½Aï¿½ï¿½\"',\n",
       " '\\x00\\x0c\\x81\\x80\\x00\\x01\\x00\\x01\\x00\\x00\\x00\\x00\\x06google\\x03com\\x00\\x00\\x1c\\x00\\x01À\\x0c\\x00\\x1c\\x00\\x01\\x00\\x00\\x01\\x1e\\x00\\x10&\\x07ø°@\\x05\\x08\\x07\\x00\\x00\\x00\\x00\\x00\\x00 \\x0e',\n",
       " '\\x00\\x0c\\x01\\x00\\x00\\x01\\x00\\x00\\x00\\x00\\x00\\x00\\x06google\\x03com\\x00\\x00\\x1c\\x00\\x01ï¿½@\\x08ï¿½\\x10\"\\x1dï¿½Zï¿½\\x19]gL8ï¿½\\x14|g+ï¿½ï¿½Ø\\x81\\x04ï¿½>6LJmï¿½]ï¿½ï¿½ï¿½ï¿½Ú¨ï¿½,7<ï¿½ewï¿½ï¿½ï¿½Dnï¿½&eQB!ï¿½zï¿½tsï¿½\\x0cï¿½#ï¿½\\nBu!\"ï¿½\\x04ï¿½ï¿½ï¿½v8ï¿½hï¿½Euï¿½ï¿½ï¿½ï¿½_\\\\ï¿½sï¿½b> \\rï¿½ï¿½!jï¿½ï¿½=9\"ï¿½ï¿½ï¿½}*\"ï¿½Zï¿½ï¿½ï¿½ï¿½w)ï¿½ï¿½$\\x1fï¿½ï¿½\\x17(ï¿½hï¿½ï¿½Ý\\x93v;ï¿½\\rï¿½ï¿½ï¿½ï¿½ï¿½Eï¿½ï¿½+Rï¿½ï¿½\\x15ï¿½~ï¿½\\x06^ï¿½\\x04ï¿½\\x19ï¿½\\\\\\n\\x1d\\rBï¿½y\\x7fï¿½\\x13ï¿½ï¿½\\x16\\x01Dï¿½6~ï¿½ï¿½ï¿½ï¿½-ï¿½ï¿½&Pï¿½dï¿½\\t1\\x11ï¿½Cï¿½|;ï¿½ï¿½!ï¿½ï¿½S.ï¿½ï¿½ï¿½tï¿½ï¿½\\x05ï¿½ï¿½Ä\\x9e\\\\Ü\\x8cï¿½ï¿½ï¿½q(ï¿½2ï¿½9ï¿½+RP1ï¿½ï¿½Cï¿½\\x06\\x00IDï¿½Bï¿½/ï¿½4ï¿½ï¿½/.ï¿½IÛ´ï¿½Oï¿½\\ndaqI>ï¿½ï¿½ï¿½ï¿½ï¿½hï¿½\\x14\\x01\\x12ï¿½ï¿½Hï¿½r#ï¿½\\\\ï¿½ï¿½~ï¿½|ï¿½ï¿½ï¿½\\x13Kï¿½ï¿½\\nï¿½ï¿½ï¿½ï¿½\\x07ï¿½x|ï¿½iï¿½ï¿½\\x04\\x11ï¿½Jï¿½\\x05Wï¿½zï¿½ï¿½ï¿½ï¿½\\x10CI)ï¿½Nkï¿½ï¿½~Ã¨\\tI8ï¿½ï¿½\\x165\\x1e_ï¿½;ï¿½\\x16~ï¿½>`|\\x18{ï¿½ï¿½\\x07ï¿½ï¿½ï¿½ï¿½ï¿½\"\\x03B\\x17ï¿½\\x0bï¿½ï¿½iTï¿½ETï¿½nO\\x1e\\x0bï¿½ï¿½\\x10qjï¿½!:ï¿½\\x00\\x11AHï¿½7ï¿½ï¿½ï¿½/Õ\\xad,\\x7f1Ú\\x8c]ï¿½%Da;ï¿½OYï¿½ï¿½ï¿½}-E\\x0fi\\x02u\\x1bï¿½ï¿½\\x19Wï¿½|nï¿½SK_?ï¿½ï¿½ï¿½ï¿½\\nï¿½o\\nÍ\\x99MN\\x15ï¿½Lç²\\x8aï¿½ï¿½Shï¿½ï¿½ï¿½7ï¿½\\x08ï¿½8zï¿½\\x18ï¿½}J)\\x7f:[Lï¿½ï¿½U4ï¿½kÕ\\x95ï¿½ï¿½ï¿½Gï¿½ï¿½Õ\\x87ï¿½\\x04ï¿½Xjï¿½\\rï¿½ï¿½ï¿½oï¿½Akï¿½/ï¿½)ï¿½ï¿½',\n",
       " '\\x00\\x0c\\x81\\x80\\x00\\x01\\x00\\x01\\x00\\x00\\x00\\x00\\x06google\\x03com\\x00\\x00\\x1c\\x00\\x01À\\x0c\\x00\\x1c\\x00\\x01\\x00\\x00\\x01\\x1d\\x00\\x10&\\x07ø°@\\x05\\x08\\x07\\x00\\x00\\x00\\x00\\x00\\x00 \\x0e',\n",
       " '\\x00\\x0c\\x01\\x00\\x00\\x01\\x00\\x00\\x00\\x00\\x00\\x00\\x06google\\x03com\\x00\\x00\\x1c\\x00\\x01*\\x0bï¿½Ëªï¿½fï¿½uï¿½ï¿½ï¿½ï¿½>ï¿½\\x07gï¿½ï¿½ï¿½ï¿½ï¿½ï¿½ï¿½ï¿½ï¿½6\\x1dP`=/@\\\\ï¿½ï¿½sï¿½ï¿½ï¿½ï¿½\\x18ï¿½\"Xi\\x1f×\\x8aVï¿½ï¿½ï¿½ï¿½ï¿½ï¿½Sï¿½?\\x03\\x00ï¿½ï¿½ï¿½ï¿½\\x12ï¿½\\x0bï¿½;ï¿½ï¿½ï¿½\"l\\x7fï¿½ï¿½,ï¿½4!~\\x07gï¿½;\\x10ï¿½ï¿½R=ï¿½ï¿½WV#ï¿½ï¿½Fï¿½Qï¿½F\\x17Gï¿½ï¿½ï¿½ï¿½ï¿½ï¿½ï¿½ï¿½ï¿½Õ\\x85>}gï¿½\\x06?ï¿½\\tï¿½ï¿½\\x05pNï¿½&ï¿½ï¿½>iï¿½ï¿½ï¿½)ï¿½7Kï¿½ï¿½x CRZê\\x8e\\x84ï¿½\\x1d\\x15ï¿½fiï¿½ï¿½ï¿½Xï¿½Cï¿½ÛµCï¿½6ï¿½0ï¿½ï¿½ï¿½<8&ï¿½ï¿½Eï¿½\\x1bï¿½~F)ï¿½\\x04Ì\\x8aï¿½:.Oï¿½ï¿½F\\rï¿½_ï¿½ï¿½8dï¿½\\x16lï¿½ï¿½ï¿½ï¿½\\x16_ï¿½lï¿½\\x00bï¿½ï¿½ï¿½ï¿½Zï¿½\\x14ï¿½|ï¿½ï¿½ï¿½.ï¿½IÊ\\x92ï¿½uï¿½ï¿½Ô\\x9e+ï¿½ï¿½iÍ\\x9eï¿½>oï¿½\\x17ï¿½\\x1aï¿½\\x11\\x02\\x13ï¿½pï¿½ï¿½\\x11)\\x10Hï¿½.ï¿½ï¿½ï¿½ï¿½ï¿½ï¿½}ï¿½ï¿½]Â©ï¿½+3Ë\\x82ï¿½\\x16zKï¿½ï¿½ï¿½ï¿½\\x18\"Nï¿½6oï¿½Yï¿½&Ä\\x9fÐ¡ï¿½%[ï¿½ï¿½6ï¿½&bï¿½\\\\ï¿½ï¿½ï¿½1oï¿½W{Kï¿½#ï¿½ï¿½Ô\\x9c+RY\\x1dï¿½Hï¿½\\x01(kï¿½\\x18ï¿½>ï¿½k,,ï¿½ï¿½\\x1bï¿½ï¿½Ã¦ï¿½kï¿½ï¿½|\\x02qLï¿½ï¿½=ï¿½ï¿½ï¿½|$ï¿½\\x12ï¿½Yï¿½bï¿½ï¿½Ca\\x0b\\n8ï¿½cYï¿½Y\\x16Rï¿½ï¿½y%ï¿½?ï¿½F `\\x11Y)y\\'\\x11\\x0b+\\x7f^IArï¿½ï¿½-É\\xadf\\x01Uï¿½ï¿½<\\x12ï¿½ï¿½ï¿½$G\\rï¿½ï¿½ï¿½ï¿½ï¿½ÓºXw@Û\\x91ï¿½ï¿½RLÈ¤Uï¿½!ï¿½\\x1bï¿½\"ï¿½}^Xï¿½ï¿½Szh;ï¿½Hï¿½lï¿½ï¿½ï¿½/ ï¿½ï¿½0ï¿½o5ï¿½ï¿½`AQï¿½wï¿½ï¿½ï¿½ï¿½ï¿½+ï¿½ï¿½&ï¿½l\\x0c-mï¿½}Ã\\x93ï¿½ï¿½?ï¿½ï¿½Xï¿½ï¿½5',\n",
       " '\\x00\\x0c\\x81\\x80\\x00\\x01\\x00\\x01\\x00\\x00\\x00\\x00\\x06google\\x03com\\x00\\x00\\x1c\\x00\\x01À\\x0c\\x00\\x1c\\x00\\x01\\x00\\x00\\x01\\x1c\\x00\\x10&\\x07ø°@\\x05\\x08\\x07\\x00\\x00\\x00\\x00\\x00\\x00 \\x0e',\n",
       " '\\x00\\x0c\\x01\\x00\\x00\\x01\\x00\\x00\\x00\\x00\\x00\\x00\\x06google\\x03com\\x00\\x00\\x1c\\x00\\x01ySï¿½\\tï¿½ï¿½Oï¿½\\x08!ï¿½ï¿½ï¿½4ï¿½å\\x8c\\x8cï¿½e\\x07\\nï¿½ï¿½ï¿½2)È³ï¿½Kï¿½S\\nï¿½`Ô\\x8dï¿½I\\x02\\x16D\\x14BLï¿½ï¿½ï¿½5ï¿½\"ï¿½ï¿½ï¿½\"VwF\\n3ï¿½Ø\\x8bKï¿½~\\x11ï¿½]{ï¿½ï¿½lï¿½ï¿½Dï¿½6~ï¿½sÈ\\x90ï¿½\\x10p\\x18@ï¿½\\x12ß\\x90ï¿½ï¿½ï¿½rï¿½ï¿½ï¿½ï¿½\\x1fï¿½rï¿½`ï¿½OR.GGï¿½ï¿½ï¿½Bï¿½ï¿½\\x0f\\x1e-ï¿½|,vï¿½\\x10!Mï¿½w*ï¿½!#ï¿½ï¿½ï¿½0ï¿½ ï¿½ï¿½cï¿½lyG\\x1a>ï¿½\\x08Gï¿½vvÄ¯\\x15ï¿½ï¿½{l?4wï¿½ï¿½!àµ\\x88gï¿½ï¿½ï¿½\\x17ï¿½^ï¿½ï¿½Rï¿½_Dï¿½Ë½ï¿½=\\x17ï¿½bï¿½0ï¿½ï¿½{Ý³ï¿½mï¿½Tï¿½{ï¿½\\x00@ï¿½ï¿½ß\\x848ï¿½ï¿½=ï¿½_Nï¿½\\x02mï¿½ \\x04\\x1a,\\x04ï¿½]Xï¿½ï¿½UT:/\\x1a0ï¿½Iï¿½Ç«ï¿½ï¿½Ô\\x9c\\x7fH~\\x1d\\x14&ï¿½\\x1d\\x04ï¿½ï¿½ï¿½,{\\x0b\\x0b?\\x0fsï¿½ï¿½ï¿½ï¿½ï¿½y%ï¿½\\x02qï¿½}ç\\x8c²ï¿½\\x00ï¿½Mv]mKï¿½/î\\x8f\\x8aï¿½_cï¿½ï¿½:zï¿½ï¿½MJ\\x18ï¿½ï¿½9ï¿½e\\x02ï¿½Mï¿½,\\x0eFï¿½ï¿½\\x13ï¿½#[ï¿½Xï¿½{Pï¿½ï¿½yï¿½Uï¿½ï¿½ï¿½kWï¿½aï¿½G\\x11ï¿½j_gb^ï¿½ï¿½\\r\\x06ï¿½ï¿½ï¿½\\x11ï¿½ï¿½ï¿½\\x1dï¿½)\\x14ï¿½eï¿½ï¿½ï¿½J\\x12ï¿½Ù\\x9aï¿½Xï¿½\\'ï¿½ï¿½H\\x1dÊºï¿½\\x1f9Mï¿½inï¿½ï¿½ï¿½\"zï¿½ ï¿½\\x1d]ï¿½Z\\x14ï¿½GDï¿½\\x0e\\x11|hkï¿½ï¿½ï¿½gï¿½X>ï¿½ï¿½{\\x12fAï¿½ï¿½\\x1d~\\x0fï¿½\\x11ï¿½ï¿½`\\x12ï¿½\\x07Dï¿½ï¿½\\x00Gï¿½ï¿½F\\x08]â\\x8f½ï¿½ï¿½ï¿½ï¿½\\x05Dï¿½ï¿½\\\\kEï¿½ï¿½ï¿½ï¿½ï¿½XR\\x0e?cï¿½ï¿½ï¿½7!ï¿½ï¿½ï¿½\\x03\\x07\\x1bï¿½CSï¿½\\t\\x07\\x1c\\x15dï¿½ï¿½\\x0e)Vzdï¿½ï¿½ï¿½\"ï¿½ï¿½Ýµï¿½ï¿½\\x12ï¿½%\\x1bï¿½MS]ï¿½ï¿½ï¿½',\n",
       " '\\x00\\x0c\\x81\\x80\\x00\\x01\\x00\\x01\\x00\\x00\\x00\\x00\\x06google\\x03com\\x00\\x00\\x1c\\x00\\x01À\\x0c\\x00\\x1c\\x00\\x01\\x00\\x00\\x01\\x1b\\x00\\x10&\\x07ø°@\\x05\\x08\\x07\\x00\\x00\\x00\\x00\\x00\\x00 \\x0e',\n",
       " '\\x00\\x0c\\x01\\x00\\x00\\x01\\x00\\x00\\x00\\x00\\x00\\x00\\x06google\\x03com\\x00\\x00\\x1c\\x00\\x01\\x1d9ï¿½\\x15Æ¸ï¿½\\ncï¿½ï¿½{\\x1bï¿½(ï¿½ï¿½6\\x17\\t\\x05ï¿½ï¿½oï¿½\"\\x1dï¿½vï¿½KDï¿½ï¿½PË¤ï¿½ï¿½\\x18\\x1d\\\\Q6E\\x11ï¿½\"ï¿½WCkï¿½-\\x18\\x17ï¿½\\x1bï¿½ï¿½ï¿½\\x04 ï¿½]]\\tTqï¿½xÖ¼Eï¿½G\\x01ï¿½ï¿½]ï¿½Kï¿½ï¿½ï¿½\\x02ï¿½\\x04ï¿½ï¿½ï¿½ï¿½\\nï¿½Ì\\xa0ï¿½lï¿½ï¿½ï¿½[ï¿½ï¿½`q\\x17\\nï¿½ï¿½ï¿½ï¿½Dï¿½xï¿½ï¿½ï¿½rï¿½ï¿½y\\x0bSJï¿½SPTr\\x0eï¿½8ï¿½k}ï¿½ï¿½\\rï¿½\\x0b2ï¿½^!eï¿½ï¿½ï¿½ï¿½ï¿½ï¿½aØ\\x92ï¿½ï¿½ï¿½\\x1dï¿½c\\x1aï¿½ï¿½ï¿½\\x18_ï¿½7Î¯ï¿½\\x1bß\\x8fÜ\\x80Mï¿½4Í\\x90ï¿½\\tï¿½!ï¿½ï¿½oï¿½\\x1eï¿½\\x1byA\\x7fï¿½\\x19ï¿½ï¿½ï¿½l\\x15Vï¿½ï¿½u`ï¿½\\x149\\x079^L\\\\eï¿½ï¿½D}ï¿½ï¿½>Þ½ï¿½`nï¿½oL\\x0cï¿½Ë¦4×®\\x1fï¿½ï¿½ï¿½\\x105*ï¿½G\\x0fï¿½ï¿½Eï¿½ï¿½ï¿½uï¿½ï¿½\\x13ï¿½]eï¿½_wmï¿½ï¿½ï¿½ï¿½\\x0eBï¿½ï¿½9\\x18>ï¿½nï¿½7!ï¿½ï¿½Pï¿½ï¿½ï¿½]ï¿½ï¿½É¬ï¿½Ä\\x82ï¿½YBï¿½ï¿½\\x0b}ï¿½\\'gy\\x17ï¿½ï¿½ï¿½1ï¿½zD\\x08\\x06\\'\\x1eï¿½ï¿½ï¿½ï¿½ï¿½ï¿½ï¿½ì\\x84\\x98ï¿½\\x10ï¿½ï¿½Cï¿½pqboï¿½\"ï¿½uqIÏ¸ï¿½ï¿½CQÈ¡vï¿½;tï¿½iJï¿½ï¿½ï¿½7ï¿½ï¿½V]a,ï¿½ï¿½\\x1dï¿½ï¿½2Í¹ï¿½\\x15ï¿½ï¿½ï¿½\\x01ï¿½\\x7f\\x1fï¿½%ï¿½ï¿½ï¿½[ï¿½ï¿½ï¿½ï¿½\\'ï¿½\\x01I\\x11mï¿½ï¿½\\x1bS:ï¿½aï¿½ï¿½Xï¿½8)ï¿½f3.ï¿½ï¿½{=Rï¿½ï¿½\\x15>dï¿½\\x19ï¿½\\x1cï¿½)\\x06\\x07ï¿½\\x1d_pï¿½ï¿½ï¿½(ï¿½\\x14Qï¿½pSï¿½ï¿½\\x1aï¿½Xï¿½(`Nw7ï¿½ï¿½ï¿½UKï¿½\"ï¿½\\x1dï¿½ï¿½Úµï¿½ï¿½ï¿½Vï¿½?JD+ï¿½ï¿½*ï¿½ï¿½\\x1eï¿½ï¿½Ó\\x85ï¿½9ï¿½\\x12ï¿½\\t\\x05ï¿½ï¿½moï¿½ï¿½ï¿½ï¿½lï¿½ï¿½ï¿½ï¿½}ï¿½ï¿½GKï¿½',\n",
       " '\\x00\\x0c\\x81\\x80\\x00\\x01\\x00\\x01\\x00\\x00\\x00\\x00\\x06google\\x03com\\x00\\x00\\x1c\\x00\\x01À\\x0c\\x00\\x1c\\x00\\x01\\x00\\x00\\x01\\x1a\\x00\\x10&\\x07ø°@\\x05\\x08\\x07\\x00\\x00\\x00\\x00\\x00\\x00 \\x0e',\n",
       " \"\\x00\\x0c\\x01\\x00\\x00\\x01\\x00\\x00\\x00\\x00\\x00\\x00\\x06google\\x03com\\x00\\x00\\x1c\\x00\\x01Oï¿½ï¿½ï¿½ï¿½È\\x80ï¿½ï¿½ï¿½ï¿½\\x0c3ï¿½\\x08>ï¿½q6Aï¿½hXÍªï¿½]\\x0cï¿½ï¿½ï¿½ï¿½@ï¿½$M\\nKï¿½Uï¿½ï¿½u\\x1eï¿½\\x1a\\x1aï¿½ï¿½\\x11ï¿½{ï¿½6ï¿½\\x00ï¿½ï¿½:ï¿½ï¿½\\n}ï¿½[ï¿½ï¿½ï¿½ï¿½\\x05IHx\\x02\\x12ï¿½\\x01B\\x0bï¿½\\x7fTï¿½\\\\ï¿½Xï¿½wï¿½ï¿½\\x0eï¿½ï¿½\\x1bï¿½PtMï¿½3ï¿½=ï¿½iRVÂ\\x9eiZï¿½\\x05ï¿½ï¿½\\x7fï¿½ï¿½ï¿½|ï¿½ï¿½ï¿½ï¿½fï¿½ï¿½ï¿½Vï¿½ï¿½ï¿½~chU`ï¿½_ï¿½x N\\x1aï¿½ï¿½ï¿½ï¿½ï¿½Pï¿½ï¿½m\\\\Ñ½U~ï¿½Sï¿½\\r?x9ï¿½{(\\x13%E'Eï¿½'ï¿½V_*Ö\\x90@ï¿½ï¿½k}K\\x0854wï¿½ï¿½ï¿½;\\x0fï¿½ï¿½ï¿½Cï¿½ï¿½2Xï¿½ï¿½6ï¿½ï¿½ï¿½oxï¿½R\\x01\\x1bï¿½\\x0fï¿½ï¿½b}ï¿½ï¿½Ë³gï¿½qï¿½uï¿½ï¿½\\x12ï¿½.ï¿½ï¿½\\x0fï¿½kï¿½\\x1d\\x19ï¿½ï¿½ï¿½%ï¿½\\x16ï¿½\\x19ï¿½\\x1eï¿½+ï¿½ï¿½ï¿½ï¿½^\\x1dï¿½ï¿½\\x13ï¿½ï¿½\\x0f\\x13}ï¿½2ï¿½5ï¿½ï¿½@ï¿½ï¿½?ï¿½ï¿½ï¿½_ï¿½8ï¿½ï¿½g\\x1e<\\x1cï¿½\\x1bï¿½\\x15ï¿½ï¿½tï¿½ï¿½ï¿½\\x10\\x08ï¿½s<rï¿½\\x070ï¿½\\x06Û\\x98Ë\\x98ï¿½ï¿½Ì\\x91ï¿½c2$\\x14\\x03ux}ï¿½ï¿½ï¿½Dï¿½\\x1fï¿½ï¿½rï¿½ETHuï¿½\\x0fï¿½\\x02.ï¿½ï¿½ï¿½[j\\x03ï¿½_ï¿½ï¿½ï¿½ï¿½5Fs(Lsï¿½\\x15Æ\\x98ï¿½ï¿½Kï¿½\\x0fï¿½+ï¿½ï¿½%\\nï¿½ï¿½ï¿½yï¿½\\t\\x1a-ï¿½\\x0fï¿½ï¿½\\x1aÎ²qï¿½ï¿½ï¿½VÛ±ï¿½ï¿½I\\\\ï¿½ï¿½L}ï¿½ï¿½ï¿½\\rï¿½ï¿½8Ö\\x8dï¿½ï¿½]ï¿½ï¿½>ï¿½a\\\\\\x13ï¿½ï¿½&ï¿½Ã¬ï¿½ï¿½ï¿½ï¿½ï¿½Eá\\xad\\x89ï¿½ï¿½ï¿½6ï¿½\\x16ï¿½{]Bï¿½\\x1f\\x14xK;ï¿½\\x1a6ï¿½ï¿½ï¿½ï¿½ï¿½\\x15\\x06VUï¿½ï¿½;ï¿½\\x1fï¿½#\\x05ï¿½$^=+\\x05ï¿½KÜ¦ï¿½vï¿½Nï¿½?\\x08\\rnï¿½w!ï¿½\\x19YK\\x0f\\x1dØ\\x97Cï¿½ï¿½^ï¿½ï¿½ß»\",\n",
       " '\\x00\\x0c\\x81\\x80\\x00\\x01\\x00\\x01\\x00\\x00\\x00\\x00\\x06google\\x03com\\x00\\x00\\x1c\\x00\\x01À\\x0c\\x00\\x1c\\x00\\x01\\x00\\x00\\x01\\x19\\x00\\x10&\\x07ø°@\\x05\\x08\\x07\\x00\\x00\\x00\\x00\\x00\\x00 \\x0e',\n",
       " '\\x00\\x0c\\x01\\x00\\x00\\x01\\x00\\x00\\x00\\x00\\x00\\x00\\x06google\\x03com\\x00\\x00\\x1c\\x00\\x01ï¿½ï¿½Xï¿½ï¿½\\tï¿½ó¼\\x89·ï¿½9uxï¿½2ï¿½L\\x1bï¿½ï¿½\\x16Ø\\x8eï¿½ï¿½\\\\\\x01H4ï¿½#ï¿½ï¿½ï¿½ï¿½\\x08ï¿½\\x7fï¿½~ï¿½Ý\\x9anï¿½ï¿½V^Ôµn[ pï¿½ï¿½ï¿½]rï¿½Hï¿½ivá\\x99\\x9a\\nï¿½\\x7f\\x12\\x1doVQï¿½\\x11ï¿½ï¿½6&TBï¿½ï¿½.ï¿½l#\\x014ï¿½\\ræ³¼Ó®ï¿½ï¿½ï¿½Aï¿½ï¿½7ï¿½Xï¿½ï¿½wï¿½ï¿½ï¿½zJï¿½ï¿½\\x023ï¿½ï¿½brO0rMï¿½D}ï¿½ï¿½I*~Þ\\x8bï¿½ï¿½\\x02ï¿½_ï¿½ï¿½ï¿½Úµc-;Iï¿½xï¿½R\\x13\\x7f/ï¿½ï¿½\\x1bï¿½ï¿½ï¿½Ý\\x9eg\\x15ï¿½.ï¿½ï¿½t\\tï¿½ï¿½oy|ï¿½ï¿½ï¿½~4ï¿½Û\\x93\\x19ï¿½ï¿½ï¿½\\x01#ï¿½Ð\\x9aÖ²%XYï¿½ï¿½ï¿½\\x1f\\x1cï¿½>\\x14Kï¿½in\\x17ï¿½\\x18Hï¿½ï¿½ï¿½\\x0bKsï¿½bï¿½fï¿½ï¿½ï¿½ï¿½\\x17ï¿½ï¿½Ò§Pï¿½ï¿½ï¿½Tï¿½ï¿½\\x13ï¿½\\x10ï¿½\\x15ï¿½ï¿½Ox>Ä\\x88\\x15ï¿½ï¿½ï¿½Qhï¿½ï¿½ï¿½$ï¿½\\x0eï¿½\"ï¿½ï¿½ï¿½\\x00ï¿½ï¿½\\tVB!ï¿½ï¿½ï¿½h\\x12ï¿½ï¿½ï¿½ï¿½ï¿½ï¿½\\x00Jï¿½ï¿½ï¿½MHï¿½ï¿½2ï¿½ï¿½yï¿½ï¿½,!ï¿½ï¿½ï¿½ ï¿½\\x02>ï¿½ï¿½]ï¿½ï¿½\\x05ï¿½ï¿½~ï¿½%Bï¿½\\t\\x19\\x1cï¿½F$ï¿½w+rMï¿½ï¿½\\x1eï¿½$vï¿½eï¿½\\x13ï¿½ï¿½ï¿½ï¿½ï¿½\\x15ï¿½eß\\x97ï¿½~ï¿½Yï¿½&ï¿½ï¿½ï¿½zUï¿½ï¿½ï¿½ï¿½ï¿½jï¿½R`Bo\\x0e\\x11OEï¿½ï¿½ï¿½\\x7flï¿½9\\x1cï¿½\\x081ï¿½/ï¿½-ï¿½ï¿½ï¿½ï¿½ï¿½ï¿½IÓ¶7`Fï¿½],ï¿½ï¿½ï¿½ï¿½}\\x04ï¿½M]ï¿½!ï¿½Ð§?[ï¿½7.ï¿½ï¿½ï¿½ï¿½\\tï¿½2\\x00%ï¿½\\x1dCï¿½\\x17/\\x1d$T([jx\\nï¿½ï¿½,@ï¿½Cï¿½/&u6\\x15ï¿½ï¿½D\\x06qvï¿½ï¿½E\\x1aï¿½\\x11j|ï¿½\\x13ï¿½9sï¿½ï¿½ï¿½0uHï¿½(Gï¿½)\\x00ï¿½ï¿½\\x7f\\x05ï¿½ï¿½ï¿½kï¿½Ê²ï¿½Erï¿½%ï¿½\\x0c\\x01ï¿½l\\x01',\n",
       " '\\x00\\x0c\\x81\\x80\\x00\\x01\\x00\\x01\\x00\\x00\\x00\\x00\\x06google\\x03com\\x00\\x00\\x1c\\x00\\x01À\\x0c\\x00\\x1c\\x00\\x01\\x00\\x00\\x01\\x18\\x00\\x10&\\x07ø°@\\x05\\x08\\x07\\x00\\x00\\x00\\x00\\x00\\x00 \\x0e',\n",
       " '\\x00\\x0c\\x01\\x00\\x00\\x01\\x00\\x00\\x00\\x00\\x00\\x00\\x06google\\x03com\\x00\\x00\\x1c\\x00\\x01t\\x03\\n9Jï¿½Ä\\x89ï¿½\\tï¿½ï¿½wï¿½ï¿½Eï¿½bï¿½-ï¿½Nï¿½fï¿½]2\\x10ï¿½Dï¿½X\\nï¿½ï¿½ï¿½ï¿½yAÊ²ï¿½ï¿½\\x05ï¿½=Pï¿½\\x11\\x19ï¿½,]ï¿½.ï¿½ï¿½ï¿½Fï¿½(cï¿½ï¿½\\x10!ï¿½ï¿½c\\x03@ï¿½ï¿½ï¿½ï¿½G\\r\\x02$ï¿½-Gï¿½ï¿½Ü\\x9cï¿½\\x006tï¿½/ï¿½MBï¿½gï¿½fï¿½ï¿½Ì\\x96ï¿½ï¿½rï¿½~ï¿½ï¿½ï¿½Rï¿½ï¿½ï¿½JUï¿½(\\x14ï¿½;\\x1e\\x1eï¿½ï¿½ï¿½\\rï¿½cï¿½\\x07ï¿½ï¿½;\\x00pï\\x80°ï¿½ï¿½\\x12ï¿½ï¿½ï¿½Fipï¿½1ï¿½ï¿½ï¿½Mï¿½5ï¿½rï¿½F+l\\n[h\\x027ï¿½ï¿½ï¿½É©ï¿½Z\\tï¿½ï¿½\\x1aï¿½ï¿½E\\n\"\\x1cï¿½rï¿½*ï¿½ï¿½ï¿½\\\\ï¿½8ï¿½ï¿½<\\x1eï¿½\\x17ï¿½6ï¿½ï¿½Sï¿½5J\\x05ï¿½Qï¿½ï¿½?Õ®ï¿½$ï¿½ç\\x9d\\x84ï»\\x85ï¿½\\t%ï¿½ï¿½ï¿½ï¿½#ï¿½\\x1dï¿½8*ï¿½Pï¿½ï¿½Í¯\\'Ë¢V\\x1f0ï¿½Rï¿½ï¿½lbï¿½8iï¿½\\x02gï¿½jï¿½&pï¿½~ï¿½Xï¿½0Y2ï¿½ï¿½\\x19Tï¿½dï¿½i\\x1fï¿½}\\x07ï¿½vï¿½]ï¿½ï¿½blï¿½W[sR`Sï¿½\\x06Vï¿½.ï¿½Cï¿½ï¿½?\\x17ï¿½`O_m\\\\ï¿½?Oï¿½Boï¿½pï¿½ï¿½ï¿½9`B\\x13vï¿½\\x1cï¿½\\x1bï¿½ï¿½Nï¿½Wï¿½Mmï¿½>ï¿½f^]:7N\\x0f\\x11ï¿½ï¿½\\x08\\x0f\\x06\\x0fï¿½Ë\\x82xï¿½\\x14ï¿½ï¿½.ï¿½ï¿½ï¿½ï¿½xï¿½Jï¿½\\x1dï¿½ï¿½ï¿½\\x1fRÖ\\x9b\\x1dï¿½!\\x1aï¿½ï¿½ï¿½Iï¿½ï¿½X,Eï¿½Uï¿½\\\\ï¿½ï¿½ï¿½ï¿½\\t\\x1eH\\x1cï¿½T0hÐ°.KNï¿½^ï¿½hï¿½\\x14r|ï¿½cï¿½Õ\\x95ï¿½#6\\'ï¿½Iï¿½Bs2Q\\x17y^ï¿½iï¿½gYï¿½Q}ï¿½wnï¿½{ï¿½\\n^ï¿½ï¿½;ï¿½\\x04ï¿½e9ï¿½(ï¿½\\rï¿½\\x1a6tï¿½ï¿½}ï¿½ï¿½Fhï¿½ï¿½ï¿½ï¿½O\\x0eï¿½/*9ï¿½\\x0fï¿½ï¿½+ï¿½ï¿½\\x0bï¿½\\x0bOOï¿½ï¿½:\\x1eUï¿½',\n",
       " '\\x00\\x0c\\x81\\x80\\x00\\x01\\x00\\x01\\x00\\x00\\x00\\x00\\x06google\\x03com\\x00\\x00\\x1c\\x00\\x01À\\x0c\\x00\\x1c\\x00\\x01\\x00\\x00\\x01\\x17\\x00\\x10&\\x07ø°@\\x05\\x08\\x07\\x00\\x00\\x00\\x00\\x00\\x00 \\x0e',\n",
       " '\\x00\\x0c\\x01\\x00\\x00\\x01\\x00\\x00\\x00\\x00\\x00\\x00\\x06google\\x03com\\x00\\x00\\x1c\\x00\\x01ï¿½ï¿½ï¿½ï¿½\\tï¿½ï¿½\"ï¿½Rï¿½kï¿½Jt\\x06QJï¿½2ï¿½7ï¿½ï¿½ï¿½$hï¿½ï¿½\\x136&ï¿½ï¿½rsGDï¿½)IXï¿½ï¿½Ë\\x8aï¿½ï¿½ï¿½\\x04\\x14n:ï¿½0ï¿½ï¿½ï¿½ï¿½nï¿½ï¿½\\tï¿½ï¿½Kï¿½>+$vq\\rï¿½]Î\\x85ï¿½Yï¿½eï¿½>ï¿½ï¿½ï¿½^If(\\x14xï¿½ï¿½\\x1ew*\\x15ï¿½ï¿½B}ï¿½ï¿½\\x03ï¿½ï¿½v+(Kï¿½ï¿½ï¿½}Ú\\x98MDï¿½HGOï¿½ï¿½\\x1deEï¿½ï¿½\\x14ï¿½ï¿½ï¿½ï¿½ï¿½Ü¥ï¿½z\\x7f\\x05k4ï¿½ï¿½ï¿½qï¿½\\tï¿½ï¿½ï¿½ï¿½9Pï¿½ï¿½v\\rï¿½zï¿½ï¿½ï¿½ï¿½ï¿½ï¿½\\x06\\x15ï¿½ï¿½ï¿½ï¿½ï¿½ï¿½ï¿½Bvfï¿½ï¿½ï¿½\\x01ï¿½ï¿½ï¿½ï¿½Nï¿½4+^ï¿½ï¿½@<L\\x11Ñ»aÓ\\x9c[UQï¿½ï¿½$-æ°\\x8dï¿½d\\x1dw*<G×\\x84ï¿½ï¿½Jï¿½\\x15ï¿½ï¿½ï¿½V ï¿½\\x03Dtop;dï¿½ï¿½ï¿½Ci-jYï¿½_ï¿½\\x11ï¿½Jï¿½5=\\n1tï¿½ewï¿½ï¿½dzï¿½ï¿½ï¿½V\\x044noï¿½ï¿½mï¿½#ï¿½k\\n\\x02ï¿½ï¿½ï¿½Nï¿½qcï¿½ï¿½445ï¿½ï¿½\\x0fï¿½ï¿½AI,\\x16Û\\x99PAï¿½ï¿½=ï¿½lï¿½NDi/t\\x11ï¿½ï¿½=ï¿½eï¿½ï¿½\\x04+ï¿½?\\x1cï¿½hï¿½!\\x11ï¿½\\x10ï¿½Û©ï¿½ï¿½ï¿½$Uï¿½ï¿½\\x17]8ï¿½ï¿½Gï¿½ZN\\'%ï¿½\\x05ï¿½ï¿½,ï¿½0,G\\x03ï¿½ï¿½4,ï¿½ï¿½ï¿½ï¿½: &Nï¿½ï¿½bHï¿½ï¿½ï¿½ï¿½ï¿½Qï¿½\\x02?\\x00\\x00;ï¿½ï¿½)TjUpï¿½ï¿½I}g\\x07jJ4ï¿½Kï¿½\\x0bï¿½7\\x1d.8\\x05Ê\\x92ï¿½*T\\n*ï¿½ï¿½ï¿½ï¿½=Ý\\xa0PtÖ\\x8cï¿½í\\x84°I)ï¿½ï¿½ï¿½ï¿½ï¿½5\\x1fï¿½pï¿½\\x12\"z\\r\\x11ï¿½ï¿½Hï¿½ï¿½ï¿½;\\x01ï¿½\\x07Ðº\\x02ï¿½{\\x18gï¿½ï¿½Rï¿½Î\\x8dï¿½>xØ¶}V\\x1a/y|:ï¿½Mï¿½C\\tï¿½\\x00ï¿½ï¿½ï¿½ï¿½ï¿½È\\xa0x\\x1bï¿½Lï¿½\\'',\n",
       " '\\x00\\x0c\\x81\\x80\\x00\\x01\\x00\\x01\\x00\\x00\\x00\\x00\\x06google\\x03com\\x00\\x00\\x1c\\x00\\x01À\\x0c\\x00\\x1c\\x00\\x01\\x00\\x00\\x01\\x16\\x00\\x10&\\x07ø°@\\x05\\x08\\x07\\x00\\x00\\x00\\x00\\x00\\x00 \\x0e',\n",
       " '\\x00\\x0c\\x01\\x00\\x00\\x01\\x00\\x00\\x00\\x00\\x00\\x00\\x06google\\x03com\\x00\\x00\\x1c\\x00\\x01e5l|ï¿½ï¿½-ï¿½ï¿½2ï¿½ï¿½ï¿½ï¿½\\th\\x14fï¿½Tï¿½Õ\\x81ï¿½ï¿½\\x01ï¿½Yï¿½ß\\x99ï¿½ï¿½sï¿½@ï¿½+S\\x1e\\x06\\x04\\\\ï¿½\\x7fï¿½>ï¿½ï¿½)ï¿½Ý\\x8cï¿½ï¿½rï¿½ï¿½;ï¿½ï¿½\\x1c\\x05hUï¿½ï¿½ï¿½Ú\\x9fï¿½ï¿½ï¿½t\\x01J|$ï¿½\\x10\\x0bWï¿½wQ^}k9ï¿½ï¿½\\x10ï¿½\\x12ï¿½ï¿½ ï¿½\\x045\\x05\\x00ï¿½ï¿½\\n\\x0b\\x10l\\x14\\x08ï¿½ï¿½ï¿½u{ï¿½ï¿½n\\x130ï¿½ï¿½Ë\\x88K\\x1d\\\\adxï¿½gï¿½ï¿½Mï¿½\\x12t\\x12ï¿½uï¿½\\tï¿½\\x7fI}ï¿½ï¿½ï¿½$ï¿½kï¿½ï¿½*ï¿½Xl7\\x11\\x1fï¿½ï¿½C{ï¿½,ï¿½\\x1a\\x16ï¿½mï¿½ï¿½gF\\x7f\\nV\\x18ï¿½ï¿½ï¿½=(ï¿½GDDï¿½\\x138FBï¿½ï¿½ï¿½B,%,ï¿½ï¿½\\x1d\\x0eAï¿½yï¿½#\\x16ï¿½ï¿½Dï¿½5 :ï¿½Jnï¿½ï¿½\\\\ï¿½ï¿½ï¿½ï¿½Kï¿½)_xï¿½ï¿½ï¿½ï¿½2-zï¿½oï¿½Uï¿½,;SoSà¾\\x943ï¿½ï¿½>\\x11ï¿½\\x12ï¿½Is\\x17ï¿½\\x06ï¿½\\x0e_ï¿½ï¿½ï¿½\\x00ï¿½ï¿½dVï¿½pï¿½Í\\x90ï¿½ï¿½^ï¿½Ä\\x97\\x16ï¿½2ï¿½\\x03ï¿½ï¿½uï¿½ï¿½ï¿½ï¿½\\x0e\\x7f$ï¿½K\\x02\\x178ï¿½\\x03ï¿½{z=4!Eï¿½i;Ñ\\x84ï¿½0ï¿½\\x1bï¿½ï¿½Jbï¿½lï¿½Sï¿½U\\tï¿½\\x0bï¿½ï¿½~ï¿½iï¿½ï¿½iï¿½ï¿½ï¿½Ðªï¿½\\x10ï¿½lYr|ï¿½Âºï¿½ï¿½s×\\x83ï¿½\\\\ï¿½hï¿½\\x0fï¿½\\x7fï¿½ï¿½B×\\x99 ï¿½ï¿½ï¿½ï¿½Dï¿½ï¿½[ï¿½\\x0eï¿½dR{Mï¿½ï¿½Rï¿½ï¿½\\x13Bï¿½ï¿½y^Ý\\x99ï¿½ï¿½ï¿½ D19ï¿½Eï¿½ï¿½Ô\\x94Rï¿½Q\\x0bï¿½[`ï¿½ï¿½Eï¿½ï¿½ï¿½GÝ¹ï¿½Y\\x17Ý\\x99ï¿½\\x02oIf&Â\\x81ï¿½\\x1fï¿½Iï¿½ï¿½ï¿½[c)3ï¿½\\x17ï¿½\\\\\\x13\\x00mï¿½\\nï¿½*ï¿½;ï¿½ï¿½ï¿½\\t\\rï¿½M\\x13ï¿½MÆ·h\\x1b\\x12xMFï¿½ï¿½ï¿½ï¿½oï¿½wh0b\\x04ï¿½ï¿½ï¿½l]ï¿½\\x03Jï¿½wlï¿½Qï¿½ï¿½',\n",
       " '\\x00\\x0c\\x81\\x80\\x00\\x01\\x00\\x01\\x00\\x00\\x00\\x00\\x06google\\x03com\\x00\\x00\\x1c\\x00\\x01À\\x0c\\x00\\x1c\\x00\\x01\\x00\\x00\\x01\\x15\\x00\\x10&\\x07ø°@\\x05\\x08\\x07\\x00\\x00\\x00\\x00\\x00\\x00 \\x0e',\n",
       " '\\x00\\x0c\\x01\\x00\\x00\\x01\\x00\\x00\\x00\\x00\\x00\\x00\\x06google\\x03com\\x00\\x00\\x1c\\x00\\x01\\x7f0ï¿½6rï¿½\\x16ï¿½\\x1eaBï¿½ï¿½0LOb1ï¿½ï¿½ï¿½Eï¿½ï¿½vï¿½ï¿½\\x1cNï¿½zF\\x1d6\\x05ï¿½ï¿½\\x16ï¿½ï¿½+ï¿½\\x07\\x11.,Rï¿½Eï¿½!É\\x92ï¿½\\x13Bï¿½ï¿½ï¿½ï¿½ï¿½\\x1cjJd\\x1dRï¿½ï¿½7ï¿½\\x1aï¿½\\'l:4Xï¿½ï¿½q\\x0e\\x189\\'ï¿½ï¿½O@ï¿½ï¿½Ø\\x87%ï¿½ï¿½ï¿½ï¿½ï¿½ï¿½ï¿½jHï¿½~ï¿½ï¿½)\\nï¿½ï¿½Oï¿½v/ï¿½ï¿½<ï¿½If\\x00ï¿½emï¿½Ä\\x86ï¿½ï¿½ï¿½ï¿½ï¿½ï¿½\\x11ï¿½;qï¿½ï¿½ï¿½R\\x0bï¿½ï¿½Z~ï¿½ï¿½/ï¿½ï¿½ï¿½ï¿½ï¿½ï¿½ï¿½ï¿½O?ï¿½ï¿½9lï¿½ï¿½mSï¿½ï¿½4ï¿½ï¿½\\x04\\x0bï¿½Dï¿½\\x02\\x0eï¿½n%mR\\x16<h?vï¿½ï¿½jï¿½^\\x17b\\x02ï¿½+ï¿½*ï¿½6ï¿½\\x1dÝ²ï¿½ï¿½ï¿½.ï¿½Nï¿½ï¿½%]\\x1eï¿½T\\x05ï¿½?ï¿½hï¿½Lï¿½V/wuG\\x10\\n|ï¿½ï¿½qÝ¬UKï¿½lï¿½1\\'ï¿½Â\\x87\\x15zï¿½ï¿½Ò\\x8d\\rï¿½ï¿½5SOï¿½yï¿½~ï¿½ï¿½\\x07ï¿½ï¿½ï¿½_Oï¿½ï¿½ï¿½7k*ï¿½-6\\x1dï¿½i;Q*(Ö\\x9fHï¿½ï¿½&ï¿½]ï¿½;cï¿½=ï¿½ï¿½ï¿½Nï¿½ï¿½,ï¿½Ë\\xa0ï¿½ï¿½r/ï¿½\\x12\\x7fÝµ\\x13\"(ï¿½\\x16ï¿½ï¿½\\x11ï¿½Tï¿½ï¿½k#ï¿½ï¿½ï¿½ï¿½Yï¿½[ï¿½ï¿½ï¿½ï¿½\\x02oLZ\\x1f&\\\\ï¿½\\x17mï¿½%ï¿½2ï¿½\\x7f@\\x08ï¿½ï¿½ï¿½ï¿½Loï¿½ï¿½Bï¿½\\x1eï¿½ï¿½\\x06M8ï¿½ï¿½Iï¿½ï¿½pï¿½Uï¿½ï¿½SD\\x7fï¿½ï¿½ï¿½2ï¿½zpï¿½\\x1c\\rï¿½ï¿½ï¿½#ï¿½ï¿½6wÞ±;U\\x0eï¿½\\x06ï¿½mR~ï¿½Hjï¿½X\\x1fXï¿½ï¿½\\'ï¿½\\x0bï¿½_ï¿½ï¿½ï¿½ï¿½ï¿½7;\".ï¿½\\x10ï¿½Uï¿½\\x06\\x0eï¿½Uï¿½ï¿½\\x04ï¿½ï¿½/\\x12ZfJQï¿½O\\x7f*ï¿½\\nÓµï¿½\"ï¿½NMjß\\x9b|ï¿½\\x1d#ï¿½Oï¿½r[ï¿½Jï¿½\\'ï¿½ï¿½Zjï¿½<g]yï¿½hï¿½ï¿½/ï¿½?',\n",
       " '\\x00\\x0c\\x81\\x80\\x00\\x01\\x00\\x01\\x00\\x00\\x00\\x00\\x06google\\x03com\\x00\\x00\\x1c\\x00\\x01À\\x0c\\x00\\x1c\\x00\\x01\\x00\\x00\\x01\\x14\\x00\\x10&\\x07ø°@\\x05\\x08\\x07\\x00\\x00\\x00\\x00\\x00\\x00 \\x0e',\n",
       " '\\x00\\x0c\\x01\\x00\\x00\\x01\\x00\\x00\\x00\\x00\\x00\\x00\\x06google\\x03com\\x00\\x00\\x1c\\x00\\x01L\\x0c>ï¿½7++ï¿½r}ï¿½ï¿½X\\x7fï¿½ï¿½ï¿½ï¿½\\x08ï¿½$qï¿½ï¿½\\x07kï¿½?iï¿½ï¿½ï¿½g>9ï¿½ï¿½=ï¿½Fï¿½iï¿½ï¿½ï¿½ï¿½ï¿½3Sï¿½ï¿½ï¿½ï¿½K>ï¿½;dï¿½\\x16ï¿½ï¿½L+ï¿½ëº§ï¿½ï¿½ï¿½\\x0fï¿½ï¿½ï¿½ï¿½-[ï¿½ï¿½ï¿½Jï¿½î\\xad\\x8fï¿½\\x15\\n\\tï¿½?G@ï¿½V1ï¿½\"ï¿½Cï¿½{Zï¿½^C[Ï¤X7\\x04ï¿½Eï¿½=1zï¿½zï¿½ï¿½Zï¿½\\x0fÔ¾%WK!ï¿½dï¿½2\\\\[vtÉ½|ï¿½\\x1cï¿½=ï¿½ï¿½tï¿½ï¿½Xï¿½ï¿½r:ï¿½\\x16ï¿½ï¿½Ø\\x963\\x03\\x11ï¿½Lï¿½pï¿½\\x04\\x1d&ï¿½ï¿½\\x12Ø\\x9fxï¿½Z|vï¿½ï¿½ï¿½?\\x14ï¿½ï¿½:ï¿½ï¿½ï¿½ï¿½ï¿½\\'Iï¿½ï¿½7ï¿½ï¿½ï¿½\\x12Õ\\x84Eï¿½ï¿½ï¿½WDï¿½ï¿½2ï¿½v~>\"ï¿½Þ\\x9buï¿½ï¿½ï¿½ï¿½\\x04\\x03ï¿½ï¿½ï¿½Ó·\\x11ï¿½\\x1b@ï¿½ï¿½4ï¿½ß´dVï¿½ï¿½ï¿½\\x0eï¿½lï¿½Cï¿½\\nPï¿½ï¿½ï¿½xï¿½ï¿½ï¿½,Hï¿½ï¿½\\x06ï¿½.Qzï¿½ï¿½[\\x0fï¿½5zBî·±uï¿½ï¿½xï¿½ï¿½e\\x1eï¿½~ï¿½ï¿½Ì\\x8bï¿½9E\\x13ï¿½bQé¥\\x9a@?\"dï¿½ï¿½ \\'gï¿½\\x1d\\x00]\\'\\x7fWW\\x1a\\x0fÏ\\x9e_ï¿½Pï¿½H08×±-ï¿½Hï¿½ï¿½ï¿½Ò\\x88ï¿½ï¿½fÖ¥K&ï¿½lï¿½ï¿½\\x10ï¿½\\x1bï¿½D\\x14a!\\x00ï¿½h/ï¿½$mï¿½5ï¿½+ï¿½ï¿½\\n#ï¿½)ï¿½\\x08P3Hï¿½ï¿½ï¿½ï¿½ï¿½(ï¿½E7ï¿½ï¿½ï¿½\\x14\\x16V \\x1c1Ã\\x93v%qï¿½?|ï¿½ï¿½ï¿½Ã\\x8bJ\\x16K)ï¿½ï¿½wï¿½,Ò²ï¿½\\x07ï¿½ï¿½zï¿½ï¿½ï¿½}ï¿½oï¿½\\x14\\x7fnï¿½ï¿½+\\x16ï¿½pï¿½ï¿½ï¿½ï¿½\\x10E\\x11ï¿½Aï¿½&jï¿½#ï¿½ï¿½h(\"ï¿½eDï¿½ ï¿½ï¿½\"ï¿½[ï¿½ï¿½\\nXï¿½-ï¿½ï¿½Ã\\x90ï¿½5\\x18ï¿½&\\x11ï¿½ï¿½?è\\x99¯/\"ï¿½Õ¦ï¿½~f5ï¿½=ï¿½\\x0b\\x14ijï¿½&ï¿½\\x1d(ï¿½JLe',\n",
       " '\\x00\\x0c\\x81\\x80\\x00\\x01\\x00\\x01\\x00\\x00\\x00\\x00\\x06google\\x03com\\x00\\x00\\x1c\\x00\\x01À\\x0c\\x00\\x1c\\x00\\x01\\x00\\x00\\x01\\x13\\x00\\x10&\\x07ø°@\\x05\\x08\\x07\\x00\\x00\\x00\\x00\\x00\\x00 \\x0e',\n",
       " '\\x00\\x0c\\x01\\x00\\x00\\x01\\x00\\x00\\x00\\x00\\x00\\x00\\x06google\\x03com\\x00\\x00\\x1c\\x00\\x01P$\\x08\\x05+ï¿½\\x0b2\\x13ï¿½M<?ï¿½ï¿½ï¿½tï¿½Dqï¿½ï¿½ï¿½sEï¿½ï¿½ï¿½ï¿½\\x0eï¿½\\x05Eï¿½ï¿½ï¿½ï¿½ï¿½\\x10EtÏ¹xï¿½p\\x06\\x0fwEê³´ï¿½qP\\\\ï¿½XHq~ï¿½ï¿½]\\nÔª\\x04ï¿½ï¿½*ï¿½ï¿½*ï¿½ï¿½ï¿½è¦±34ï¿½ï¿½1ï¿½ï¿½ï¿½ï¿½ï¿½rie\\\\+\\x7fï¿½ï¿½ï¿½ï¿½!ï¿½\\x06c\\x14ï¿½`6ï¿½=ï¿½ï¿½\\x11<ï¿½\\x08Wï¿½\\x14ï¿½ï¿½ï¿½Hï¿½ï¿½ï¿½ï¿½x)U\\x037ï¿½*ï¿½ï¿½qï¿½ï¿½K)ï¿½Nï¿½\\x18ï¿½>ï¿½uï¿½ï¿½VIï¿½ï¿½\\x08Hï¿½ï¿½PDMU~#ï¿½ï¿½3ï¿½ï¿½ï¿½ï¿½(Å\\x95vï¿½ï¿½\\x10\\x12\\x15Y{\\x15ï¿½Oï¿½\\x12uï¿½ï¿½ \\x1aï¿½\":ï¿½ï¿½\\x08ï¿½<ï¿½b\\x1a!)ï¿½6XQ\\x1e7CX~qé½\\x9aH\\x1cï¿½oï¿½ï¿½\\x08\\x15ï¿½ï¿½\\nï¿½ç\\xa0\\xa0\\x1aï¿½ï¿½Bï¿½S\\x01ï¿½URï¿½Î\\x8b-ï¿½x3<ï¿½\\\\vï¿½`ï¿½;ï¿½P\"\\\\+\\x10.A!ï¿½\\x01%yFrtï¿½Sï¿½Vï¿½ï¿½Ö½ï¿½ï¿½jï¿½ï¿½\\x14C\\tï¿½ï¿½!#ï¿½ &ï¿½=\\x12ï¿½ï¿½ï¿½%\\x05Ö¯ï¿½ï¿½O$ï¿½PD#\\x04ï¿½ï¿½ï¿½ï¿½ï¿½ï¿½ï¿½\\x0cz\\x11+ï¿½1thl} ï¿½yï¿½ï¿½^ï¿½fMï¿½_ï¿½sï¿½f(ï¿½Å\\x9aUï¿½ï¿½ï¿½-\\x0fï¿½ï¿½ï¿½fMÈ\\x94ï¿½\\x17ï¿½ï¿½ï¿½Gï¿½H\\x01ï¿½Jï¿½ï¿½Sï¿½Ø¿ï¿½ï¿½ï¿½|Eï¿½ï¿½ï¿½ï¿½ï¿½ï¿½vï¿½ï¿½\\x08ï¿½Udï¿½\\x08\\x08ï¿½+ï¿½f\\x14tï¿½Dï¿½+ï¿½bï¿½1qï¿½ï¿½ï¿½=MC;?ï¿½ï¿½qï¿½ï¿½ï¿½lÇ\\x87Iï¿½ï¿½Rï¿½\\x06$ï¿½%\\x10Ý\\x840_\\x08qCï¿½Y,ï¿½ï¿½ï¿½Ö¹ï¿½\\x02K_ï¿½ï¿½ï¿½ï¿½ï¿½Pï¿½Oï¿½ï¿½\\x07ï¿½pï¿½HCî±\\x98ï¿½.ï¿½^\\x11\\x1aï¿½v:o\\x14\\x02\\x1eï¿½w\\x1a\"\\nï¿½-kï¿½\\x08ï¿½]a\\'4ï¿½\\x07ï¿½Pï¿½U:ó\\x9a»\\x87ï¿½',\n",
       " '\\x00\\x0c\\x81\\x80\\x00\\x01\\x00\\x01\\x00\\x00\\x00\\x00\\x06google\\x03com\\x00\\x00\\x1c\\x00\\x01À\\x0c\\x00\\x1c\\x00\\x01\\x00\\x00\\x01\\x12\\x00\\x10&\\x07ø°@\\x05\\x08\\x07\\x00\\x00\\x00\\x00\\x00\\x00 \\x0e',\n",
       " '\\x00\\x0c\\x01\\x00\\x00\\x01\\x00\\x00\\x00\\x00\\x00\\x00\\x06google\\x03com\\x00\\x00\\x1c\\x00\\x01rÌ\\x90 ~\\x16ï¿½\\x00ï¿½ï¿½\\x7fï¿½\\x02ï¿½vï¿½\\x0ex+fï¿½ï¿½ï¿½ï¿½ï¿½Ï\\x95\\x08^\\x144WHï¿½Yï¿½vï¿½ï¿½zc\\x04ï¿½\\x16ï¿½?+K\\x05ï¿½Rï¿½o\\x15ï¿½ë\\x96\\x91]\\x1aÊ\\x9eBï¿½ï¿½Õ¸odï¿½ï¿½?;ï¿½4ï¿½[\\\\ï¿½\\x14ï¿½T\\x1awlï¿½\\'j\\x0c\\x04\\x14\\x0eï¿½0ï¿½ï¿½Ý£ï¿½ï¿½\\x05ï¿½Ä\\x8c\\x18*(ï¿½ï¿½CVÎ\\x8egï¿½ï¿½ï¿½\\x07ï¿½.ï¿½Esï¿½_Ezboï¿½ï¿½oï¿½É¤ï¿½ï¿½\\x07ï¿½ï¿½ï¿½rgï¿½%ï¿½ï¿½ï¿½|;ï¿½ï¿½ï¿½ï¿½ï¿½ï¿½\\ncA:ï¿½iï¿½ï¿½ï¿½\\x19ï¿½kmï¿½6ï¿½ï¿½nqï¿½ï¿½Bï¿½;z/?0ï¿½ï¿½ï¿½%5\\x15ï¿½ï¿½ï¿½+\\x07{!Nï¿½Oï¿½\\x13ï¿½pï¿½ï¿½Yï¿½ï¿½ï¿½.ï¿½ï¿½3|ï¿½ï¿½.!^ï¿½ï¿½ï¿½\\x1fï¿½ï¿½ï¿½bï¿½ï¿½\\x1dï¿½\\x1b]\\x16ï¿½yï¿½ï¿½Û\\x81ï¿½\\x14ï¿½ï¿½\\x08ï¿½\\rï¿½ï¿½\\x16ï¿½ï¿½.ï¿½â\\x90²F\\x08ï¿½JeÐ\\x8bï¿½?\\x15ï¿½\\x1cï¿½î\\x88³\\x17ï¿½ï¿½ï¿½ï¿½\\x02Ëºï¿½Bg^ï¿½Ot8a%DSï¿½Jwï¿½JIï¿½gï¿½g\"\\x7f74ï¿½i\\x1bï¿½1ï¿½ï¿½\\x0cÏ¹ï¿½^Rfï¿½\\x07ï¿½\\x08Jï¿½ï¿½yï¿½0(ï¿½Ô·R\\x11ï¿½hÈ\\xa0bï¿½ï¿½Dï¿½?yï¿½wvOï¿½\\x17ï¿½@ï¿½ï¿½ï¿½ï¿½ï¿½%:Nï¿½\\x7fï¿½d\"Ú\\x97ï¿½{%\\x05#ï¿½ï¿½9ï¿½ï¿½ï¿½\\x11_Ä\\x887ï¿½\\x07\"L\\x04ï¿½aÓ\\x9cï¿½ï¿½\\x08C4?ï¿½Òµ!ï¿½.Ê°\\x06})Ý¯(ï¿½ï¿½ï¿½qï¿½ï¿½ï¿½ï¿½\\x12ï¿½*ï¿½ï¿½4ï¿½*ï¿½ï¿½\\x00KYwï¿½+ï¿½ï¿½7\\x04ï¿½$}Rï¿½D\"\\x1cï¿½ï¿½ï¿½ï¿½ï¿½,Kï¿½%Ñ¬ï¿½Tï¿½\\\\{ï¿½7ï¿½ï¿½ï¿½\\x13ï¿½Bï¿½ï¿½ï¿½ï¿½@ï¿½ï¿½:ï¿½ï¿½ï¿½\\x11ï¿½+uï¿½Cï¿½mï¿½\\x0cï¿½\\x11ï¿½l\\x049*ï¿½}ï¿½S1\\x1aï¿½Fwï¿½Uï¿½Jï¿½<ï¿½uNHï¿½ï¿½:',\n",
       " '\\x00\\x0c\\x81\\x80\\x00\\x01\\x00\\x01\\x00\\x00\\x00\\x00\\x06google\\x03com\\x00\\x00\\x1c\\x00\\x01À\\x0c\\x00\\x1c\\x00\\x01\\x00\\x00\\x01\\x11\\x00\\x10&\\x07ø°@\\x05\\x08\\x07\\x00\\x00\\x00\\x00\\x00\\x00 \\x0e',\n",
       " '\\x00\\x0c\\x01\\x00\\x00\\x01\\x00\\x00\\x00\\x00\\x00\\x00\\x06google\\x03com\\x00\\x00\\x1c\\x00\\x01ï¿½Kï¿½eï¿½4ï¿½P$M\\x11qï¿½ï¿½eï¿½ï¿½\\x08ï¿½Vï¿½qï¿½ï¿½ï¿½\\nï¿½7ï¿½|/ï¿½7ï¿½ï¿½R\\x0feï¿½\\x1aÂ¦ï¿½Hï¿½ï¿½Ê¯ï¿½\\x15ï¿½\\x1b#\\x14Qï¿½wï¿½P\\x00ï¿½ï¿½IuÈ\\x85[\\x1f06%ï¿½#+\\x03ï¿½lYï¿½ï¿½\\'ï¿½/Ë©ï¿½ï¿½ï¿½Muï¿½ï¿½\\x0bï¿½\\x19ï¿½\\x0c\\x11ï¿½ï¿½\\x08ï¿½ï¿½ï¿½PSï¿½S~BGï¿½oI%ï¿½\\x08\\n\\rÂ¡ï¿½+3Q~5\\x15ï¿½\\x1e6ï¿½ï¿½kÎ\\x9c\\x08ï¿½ï¿½aEï¿½ï¿½ï¿½(\\x7f\\x08\\x06\\x00ï¿½Rï¿½ï¿½KAï¿½ï¿½\\x102.Sï¿½ï¿½z8\\x005ï¿½Zï¿½ï¿½wV-{/ï¿½qï¿½^ï¿½ï¿½{ï¿½ï¿½H2v\\x12ï¿½\\x01ï¿½ï¿½+\\x1aï¿½\\r\\x1cï¿½?M\\nzï¿½IRï¿½hï¿½\\x16É\\xadï¿½zï¿½uï¿½tP=lï¿½ï¿½j\\x05ï¿½ï¿½ï¿½\\x15Æ\\x99ï¿½Zï¿½]Ä¸ï¿½ï¿½.ï¿½ï¿½ï¿½D\\x10ï¿½ï¿½5P8lï¿½ï¿½ï¿½T\\x1aï¿½Oï¿½2ï¿½\\x1bï¿½ï¿½,ï¿½ï¿½ï¿½ï¿½ï¿½ï¿½uï¿½D8`ï¿½=2.ï¿½ï¿½+3|8ï¿½ï¿½Vï¿½ï¿½ï¿½Rï¿½ï¿½ï¿½ï¿½ï¿½ï¿½ï¿½ï¿½ï¿½ï¿½2\"Jï¿½ï¿½o\\x05ï¿½eï¿½Ttï¿½ï¿½nï¿½EkÎ\\x8f\\rAï¿½1ï¿½nï¿½ï¿½ï¿½ï¿½ï¿½~ï¿½aï¿½vï¿½ï¿½\\x03ï¿½ï¿½ï¿½{b7vï¿½)ï¿½\\x01ã\\x95\\xa0ï¿½8ï¿½ï¿½ï¿½Ù\\x9dï¿½ï¿½:xï¿½Dï¿½ï¿½ï¿½\\x7fï¿½ï¿½F\\x7f\\n\\x06ï¿½ï¿½Tjï¿½Ì¯ï¿½Tï¿½ï¿½ï¿½ï¿½0â\\x95\\x96ï¿½!ï¿½CD-ï¿½~ï¿½ï¿½ï¿½lÑ\\x84ï¿½ï¿½FÂº\\x0fï¿½ï¿½w\\x13ï¿½qï¿½1ï¿½\\x1aÑ¢ï¿½ï¿½&Ä\\xad\\x11\\x04ï¿½b~}ï¿½ï¿½ï¿½\\x14ï¿½ï¿½ï¿½ï¿½k\\x05ï¿½ï¿½yBï¿½\\x17@|\\x1eï¿½ï¿½\"ï¿½3\\x05ï¿½l?\\x11ï¿½ï¿½\\nV\\x06+ï¿½ï¿½Lï¿½ï¿½ï¿½ï¿½%Wi(\\x17Eï¿½iw-ï¿½ï¿½[ï¿½<e\\x11ï¿½ï¿½ï¿½\"ï¿½\\x0bfÇ¤ï¿½\\x0b\\\\9ï¿½Coï¿½B.\\x04ï¿½\\tï¿½',\n",
       " '\\x00\\x0c\\x81\\x80\\x00\\x01\\x00\\x01\\x00\\x00\\x00\\x00\\x06google\\x03com\\x00\\x00\\x1c\\x00\\x01À\\x0c\\x00\\x1c\\x00\\x01\\x00\\x00\\x01\\x10\\x00\\x10&\\x07ø°@\\x05\\x08\\x07\\x00\\x00\\x00\\x00\\x00\\x00 \\x0e',\n",
       " '\\x00\\x0c\\x01\\x00\\x00\\x01\\x00\\x00\\x00\\x00\\x00\\x00\\x06google\\x03com\\x00\\x00\\x1c\\x00\\x01ï¿½XH\\x04j\\x17\\x00ï¿½U55\\x1b56ï¿½\\x03\\n}ï¿½ï¿½\\nÄ¹=\\x14Þ\\x83\\x00ï¿½\\x1f\\x08^!\\x12oï¿½ï¿½Z*ï¿½ï¿½ï¿½ï¿½]ï¿½ï¿½ï¿½&z\\x17\\x0e\\x19\"ï¿½%ï¿½p\\x03\"ï¿½ï¿½ï¿½ï¿½ï¿½Gï¿½ï¿½\\x05TYcï¿½ï¿½+\\x08\\x04zï¿½ï¿½[ï¿½O\\x7fU ï¿½N\\x05\\x0cï¿½ï¿½ï¿½ï¿½+ï¿½ï¿½{ï¿½ï¿½\\x0b|ï¿½5\\x08p+\"ï¿½ï¿½$ï¿½1[\\x1fï¿½ï¿½ï¿½DÖ\\x8aï¿½ï¿½ï¿½ï¿½\\x7f&ï¿½.Fï¿½Blï¿½ï¿½\\x00ï¿½\\x02RËª*zï¿½ï¿½ï¿½ï¿½Hï¿½,\\t4\\x10ï¿½sï¿½88ï¿½ï¿½ï¿½\\x10ï¿½JRï¿½ï¿½ï¿½ï¿½ï¿½qï¿½ï¿½.ï¿½ï¿½ï¿½\\x1ck\\x10ï¿½e\\x00$ï¿½mï¿½\\x0e|2iSLï¿½Dï¿½|}\\x13\\x02~ï¿½{ï¿½0}>2ï¿½vÑ\\x93y%ï¿½w8ï¿½K=\\x10ï¿½Cï¿½\\x15eCï¿½ï¿½Kï¿½ï¿½4M<ï¿½mOï¿½ï¿½PJqï¿½<ï¿½~ï¿½\\x0bï¿½\\x1chÝ\\x9fl$\\x01e!A3\\tzï¿½\\x00j[ï¿½ï¿½olx*ï¿½uï¿½ï¿½ï¿½+\\x0bï¿½&ï¿½G(/Fï¿½ï¿½@p\\x00\\x11ï¿½+E5ï¿½lxï¿½ï¿½É\\x873ï¿½uï¿½ï¿½Kï¿½l3\\x1b.\\x16\\x02.&\\x05ï¿½\\x10ï¿½\\x05ï¿½\\x0eï¿½ï¿½ï¿½6ï¿½ï¿½ï¿½ï¿½`}2f\\\\zï¿½\\x18ï¿½ï¿½\\x18Õ\\x8dï¿½Jï¿½2eï¿½ï¿½ï¿½ï¿½ï¿½[ï¿½1E+ï¿½Lï¿½ï¿½nï¿½ï¿½\\x12ï¿½(\\x00ï¿½9 ï¿½O~7\\x10ï¿½ï¿½ï¿½+ï¿½ï¿½Lï¿½ï¿½\\x10Ý\\x86I@bï¿½W\\nï¿½ï¿½wmXï¿½i\\nVï¿½ï¿½ï¿½%gï¿½ï¿½ï¿½\\x08\\x01ï¿½ï¿½6 \\x11ï¿½.\\x05ï¿½^)ï¿½vï¿½\\x07Bï¿½+ï¿½pdï¿½h>}xï¿½y!Jï¿½\\x0c ï¿½\\x05ï¿½\\x06Eï¿½mï¿½Â¯ï¿½\\x05ï¿½ï¿½ï¿½F9ï¿½ï¿½+ï¿½ï¿½\\x12#ï¿½Ð\\x94hï¿½.R\\x1b\\x10ï¿½uï¿½\\x05Cvï¿½ï¿½=kï¿½ï¿½ï¿½\\x06\\x01~\\x06ï¿½^ï¿½ï¿½\\x1bï¿½ï¿½<Mhï¿½',\n",
       " '\\x00\\x0c\\x81\\x80\\x00\\x01\\x00\\x01\\x00\\x00\\x00\\x00\\x06google\\x03com\\x00\\x00\\x1c\\x00\\x01À\\x0c\\x00\\x1c\\x00\\x01\\x00\\x00\\x01\\x0f\\x00\\x10&\\x07ø°@\\x05\\x08\\x07\\x00\\x00\\x00\\x00\\x00\\x00 \\x0e',\n",
       " '\\x00\\x0c\\x01\\x00\\x00\\x01\\x00\\x00\\x00\\x00\\x00\\x00\\x06google\\x03com\\x00\\x00\\x1c\\x00\\x01wï¿½\\x04\\x10ï¿½[yï¿½ï¿½4ï¿½ï¿½ï¿½\\x07ï¿½í\\x8c½ï¿½ï¿½ï¿½Q9cï¿½ï¿½ï¿½ï¿½ï¿½\\x15ï¿½ï¿½ï¿½ï¿½}\\x0c\\x17ï¿½ï¿½ï¿½ï¿½ï¿½\\x02uï¿½e\\x1acï¿½ï¿½ï¿½dB\\x1cï¿½ï¿½\\rï¿½R:q\\x10\\\\\\x04\\x0cï¿½0,ï¿½\\x0cï¿½0,ï¿½\\x0cï¿½0\\x0c\\x0b1ï¿½0\\x0c\\x0b1ï¿½0\\x0cï¿½Bï¿½0\\x0cï¿½Bï¿½0\\x0cÃ°\\x103\\x0cÃ°\\x103\\x0cï¿½0}ï¿½ï¿½Eï¿½0ï¿½\\x19\\x08Ú\\x8cyï¿½Tï¿½hÞ±6ï¿½>ï¿½ï¿½ï¿½ï¿½L\\x7fU)ï¿½0\\x03\\x03ï¿½Wï¿½ï¿½ï¿½ï¿½nï¿½X\\x00Hï¿½&Ë\\x91\\x1bMï¿½ï¿½T\\x08\\x006\\x10ï¿½[ï¿½hU\\x0bï¿½[ï¿½\\x01c\\x1f\\x17&\\x0b1ï¿½0ï¿½ï¿½ï¿½ï¿½\\x0fï¿½\\x10ï¿½@)ï¿½ï¿½7\\x12ï¿½h6E\\x14\\x12hï¿½GÎ¾Jï¿½ï¿½d\\x06ï¿½\\x113ï¿½@ï¿½ï¿½ï¿½v=ï¿½MÕ¶Gï¿½\\x05kï¿½$Yï¿½\\x19ï¿½ï¿½\\x0e\\x03ï¿½ï¿½ï¿½ï¿½Bï¿½0L?ï¿½Ø\\x94ï¿½ï¿½=ï¿½\\x16Fwï¿½Y;ï¿½ï¿½ï¿½<ï¿½ï¿½ï¿½\\x01\\x00\\x00ï¿½ï¿½ï¿½ï¿½;ï¿½ï¿½}ï¿½4\\x00\\x00\\x00\\x00IENDï¿½B`ï¿½',\n",
       " '\\x00\\x0c\\x81\\x80\\x00\\x01\\x00\\x01\\x00\\x00\\x00\\x00\\x06google\\x03com\\x00\\x00\\x1c\\x00\\x01À\\x0c\\x00\\x1c\\x00\\x01\\x00\\x00\\x01\\x0e\\x00\\x10&\\x07ø°@\\x05\\x08\\x07\\x00\\x00\\x00\\x00\\x00\\x00 \\x0e']"
      ]
     },
     "execution_count": 213,
     "metadata": {},
     "output_type": "execute_result"
    }
   ],
   "source": [
    "payloads_string"
   ]
  },
  {
   "attachments": {},
   "cell_type": "markdown",
   "metadata": {},
   "source": [
    "### Examine los primeros bytes del contenido, ¿encuentra algún dato que no haga sentido que se envié a través del puerto explicado en el inciso f?\n",
    "\n",
    "Para los primeros bytes del contenido, se puede observar que tiene el valor del dominio al que esa intentado consultar con el servidor DNS, podemos ver que varios tienen el valor de google.com, podemos ver que para algunos de estos payloads no tienen una direccion de dominio en el por lo que es sospechoso que se esten enviando datos que no deberian ser enviados a traves del puerto 53."
   ]
  }
 ],
 "metadata": {
  "kernelspec": {
   "display_name": "data_sciece_env",
   "language": "python",
   "name": "python3"
  },
  "language_info": {
   "codemirror_mode": {
    "name": "ipython",
    "version": 3
   },
   "file_extension": ".py",
   "mimetype": "text/x-python",
   "name": "python",
   "nbconvert_exporter": "python",
   "pygments_lexer": "ipython3",
   "version": "3.9.13"
  },
  "orig_nbformat": 4
 },
 "nbformat": 4,
 "nbformat_minor": 2
}
