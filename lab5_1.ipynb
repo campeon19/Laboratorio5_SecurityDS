{
 "cells": [
  {
   "cell_type": "code",
   "execution_count": 1,
   "metadata": {},
   "outputs": [],
   "source": [
    "from scapy.all import * # Packet manipulation\n",
    "import pandas as pd # Pandas - Create and Manipulate DataFrames\n",
    "import numpy as np # Math Stuff (don't worry only used for one line :] )\n",
    "import binascii # Binary to Ascii \n",
    "import seaborn as sns\n",
    "sns.set(color_codes=True)\n",
    "%matplotlib inline"
   ]
  },
  {
   "cell_type": "code",
   "execution_count": 2,
   "metadata": {},
   "outputs": [
    {
     "data": {
      "text/html": [
       "<div>\n",
       "<style scoped>\n",
       "    .dataframe tbody tr th:only-of-type {\n",
       "        vertical-align: middle;\n",
       "    }\n",
       "\n",
       "    .dataframe tbody tr th {\n",
       "        vertical-align: top;\n",
       "    }\n",
       "\n",
       "    .dataframe thead th {\n",
       "        text-align: right;\n",
       "    }\n",
       "</style>\n",
       "<table border=\"1\" class=\"dataframe\">\n",
       "  <thead>\n",
       "    <tr style=\"text-align: right;\">\n",
       "      <th></th>\n",
       "      <th>No.</th>\n",
       "      <th>Time</th>\n",
       "      <th>Source</th>\n",
       "      <th>Destination</th>\n",
       "      <th>Protocol</th>\n",
       "      <th>Length</th>\n",
       "      <th>Info</th>\n",
       "    </tr>\n",
       "  </thead>\n",
       "  <tbody>\n",
       "    <tr>\n",
       "      <th>0</th>\n",
       "      <td>1</td>\n",
       "      <td>0.000000</td>\n",
       "      <td>10.1.10.53</td>\n",
       "      <td>84.54.22.33</td>\n",
       "      <td>DNS</td>\n",
       "      <td>975</td>\n",
       "      <td>Standard query 0x000c AAAA google.com</td>\n",
       "    </tr>\n",
       "    <tr>\n",
       "      <th>1</th>\n",
       "      <td>2</td>\n",
       "      <td>0.032433</td>\n",
       "      <td>84.54.22.33</td>\n",
       "      <td>10.1.10.53</td>\n",
       "      <td>DNS</td>\n",
       "      <td>98</td>\n",
       "      <td>Standard query response 0x000c AAAA google.com...</td>\n",
       "    </tr>\n",
       "    <tr>\n",
       "      <th>2</th>\n",
       "      <td>3</td>\n",
       "      <td>1.020103</td>\n",
       "      <td>10.1.10.53</td>\n",
       "      <td>84.54.22.33</td>\n",
       "      <td>DNS</td>\n",
       "      <td>989</td>\n",
       "      <td>Standard query 0x000c AAAA google.com</td>\n",
       "    </tr>\n",
       "    <tr>\n",
       "      <th>3</th>\n",
       "      <td>4</td>\n",
       "      <td>1.038961</td>\n",
       "      <td>84.54.22.33</td>\n",
       "      <td>10.1.10.53</td>\n",
       "      <td>DNS</td>\n",
       "      <td>98</td>\n",
       "      <td>Standard query response 0x000c AAAA google.com...</td>\n",
       "    </tr>\n",
       "    <tr>\n",
       "      <th>4</th>\n",
       "      <td>5</td>\n",
       "      <td>2.042830</td>\n",
       "      <td>10.1.10.53</td>\n",
       "      <td>84.54.22.33</td>\n",
       "      <td>DNS</td>\n",
       "      <td>1026</td>\n",
       "      <td>Standard query 0x000c AAAA google.com</td>\n",
       "    </tr>\n",
       "  </tbody>\n",
       "</table>\n",
       "</div>"
      ],
      "text/plain": [
       "   No.      Time       Source  Destination Protocol  Length  \\\n",
       "0    1  0.000000   10.1.10.53  84.54.22.33      DNS     975   \n",
       "1    2  0.032433  84.54.22.33   10.1.10.53      DNS      98   \n",
       "2    3  1.020103   10.1.10.53  84.54.22.33      DNS     989   \n",
       "3    4  1.038961  84.54.22.33   10.1.10.53      DNS      98   \n",
       "4    5  2.042830   10.1.10.53  84.54.22.33      DNS    1026   \n",
       "\n",
       "                                                Info  \n",
       "0              Standard query 0x000c AAAA google.com  \n",
       "1  Standard query response 0x000c AAAA google.com...  \n",
       "2              Standard query 0x000c AAAA google.com  \n",
       "3  Standard query response 0x000c AAAA google.com...  \n",
       "4              Standard query 0x000c AAAA google.com  "
      ]
     },
     "execution_count": 2,
     "metadata": {},
     "output_type": "execute_result"
    }
   ],
   "source": [
    "df = pd.read_csv('analisis_paquetes.csv')\n",
    "df.head()"
   ]
  },
  {
   "attachments": {},
   "cell_type": "markdown",
   "metadata": {},
   "source": [
    "Captura de 10 paquetes"
   ]
  },
  {
   "cell_type": "code",
   "execution_count": 3,
   "metadata": {},
   "outputs": [
    {
     "name": "stdout",
     "output_type": "stream",
     "text": [
      "<class 'scapy.plist.PacketList'>\n",
      "10\n",
      "<Sniffed: TCP:8 UDP:2 ICMP:0 Other:0>\n"
     ]
    },
    {
     "data": {
      "text/plain": [
       "<Ether  dst=e8:84:a5:19:71:cf src=ec:a9:40:83:83:3b type=IPv6 |<IPv6  version=6 tc=0 fl=573824 plen=32 nh=TCP hlim=117 src=2607:f8b0:400c:c16::bc dst=2803:7000:6000:e76:1519:4227:fa81:4fe4 |<TCP  sport=5228 dport=57188 seq=160204899 ack=2338623495 dataofs=8 reserved=0 flags=A window=265 chksum=0x8cfa urgptr=0 options=[('NOP', None), ('NOP', None), ('SAck', (2338623494, 2338623495))] |>>>"
      ]
     },
     "execution_count": 3,
     "metadata": {},
     "output_type": "execute_result"
    }
   ],
   "source": [
    "num_of_packets_to_sniff = 10\n",
    "pcap = sniff(count=num_of_packets_to_sniff)\n",
    "\n",
    "# rdpcap returns packet list\n",
    "## packetlist object can be enumerated \n",
    "print(type(pcap))\n",
    "print(len(pcap))\n",
    "print(pcap)\n",
    "pcap[0]"
   ]
  },
  {
   "cell_type": "code",
   "execution_count": 4,
   "metadata": {},
   "outputs": [
    {
     "name": "stdout",
     "output_type": "stream",
     "text": [
      "Informacion del frame:\n",
      "Ether / IPv6 / TCP 2607:f8b0:400c:c16::bc:5228 > 2803:7000:6000:e76:1519:4227:fa81:4fe4:57188 A\n",
      "Informacion del paquete:\n",
      "IPv6 / TCP 2607:f8b0:400c:c16::bc:5228 > 2803:7000:6000:e76:1519:4227:fa81:4fe4:57188 A\n",
      "Informacion del segmento:\n",
      "TCP 2607:f8b0:400c:c16::bc:5228 > 2803:7000:6000:e76:1519:4227:fa81:4fe4:57188 A\n",
      "Data:\n",
      "\n",
      "###[ Ethernet ]### \n",
      "  dst       = e8:84:a5:19:71:cf\n",
      "  src       = ec:a9:40:83:83:3b\n",
      "  type      = IPv6\n",
      "###[ IPv6 ]### \n",
      "     version   = 6\n",
      "     tc        = 0\n",
      "     fl        = 573824\n",
      "     plen      = 32\n",
      "     nh        = TCP\n",
      "     hlim      = 117\n",
      "     src       = 2607:f8b0:400c:c16::bc\n",
      "     dst       = 2803:7000:6000:e76:1519:4227:fa81:4fe4\n",
      "###[ TCP ]### \n",
      "        sport     = 5228\n",
      "        dport     = 57188\n",
      "        seq       = 160204899\n",
      "        ack       = 2338623495\n",
      "        dataofs   = 8\n",
      "        reserved  = 0\n",
      "        flags     = A\n",
      "        window    = 265\n",
      "        chksum    = 0x8cfa\n",
      "        urgptr    = 0\n",
      "        options   = [('NOP', None), ('NOP', None), ('SAck', (2338623494, 2338623495))]\n",
      "\n"
     ]
    }
   ],
   "source": [
    "ethernet_frame = pcap[0]\n",
    "ip_packet = ethernet_frame.payload\n",
    "segment = ip_packet.payload\n",
    "data = segment.payload #recupera la informacion de la capa 4\n",
    "\n",
    "print(\"Informacion del frame:\")\n",
    "print(ethernet_frame.summary())\n",
    "\n",
    "print(\"Informacion del paquete:\")\n",
    "print(ip_packet.summary())\n",
    "\n",
    "print(\"Informacion del segmento:\")\n",
    "print(segment.summary())\n",
    "\n",
    "print(\"Data:\")\n",
    "print(data.summary())\n",
    "\n",
    "ethernet_frame.show()\n",
    "data.show()"
   ]
  },
  {
   "cell_type": "code",
   "execution_count": 5,
   "metadata": {},
   "outputs": [
    {
     "name": "stdout",
     "output_type": "stream",
     "text": [
      "<class 'scapy.layers.l2.Ether'>\n",
      "<class 'scapy.layers.inet6.IPv6'>\n",
      "<class 'scapy.layers.inet.TCP'>\n",
      "Ethernet <Ether from Sniffed: TCP:8 UDP:2 ICMP:0 Other:0>\n",
      "IP <IPv6 from Sniffed: TCP:3 UDP:2 ICMP:0 Other:0>\n",
      "TCP <TCP from Sniffed: TCP:8 UDP:0 ICMP:0 Other:0>\n",
      "UDP <UDP from Sniffed: TCP:0 UDP:2 ICMP:0 Other:0>\n"
     ]
    }
   ],
   "source": [
    "print(type(ethernet_frame))\n",
    "print(type(ip_packet))\n",
    "print(type(segment))\n",
    "\n",
    "# Packets can be filtered on layers ie) ethernet_frame[scapy.layers.l2.Ether]\n",
    "ethernet_type = type(ethernet_frame)\n",
    "ip_type = type(ip_packet)\n",
    "tcp_type = type(segment)\n",
    "print(\"Ethernet\",pcap[ethernet_type])\n",
    "print(\"IP\", pcap[ip_type])\n",
    "print(\"TCP\", pcap[tcp_type])\n",
    "\n",
    "# Scapy provides this via import statements\n",
    "from scapy.layers.l2 import Ether\n",
    "from scapy.layers.inet import IP\n",
    "from scapy.layers.inet import TCP, UDP\n",
    "\n",
    "print(\"UDP\", pcap[UDP])"
   ]
  },
  {
   "cell_type": "code",
   "execution_count": 6,
   "metadata": {},
   "outputs": [
    {
     "name": "stdout",
     "output_type": "stream",
     "text": [
      "  version ihl tos   len     id flags frag  ttl proto chksum  ... dataofs  \\\n",
      "0       4   5   0    52  63614    DF    0  128     6      0  ...       8   \n",
      "1       4   5   0    52      0    DF    0   50     6  35746  ...       8   \n",
      "2       4   5   0    40  63615    DF    0  128     6      0  ...       5   \n",
      "3       4   5   0   557  63616    DF    0  128     6      0  ...       5   \n",
      "4       4   5   0  1476  14653    DF    0   50     6  19669  ...       5   \n",
      "\n",
      "  reserved flags  window chksum urgptr options payload  \\\n",
      "0        0     S   64240  48456      0       6       0   \n",
      "1        0    SA   65535  37191      0       6       0   \n",
      "2        0     A     258  48444      0    None       0   \n",
      "3        0    PA     258  48961      0       0     517   \n",
      "4        0     A      66  52094      0       0    1436   \n",
      "\n",
      "                                         payload_raw  \\\n",
      "0                                                b''   \n",
      "1                                                b''   \n",
      "2                                                b''   \n",
      "3  b'\\x16\\x03\\x01\\x02\\x00\\x01\\x00\\x01\\xfc\\x03\\x03...   \n",
      "4  b'\\x16\\x03\\x03\\x00z\\x02\\x00\\x00v\\x03\\x03\\xf7\\x...   \n",
      "\n",
      "                                         payload_hex  \n",
      "0                                                b''  \n",
      "1                                                b''  \n",
      "2                                                b''  \n",
      "3  b'1603010200010001fc03034ee53c15d1c308f7a5b1ac...  \n",
      "4  b'160303007a020000760303f7dc1918e4d7068c3f0ead...  \n",
      "\n",
      "[5 rows x 28 columns]\n"
     ]
    }
   ],
   "source": [
    "# Obtenemos los campos de IP/TCP/UDP que seran las columnas de nuestro DF\n",
    "ip_fields = [field.name for field in IP().fields_desc]\n",
    "tcp_fields = [field.name for field in TCP().fields_desc]\n",
    "udp_fields = [field.name for field in UDP().fields_desc]\n",
    "\n",
    "#Concatenamos todos los campos\n",
    "dataframe_fields = ip_fields + ['time'] + tcp_fields + ['payload','payload_raw','payload_hex']\n",
    "\n",
    "# Creamos un DF en blanco con los campos como columnas\n",
    "df = pd.DataFrame(columns=dataframe_fields)\n",
    "for packet in pcap[IP]:\n",
    "    # Obtenemos los valores de los campos de cada fila\n",
    "    field_values = []\n",
    "    # A;adimos todos los valores de los campos de IP al df\n",
    "    for field in ip_fields:\n",
    "        if field == 'options':\n",
    "            # Obtenemos el numero de opciones del IP Header\n",
    "            field_values.append(len(packet[IP].fields[field]))\n",
    "        else:\n",
    "            field_values.append(packet[IP].fields[field])\n",
    "    \n",
    "    field_values.append(packet.time)\n",
    "    \n",
    "    layer_type = type(packet[IP].payload)\n",
    "    for field in tcp_fields:\n",
    "        try:\n",
    "            if field == 'options':\n",
    "                field_values.append(len(packet[layer_type].fields[field]))\n",
    "            else:\n",
    "                field_values.append(packet[layer_type].fields[field])\n",
    "        except:\n",
    "            field_values.append(None)\n",
    "    \n",
    "    # Agregamos el payload\n",
    "    field_values.append(len(packet[layer_type].payload))\n",
    "    field_values.append(packet[layer_type].payload.original)\n",
    "    field_values.append(binascii.hexlify(packet[layer_type].payload.original))\n",
    "    # Agregamos la fila al df\n",
    "    df_append = pd.DataFrame([field_values], columns=dataframe_fields)\n",
    "    df = pd.concat([df, df_append], axis=0)\n",
    "\n",
    "# Reset Index\n",
    "df = df.reset_index()\n",
    "# Drop old index column\n",
    "df = df.drop(columns=\"index\")\n",
    "\n",
    "print(df.head(5))"
   ]
  },
  {
   "cell_type": "code",
   "execution_count": 7,
   "metadata": {},
   "outputs": [
    {
     "data": {
      "text/html": [
       "<div>\n",
       "<style scoped>\n",
       "    .dataframe tbody tr th:only-of-type {\n",
       "        vertical-align: middle;\n",
       "    }\n",
       "\n",
       "    .dataframe tbody tr th {\n",
       "        vertical-align: top;\n",
       "    }\n",
       "\n",
       "    .dataframe thead th {\n",
       "        text-align: right;\n",
       "    }\n",
       "</style>\n",
       "<table border=\"1\" class=\"dataframe\">\n",
       "  <thead>\n",
       "    <tr style=\"text-align: right;\">\n",
       "      <th></th>\n",
       "      <th>src</th>\n",
       "      <th>dst</th>\n",
       "      <th>sport</th>\n",
       "      <th>dport</th>\n",
       "    </tr>\n",
       "  </thead>\n",
       "  <tbody>\n",
       "    <tr>\n",
       "      <th>0</th>\n",
       "      <td>192.168.0.17</td>\n",
       "      <td>140.82.112.22</td>\n",
       "      <td>57278</td>\n",
       "      <td>443</td>\n",
       "    </tr>\n",
       "    <tr>\n",
       "      <th>1</th>\n",
       "      <td>140.82.112.22</td>\n",
       "      <td>192.168.0.17</td>\n",
       "      <td>443</td>\n",
       "      <td>57278</td>\n",
       "    </tr>\n",
       "    <tr>\n",
       "      <th>2</th>\n",
       "      <td>192.168.0.17</td>\n",
       "      <td>140.82.112.22</td>\n",
       "      <td>57278</td>\n",
       "      <td>443</td>\n",
       "    </tr>\n",
       "    <tr>\n",
       "      <th>3</th>\n",
       "      <td>192.168.0.17</td>\n",
       "      <td>140.82.112.22</td>\n",
       "      <td>57278</td>\n",
       "      <td>443</td>\n",
       "    </tr>\n",
       "    <tr>\n",
       "      <th>4</th>\n",
       "      <td>140.82.112.22</td>\n",
       "      <td>192.168.0.17</td>\n",
       "      <td>443</td>\n",
       "      <td>57278</td>\n",
       "    </tr>\n",
       "  </tbody>\n",
       "</table>\n",
       "</div>"
      ],
      "text/plain": [
       "             src            dst  sport  dport\n",
       "0   192.168.0.17  140.82.112.22  57278    443\n",
       "1  140.82.112.22   192.168.0.17    443  57278\n",
       "2   192.168.0.17  140.82.112.22  57278    443\n",
       "3   192.168.0.17  140.82.112.22  57278    443\n",
       "4  140.82.112.22   192.168.0.17    443  57278"
      ]
     },
     "execution_count": 7,
     "metadata": {},
     "output_type": "execute_result"
    }
   ],
   "source": [
    "df[['src','dst','sport','dport']]"
   ]
  },
  {
   "cell_type": "code",
   "execution_count": 8,
   "metadata": {},
   "outputs": [
    {
     "data": {
      "text/plain": [
       "(5, 28)"
      ]
     },
     "execution_count": 8,
     "metadata": {},
     "output_type": "execute_result"
    }
   ],
   "source": [
    "df.shape"
   ]
  },
  {
   "cell_type": "code",
   "execution_count": 9,
   "metadata": {},
   "outputs": [
    {
     "name": "stdout",
     "output_type": "stream",
     "text": [
      "  version ihl tos   len     id flags frag  ttl proto chksum  ... dataofs  \\\n",
      "0       4   5   0    52  63614    DF    0  128     6      0  ...       8   \n",
      "1       4   5   0    52      0    DF    0   50     6  35746  ...       8   \n",
      "2       4   5   0    40  63615    DF    0  128     6      0  ...       5   \n",
      "3       4   5   0   557  63616    DF    0  128     6      0  ...       5   \n",
      "4       4   5   0  1476  14653    DF    0   50     6  19669  ...       5   \n",
      "\n",
      "  reserved flags window chksum urgptr options payload  \\\n",
      "0        0     S  64240  48456      0       6       0   \n",
      "1        0    SA  65535  37191      0       6       0   \n",
      "2        0     A    258  48444      0    None       0   \n",
      "3        0    PA    258  48961      0       0     517   \n",
      "4        0     A     66  52094      0       0    1436   \n",
      "\n",
      "                                         payload_raw  \\\n",
      "0                                                b''   \n",
      "1                                                b''   \n",
      "2                                                b''   \n",
      "3  b'\\x16\\x03\\x01\\x02\\x00\\x01\\x00\\x01\\xfc\\x03\\x03...   \n",
      "4  b'\\x16\\x03\\x03\\x00z\\x02\\x00\\x00v\\x03\\x03\\xf7\\x...   \n",
      "\n",
      "                                         payload_hex  \n",
      "0                                                b''  \n",
      "1                                                b''  \n",
      "2                                                b''  \n",
      "3  b'1603010200010001fc03034ee53c15d1c308f7a5b1ac...  \n",
      "4  b'160303007a020000760303f7dc1918e4d7068c3f0ead...  \n",
      "\n",
      "[5 rows x 28 columns]\n"
     ]
    }
   ],
   "source": [
    "#save the file analisis_paquetes.pcap in pcap2 and add it to the dataframe\n",
    "pcap2 = rdpcap('analisis_paquetes.pcap')\n",
    "\n",
    "for packet in pcap2[IP]:\n",
    "    # Obtenemos los valores de los campos de cada fila\n",
    "    field_values = []\n",
    "    # A;adimos todos los valores de los campos de IP al df\n",
    "    for field in ip_fields:\n",
    "        if field == 'options':\n",
    "            # Obtenemos el numero de opciones del IP Header\n",
    "            field_values.append(len(packet[IP].fields[field]))\n",
    "        else:\n",
    "            field_values.append(packet[IP].fields[field])\n",
    "    \n",
    "    field_values.append(packet.time)\n",
    "    \n",
    "    layer_type = type(packet[IP].payload)\n",
    "    for field in tcp_fields:\n",
    "        try:\n",
    "            if field == 'options':\n",
    "                field_values.append(len(packet[layer_type].fields[field]))\n",
    "            else:\n",
    "                field_values.append(packet[layer_type].fields[field])\n",
    "        except:\n",
    "            field_values.append(None)\n",
    "    \n",
    "    # Agregamos el payload\n",
    "    field_values.append(len(packet[layer_type].payload))\n",
    "    field_values.append(packet[layer_type].payload.original)\n",
    "    field_values.append(binascii.hexlify(packet[layer_type].payload.original))\n",
    "    # Agregamos la fila al df\n",
    "    df_append = pd.DataFrame([field_values], columns=dataframe_fields)\n",
    "    df = pd.concat([df, df_append], axis=0)\n",
    "\n",
    "# Reset Index\n",
    "df = df.reset_index()\n",
    "# Drop old index column\n",
    "df = df.drop(columns=\"index\")\n",
    "\n",
    "print(df.head(5))\n"
   ]
  },
  {
   "cell_type": "code",
   "execution_count": 10,
   "metadata": {},
   "outputs": [
    {
     "data": {
      "text/html": [
       "<div>\n",
       "<style scoped>\n",
       "    .dataframe tbody tr th:only-of-type {\n",
       "        vertical-align: middle;\n",
       "    }\n",
       "\n",
       "    .dataframe tbody tr th {\n",
       "        vertical-align: top;\n",
       "    }\n",
       "\n",
       "    .dataframe thead th {\n",
       "        text-align: right;\n",
       "    }\n",
       "</style>\n",
       "<table border=\"1\" class=\"dataframe\">\n",
       "  <thead>\n",
       "    <tr style=\"text-align: right;\">\n",
       "      <th></th>\n",
       "      <th>src</th>\n",
       "      <th>dst</th>\n",
       "      <th>sport</th>\n",
       "      <th>dport</th>\n",
       "    </tr>\n",
       "  </thead>\n",
       "  <tbody>\n",
       "    <tr>\n",
       "      <th>0</th>\n",
       "      <td>192.168.0.17</td>\n",
       "      <td>140.82.112.22</td>\n",
       "      <td>57278</td>\n",
       "      <td>443</td>\n",
       "    </tr>\n",
       "    <tr>\n",
       "      <th>1</th>\n",
       "      <td>140.82.112.22</td>\n",
       "      <td>192.168.0.17</td>\n",
       "      <td>443</td>\n",
       "      <td>57278</td>\n",
       "    </tr>\n",
       "    <tr>\n",
       "      <th>2</th>\n",
       "      <td>192.168.0.17</td>\n",
       "      <td>140.82.112.22</td>\n",
       "      <td>57278</td>\n",
       "      <td>443</td>\n",
       "    </tr>\n",
       "    <tr>\n",
       "      <th>3</th>\n",
       "      <td>192.168.0.17</td>\n",
       "      <td>140.82.112.22</td>\n",
       "      <td>57278</td>\n",
       "      <td>443</td>\n",
       "    </tr>\n",
       "    <tr>\n",
       "      <th>4</th>\n",
       "      <td>140.82.112.22</td>\n",
       "      <td>192.168.0.17</td>\n",
       "      <td>443</td>\n",
       "      <td>57278</td>\n",
       "    </tr>\n",
       "    <tr>\n",
       "      <th>...</th>\n",
       "      <td>...</td>\n",
       "      <td>...</td>\n",
       "      <td>...</td>\n",
       "      <td>...</td>\n",
       "    </tr>\n",
       "    <tr>\n",
       "      <th>62</th>\n",
       "      <td>84.54.22.33</td>\n",
       "      <td>10.1.10.53</td>\n",
       "      <td>53</td>\n",
       "      <td>53</td>\n",
       "    </tr>\n",
       "    <tr>\n",
       "      <th>63</th>\n",
       "      <td>10.1.10.53</td>\n",
       "      <td>84.54.22.33</td>\n",
       "      <td>53</td>\n",
       "      <td>53</td>\n",
       "    </tr>\n",
       "    <tr>\n",
       "      <th>64</th>\n",
       "      <td>84.54.22.33</td>\n",
       "      <td>10.1.10.53</td>\n",
       "      <td>53</td>\n",
       "      <td>53</td>\n",
       "    </tr>\n",
       "    <tr>\n",
       "      <th>65</th>\n",
       "      <td>10.1.10.53</td>\n",
       "      <td>84.54.22.33</td>\n",
       "      <td>53</td>\n",
       "      <td>53</td>\n",
       "    </tr>\n",
       "    <tr>\n",
       "      <th>66</th>\n",
       "      <td>84.54.22.33</td>\n",
       "      <td>10.1.10.53</td>\n",
       "      <td>53</td>\n",
       "      <td>53</td>\n",
       "    </tr>\n",
       "  </tbody>\n",
       "</table>\n",
       "<p>67 rows × 4 columns</p>\n",
       "</div>"
      ],
      "text/plain": [
       "              src            dst  sport  dport\n",
       "0    192.168.0.17  140.82.112.22  57278    443\n",
       "1   140.82.112.22   192.168.0.17    443  57278\n",
       "2    192.168.0.17  140.82.112.22  57278    443\n",
       "3    192.168.0.17  140.82.112.22  57278    443\n",
       "4   140.82.112.22   192.168.0.17    443  57278\n",
       "..            ...            ...    ...    ...\n",
       "62    84.54.22.33     10.1.10.53     53     53\n",
       "63     10.1.10.53    84.54.22.33     53     53\n",
       "64    84.54.22.33     10.1.10.53     53     53\n",
       "65     10.1.10.53    84.54.22.33     53     53\n",
       "66    84.54.22.33     10.1.10.53     53     53\n",
       "\n",
       "[67 rows x 4 columns]"
      ]
     },
     "execution_count": 10,
     "metadata": {},
     "output_type": "execute_result"
    }
   ],
   "source": [
    "df[['src','dst','sport','dport']]"
   ]
  },
  {
   "cell_type": "code",
   "execution_count": 11,
   "metadata": {},
   "outputs": [
    {
     "data": {
      "text/plain": [
       "(67, 28)"
      ]
     },
     "execution_count": 11,
     "metadata": {},
     "output_type": "execute_result"
    }
   ],
   "source": [
    "df.shape"
   ]
  },
  {
   "attachments": {},
   "cell_type": "markdown",
   "metadata": {},
   "source": [
    "#### Estadistica"
   ]
  },
  {
   "attachments": {},
   "cell_type": "markdown",
   "metadata": {},
   "source": [
    "Muestre cual es la IP origen más frecuente"
   ]
  },
  {
   "cell_type": "code",
   "execution_count": 12,
   "metadata": {},
   "outputs": [
    {
     "data": {
      "text/plain": [
       "10.1.10.53       31\n",
       "84.54.22.33      29\n",
       "192.168.0.17      3\n",
       "140.82.112.22     2\n",
       "75.75.75.75       2\n",
       "Name: src, dtype: int64"
      ]
     },
     "execution_count": 12,
     "metadata": {},
     "output_type": "execute_result"
    }
   ],
   "source": [
    "df['src'].value_counts()\n"
   ]
  },
  {
   "attachments": {},
   "cell_type": "markdown",
   "metadata": {},
   "source": [
    "Muestre cual es la IP destino más frecuente"
   ]
  },
  {
   "cell_type": "code",
   "execution_count": 17,
   "metadata": {},
   "outputs": [
    {
     "data": {
      "text/plain": [
       "10.1.10.53       31\n",
       "84.54.22.33      29\n",
       "140.82.112.22     3\n",
       "192.168.0.17      2\n",
       "75.75.75.75       2\n",
       "Name: dst, dtype: int64"
      ]
     },
     "execution_count": 17,
     "metadata": {},
     "output_type": "execute_result"
    }
   ],
   "source": [
    "df['dst'].value_counts()"
   ]
  },
  {
   "attachments": {},
   "cell_type": "markdown",
   "metadata": {},
   "source": [
    "¿A qué IPs se comunica la IP del inciso a?"
   ]
  },
  {
   "cell_type": "code",
   "execution_count": 14,
   "metadata": {},
   "outputs": [
    {
     "data": {
      "text/plain": [
       "84.54.22.33    29\n",
       "75.75.75.75     2\n",
       "Name: dst, dtype: int64"
      ]
     },
     "execution_count": 14,
     "metadata": {},
     "output_type": "execute_result"
    }
   ],
   "source": [
    "df[df['src'] == '10.1.10.53']['dst'].value_counts()\n"
   ]
  },
  {
   "attachments": {},
   "cell_type": "markdown",
   "metadata": {},
   "source": [
    "¿A qué puertos destino se comunica la IP del inciso a?"
   ]
  },
  {
   "cell_type": "code",
   "execution_count": 15,
   "metadata": {},
   "outputs": [
    {
     "data": {
      "text/plain": [
       "53    31\n",
       "Name: dport, dtype: int64"
      ]
     },
     "execution_count": 15,
     "metadata": {},
     "output_type": "execute_result"
    }
   ],
   "source": [
    "df[df['src'] == '10.1.10.53']['dport'].value_counts()"
   ]
  },
  {
   "attachments": {},
   "cell_type": "markdown",
   "metadata": {},
   "source": [
    "¿A qué puertos origen se comunica la IP del inciso b?"
   ]
  },
  {
   "cell_type": "code",
   "execution_count": 18,
   "metadata": {},
   "outputs": [
    {
     "data": {
      "text/plain": [
       "53       29\n",
       "15812     1\n",
       "23903     1\n",
       "Name: sport, dtype: int64"
      ]
     },
     "execution_count": 18,
     "metadata": {},
     "output_type": "execute_result"
    }
   ],
   "source": [
    "df[df['src'] == '10.1.10.53']['sport'].value_counts()"
   ]
  },
  {
   "attachments": {},
   "cell_type": "markdown",
   "metadata": {},
   "source": [
    "Indique el propósito de los puertos que más aparece en los incisos d y e"
   ]
  },
  {
   "cell_type": "code",
   "execution_count": null,
   "metadata": {},
   "outputs": [],
   "source": []
  },
  {
   "attachments": {},
   "cell_type": "markdown",
   "metadata": {},
   "source": [
    "#### Graficas"
   ]
  },
  {
   "attachments": {},
   "cell_type": "markdown",
   "metadata": {},
   "source": [
    "Muestre una gráfica 2D, en el eje Y las IPs origen, y en el eje X la suma de los payloads enviados de dichas direcciones."
   ]
  },
  {
   "cell_type": "code",
   "execution_count": 21,
   "metadata": {},
   "outputs": [
    {
     "data": {
      "text/plain": [
       "<AxesSubplot:xlabel='src'>"
      ]
     },
     "execution_count": 21,
     "metadata": {},
     "output_type": "execute_result"
    },
    {
     "data": {
      "image/png": "[encoded data removed]",
      "text/plain": [
       "<Figure size 640x480 with 1 Axes>"
      ]
     },
     "metadata": {},
     "output_type": "display_data"
    }
   ],
   "source": [
    "# graph a 2D graph where y axis are IPs org and x axis is the sum of payloads sent to each IP\n",
    "df.groupby('src')['payload'].sum().plot(kind='bar')"
   ]
  },
  {
   "attachments": {},
   "cell_type": "markdown",
   "metadata": {},
   "source": [
    "Muestre una gráfica 2D, en el eje Y las IPs destino, y en el eje X la suma de los payloads recibidos en dichas direcciones."
   ]
  },
  {
   "cell_type": "code",
   "execution_count": 22,
   "metadata": {},
   "outputs": [
    {
     "data": {
      "text/plain": [
       "<AxesSubplot:xlabel='dst'>"
      ]
     },
     "execution_count": 22,
     "metadata": {},
     "output_type": "execute_result"
    },
    {
     "data": {
      "image/png": "[encoded data removed]",
      "text/plain": [
       "<Figure size 640x480 with 1 Axes>"
      ]
     },
     "metadata": {},
     "output_type": "display_data"
    }
   ],
   "source": [
    "df.groupby('dst')['payload'].sum().plot(kind='bar')"
   ]
  },
  {
   "attachments": {},
   "cell_type": "markdown",
   "metadata": {},
   "source": [
    "Muestre una gráfica 2D, en el eje Y los puertos origen, y en el eje X la suma de los payloads enviados de dichos puertos."
   ]
  },
  {
   "cell_type": "code",
   "execution_count": 23,
   "metadata": {},
   "outputs": [
    {
     "data": {
      "text/plain": [
       "<AxesSubplot:xlabel='sport'>"
      ]
     },
     "execution_count": 23,
     "metadata": {},
     "output_type": "execute_result"
    },
    {
     "data": {
      "image/png": "[encoded data removed]",
      "text/plain": [
       "<Figure size 640x480 with 1 Axes>"
      ]
     },
     "metadata": {},
     "output_type": "display_data"
    }
   ],
   "source": [
    "df.groupby('sport')['payload'].sum().plot(kind='bar')"
   ]
  },
  {
   "attachments": {},
   "cell_type": "markdown",
   "metadata": {},
   "source": [
    "Muestre una gráfica 2D, en el eje Y los puertos destino, y en el eje X la suma de los payloads recibidos en dichos puertos"
   ]
  },
  {
   "cell_type": "code",
   "execution_count": 24,
   "metadata": {},
   "outputs": [
    {
     "data": {
      "text/plain": [
       "<AxesSubplot:xlabel='dport'>"
      ]
     },
     "execution_count": 24,
     "metadata": {},
     "output_type": "execute_result"
    },
    {
     "data": {
      "image/png": "[encoded data removed]",
      "text/plain": [
       "<Figure size 640x480 with 1 Axes>"
      ]
     },
     "metadata": {},
     "output_type": "display_data"
    }
   ],
   "source": [
    "df.groupby('dport')['payload'].sum().plot(kind='bar')"
   ]
  },
  {
   "attachments": {},
   "cell_type": "markdown",
   "metadata": {},
   "source": [
    "#### Investigación del payload"
   ]
  },
  {
   "cell_type": "code",
   "execution_count": 28,
   "metadata": {},
   "outputs": [],
   "source": [
    "df2 = df['src'] == '10.1.10.53'\n",
    "df2 = df[df2]\n",
    "\n",
    "# reset index\n",
    "df2 = df2.reset_index()"
   ]
  },
  {
   "cell_type": "code",
   "execution_count": 29,
   "metadata": {},
   "outputs": [],
   "source": [
    "df2 = df2.drop(columns=\"index\")"
   ]
  },
  {
   "cell_type": "code",
   "execution_count": 35,
   "metadata": {},
   "outputs": [
    {
     "data": {
      "text/plain": [
       "src\n",
       "10.1.10.53    28053\n",
       "Name: payload, dtype: object"
      ]
     },
     "execution_count": 35,
     "metadata": {},
     "output_type": "execute_result"
    }
   ],
   "source": [
    "# group by payload \n",
    "df2.groupby('src')['payload'].sum()"
   ]
  },
  {
   "cell_type": "code",
   "execution_count": null,
   "metadata": {},
   "outputs": [],
   "source": []
  }
 ],
 "metadata": {
  "kernelspec": {
   "display_name": "data_sciece_env",
   "language": "python",
   "name": "python3"
  },
  "language_info": {
   "codemirror_mode": {
    "name": "ipython",
    "version": 3
   },
   "file_extension": ".py",
   "mimetype": "text/x-python",
   "name": "python",
   "nbconvert_exporter": "python",
   "pygments_lexer": "ipython3",
   "version": "3.9.6"
  },
  "orig_nbformat": 4
 },
 "nbformat": 4,
 "nbformat_minor": 2
}
